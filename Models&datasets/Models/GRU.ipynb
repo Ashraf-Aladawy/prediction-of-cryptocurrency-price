{
  "cells": [
    {
      "cell_type": "code",
      "execution_count": null,
      "metadata": {
        "colab": {
          "base_uri": "https://localhost:8080/"
        },
        "id": "aHXlQmNi-drS",
        "outputId": "22463897-accf-44d7-cf8f-ee1f81f11b74"
      },
      "outputs": [
        {
          "name": "stdout",
          "output_type": "stream",
          "text": [
            "Mounted at /content/drive\n"
          ]
        }
      ],
      "source": [
        "from google.colab import drive\n",
        "drive.mount('/content/drive')"
      ]
    },
    {
      "cell_type": "code",
      "execution_count": null,
      "metadata": {
        "id": "YbVFK3ZCDlTr"
      },
      "outputs": [],
      "source": [
        "import pandas as pd\n",
        "import numpy as np\n",
        "from sklearn.preprocessing import MinMaxScaler\n",
        "from sklearn.metrics import mean_absolute_error\n",
        "from sklearn.metrics import mean_absolute_percentage_error\n",
        "from sklearn.metrics import mean_squared_error"
      ]
    },
    {
      "cell_type": "code",
      "execution_count": null,
      "metadata": {
        "id": "pOUmtAWPJ9aE"
      },
      "outputs": [],
      "source": [
        "from keras.models import Sequential\n",
        "from keras.layers import GRU\n",
        "from keras.layers import Dropout\n",
        "from keras.layers import Dense"
      ]
    },
    {
      "cell_type": "code",
      "execution_count": null,
      "metadata": {
        "id": "d9pOmHJMKX7G"
      },
      "outputs": [],
      "source": [
        "scaler=MinMaxScaler(feature_range=(0,1))"
      ]
    },
    {
      "cell_type": "code",
      "execution_count": null,
      "metadata": {
        "id": "DrJGnuH0JqSg"
      },
      "outputs": [],
      "source": [
        "\n",
        "def split(size, obs):\n",
        "    x = []\n",
        "    y = []\n",
        "\n",
        "    for i in range(len(obs)-SEQUENCE_SIZE):\n",
        "        #print(i)\n",
        "        window = obs[i:(i+SEQUENCE_SIZE)]\n",
        "        after_window = obs[i+SEQUENCE_SIZE]\n",
        "        window = [[x] for x in window]\n",
        "        #print(\"{} - {}\".format(window,after_window))\n",
        "        x.append(window)\n",
        "        y.append(after_window)\n",
        "\n",
        "    return np.array(x),np.array(y)\n",
        "\n",
        "\n",
        "\n"
      ]
    },
    {
      "cell_type": "markdown",
      "metadata": {
        "id": "2b1WjRxHdVT3"
      },
      "source": [
        "# **...... BITCOIN......**"
      ]
    },
    {
      "cell_type": "code",
      "execution_count": null,
      "metadata": {
        "id": "RvNepTBDFAe5"
      },
      "outputs": [],
      "source": [
        "btcpath='/content/BTC-USD (6).csv'\n"
      ]
    },
    {
      "cell_type": "code",
      "execution_count": null,
      "metadata": {
        "id": "61UeELd0FMV4"
      },
      "outputs": [],
      "source": [
        "btc=pd.read_csv(btcpath)"
      ]
    },
    {
      "cell_type": "code",
      "execution_count": null,
      "metadata": {
        "colab": {
          "base_uri": "https://localhost:8080/",
          "height": 424
        },
        "id": "f8gdRR8UFYWX",
        "outputId": "74f0ca75-0323-423b-ba25-ea3e9891764e"
      },
      "outputs": [
        {
          "data": {
            "application/vnd.google.colaboratory.intrinsic+json": {
              "summary": "{\n  \"name\": \"btc\",\n  \"rows\": 2479,\n  \"fields\": [\n    {\n      \"column\": \"Date\",\n      \"properties\": {\n        \"dtype\": \"object\",\n        \"num_unique_values\": 2479,\n        \"samples\": [\n          \"2021-10-22\",\n          \"2017-09-17\",\n          \"2022-04-02\"\n        ],\n        \"semantic_type\": \"\",\n        \"description\": \"\"\n      }\n    },\n    {\n      \"column\": \"Open\",\n      \"properties\": {\n        \"dtype\": \"number\",\n        \"std\": 16031.620229768292,\n        \"min\": 775.177979,\n        \"max\": 67549.734375,\n        \"num_unique_values\": 2478,\n        \"samples\": [\n          66002.234375,\n          3606.280029,\n          19988.789063\n        ],\n        \"semantic_type\": \"\",\n        \"description\": \"\"\n      }\n    },\n    {\n      \"column\": \"High\",\n      \"properties\": {\n        \"dtype\": \"number\",\n        \"std\": 16425.934189790867,\n        \"min\": 823.307007,\n        \"max\": 68789.625,\n        \"num_unique_values\": 2478,\n        \"samples\": [\n          66600.546875,\n          3664.810059,\n          20031.160156\n        ],\n        \"semantic_type\": \"\",\n        \"description\": \"\"\n      }\n    },\n    {\n      \"column\": \"Low\",\n      \"properties\": {\n        \"dtype\": \"number\",\n        \"std\": 15576.247535061448,\n        \"min\": 755.755981,\n        \"max\": 66382.0625,\n        \"num_unique_values\": 2478,\n        \"samples\": [\n          63610.675781,\n          3445.639893,\n          19636.816406\n        ],\n        \"semantic_type\": \"\",\n        \"description\": \"\"\n      }\n    },\n    {\n      \"column\": \"Close\",\n      \"properties\": {\n        \"dtype\": \"number\",\n        \"std\": 16024.954822960333,\n        \"min\": 777.757019,\n        \"max\": 67566.828125,\n        \"num_unique_values\": 2477,\n        \"samples\": [\n          60692.265625,\n          4065.199951,\n          18837.667969\n        ],\n        \"semantic_type\": \"\",\n        \"description\": \"\"\n      }\n    },\n    {\n      \"column\": \"Adj Close\",\n      \"properties\": {\n        \"dtype\": \"number\",\n        \"std\": 16024.954822960333,\n        \"min\": 777.757019,\n        \"max\": 67566.828125,\n        \"num_unique_values\": 2477,\n        \"samples\": [\n          60692.265625,\n          4065.199951,\n          18837.667969\n        ],\n        \"semantic_type\": \"\",\n        \"description\": \"\"\n      }\n    },\n    {\n      \"column\": \"Volume\",\n      \"properties\": {\n        \"dtype\": \"number\",\n        \"std\": 19358483462,\n        \"min\": 60851700,\n        \"max\": 350967941479,\n        \"num_unique_values\": 2479,\n        \"samples\": [\n          38434082775,\n          1239149952,\n          29336594194\n        ],\n        \"semantic_type\": \"\",\n        \"description\": \"\"\n      }\n    }\n  ]\n}",
              "type": "dataframe",
              "variable_name": "btc"
            },
            "text/html": [
              "\n",
              "  <div id=\"df-dfab093c-2aea-4270-a0f5-57e66559d3dd\" class=\"colab-df-container\">\n",
              "    <div>\n",
              "<style scoped>\n",
              "    .dataframe tbody tr th:only-of-type {\n",
              "        vertical-align: middle;\n",
              "    }\n",
              "\n",
              "    .dataframe tbody tr th {\n",
              "        vertical-align: top;\n",
              "    }\n",
              "\n",
              "    .dataframe thead th {\n",
              "        text-align: right;\n",
              "    }\n",
              "</style>\n",
              "<table border=\"1\" class=\"dataframe\">\n",
              "  <thead>\n",
              "    <tr style=\"text-align: right;\">\n",
              "      <th></th>\n",
              "      <th>Date</th>\n",
              "      <th>Open</th>\n",
              "      <th>High</th>\n",
              "      <th>Low</th>\n",
              "      <th>Close</th>\n",
              "      <th>Adj Close</th>\n",
              "      <th>Volume</th>\n",
              "    </tr>\n",
              "  </thead>\n",
              "  <tbody>\n",
              "    <tr>\n",
              "      <th>0</th>\n",
              "      <td>2017-01-01</td>\n",
              "      <td>963.658020</td>\n",
              "      <td>1003.080017</td>\n",
              "      <td>958.698975</td>\n",
              "      <td>998.325012</td>\n",
              "      <td>998.325012</td>\n",
              "      <td>147775008</td>\n",
              "    </tr>\n",
              "    <tr>\n",
              "      <th>1</th>\n",
              "      <td>2017-01-02</td>\n",
              "      <td>998.617004</td>\n",
              "      <td>1031.390015</td>\n",
              "      <td>996.702026</td>\n",
              "      <td>1021.750000</td>\n",
              "      <td>1021.750000</td>\n",
              "      <td>222184992</td>\n",
              "    </tr>\n",
              "    <tr>\n",
              "      <th>2</th>\n",
              "      <td>2017-01-03</td>\n",
              "      <td>1021.599976</td>\n",
              "      <td>1044.079956</td>\n",
              "      <td>1021.599976</td>\n",
              "      <td>1043.839966</td>\n",
              "      <td>1043.839966</td>\n",
              "      <td>185168000</td>\n",
              "    </tr>\n",
              "    <tr>\n",
              "      <th>3</th>\n",
              "      <td>2017-01-04</td>\n",
              "      <td>1044.400024</td>\n",
              "      <td>1159.420044</td>\n",
              "      <td>1044.400024</td>\n",
              "      <td>1154.729980</td>\n",
              "      <td>1154.729980</td>\n",
              "      <td>344945984</td>\n",
              "    </tr>\n",
              "    <tr>\n",
              "      <th>4</th>\n",
              "      <td>2017-01-05</td>\n",
              "      <td>1156.729980</td>\n",
              "      <td>1191.099976</td>\n",
              "      <td>910.416992</td>\n",
              "      <td>1013.380005</td>\n",
              "      <td>1013.380005</td>\n",
              "      <td>510199008</td>\n",
              "    </tr>\n",
              "    <tr>\n",
              "      <th>...</th>\n",
              "      <td>...</td>\n",
              "      <td>...</td>\n",
              "      <td>...</td>\n",
              "      <td>...</td>\n",
              "      <td>...</td>\n",
              "      <td>...</td>\n",
              "      <td>...</td>\n",
              "    </tr>\n",
              "    <tr>\n",
              "      <th>2474</th>\n",
              "      <td>2023-10-11</td>\n",
              "      <td>27392.076172</td>\n",
              "      <td>27474.115234</td>\n",
              "      <td>26561.099609</td>\n",
              "      <td>26873.320313</td>\n",
              "      <td>26873.320313</td>\n",
              "      <td>13648094333</td>\n",
              "    </tr>\n",
              "    <tr>\n",
              "      <th>2475</th>\n",
              "      <td>2023-10-12</td>\n",
              "      <td>26873.292969</td>\n",
              "      <td>26921.439453</td>\n",
              "      <td>26558.320313</td>\n",
              "      <td>26756.798828</td>\n",
              "      <td>26756.798828</td>\n",
              "      <td>9392909295</td>\n",
              "    </tr>\n",
              "    <tr>\n",
              "      <th>2476</th>\n",
              "      <td>2023-10-13</td>\n",
              "      <td>26752.878906</td>\n",
              "      <td>27092.697266</td>\n",
              "      <td>26686.322266</td>\n",
              "      <td>26862.375000</td>\n",
              "      <td>26862.375000</td>\n",
              "      <td>15165312851</td>\n",
              "    </tr>\n",
              "    <tr>\n",
              "      <th>2477</th>\n",
              "      <td>2023-10-14</td>\n",
              "      <td>26866.203125</td>\n",
              "      <td>26969.000000</td>\n",
              "      <td>26814.585938</td>\n",
              "      <td>26861.707031</td>\n",
              "      <td>26861.707031</td>\n",
              "      <td>5388116782</td>\n",
              "    </tr>\n",
              "    <tr>\n",
              "      <th>2478</th>\n",
              "      <td>2023-10-15</td>\n",
              "      <td>26852.537109</td>\n",
              "      <td>27074.355469</td>\n",
              "      <td>26823.027344</td>\n",
              "      <td>27024.675781</td>\n",
              "      <td>27024.675781</td>\n",
              "      <td>5392823808</td>\n",
              "    </tr>\n",
              "  </tbody>\n",
              "</table>\n",
              "<p>2479 rows × 7 columns</p>\n",
              "</div>\n",
              "    <div class=\"colab-df-buttons\">\n",
              "\n",
              "  <div class=\"colab-df-container\">\n",
              "    <button class=\"colab-df-convert\" onclick=\"convertToInteractive('df-dfab093c-2aea-4270-a0f5-57e66559d3dd')\"\n",
              "            title=\"Convert this dataframe to an interactive table.\"\n",
              "            style=\"display:none;\">\n",
              "\n",
              "  <svg xmlns=\"http://www.w3.org/2000/svg\" height=\"24px\" viewBox=\"0 -960 960 960\">\n",
              "    <path d=\"M120-120v-720h720v720H120Zm60-500h600v-160H180v160Zm220 220h160v-160H400v160Zm0 220h160v-160H400v160ZM180-400h160v-160H180v160Zm440 0h160v-160H620v160ZM180-180h160v-160H180v160Zm440 0h160v-160H620v160Z\"/>\n",
              "  </svg>\n",
              "    </button>\n",
              "\n",
              "  <style>\n",
              "    .colab-df-container {\n",
              "      display:flex;\n",
              "      gap: 12px;\n",
              "    }\n",
              "\n",
              "    .colab-df-convert {\n",
              "      background-color: #E8F0FE;\n",
              "      border: none;\n",
              "      border-radius: 50%;\n",
              "      cursor: pointer;\n",
              "      display: none;\n",
              "      fill: #1967D2;\n",
              "      height: 32px;\n",
              "      padding: 0 0 0 0;\n",
              "      width: 32px;\n",
              "    }\n",
              "\n",
              "    .colab-df-convert:hover {\n",
              "      background-color: #E2EBFA;\n",
              "      box-shadow: 0px 1px 2px rgba(60, 64, 67, 0.3), 0px 1px 3px 1px rgba(60, 64, 67, 0.15);\n",
              "      fill: #174EA6;\n",
              "    }\n",
              "\n",
              "    .colab-df-buttons div {\n",
              "      margin-bottom: 4px;\n",
              "    }\n",
              "\n",
              "    [theme=dark] .colab-df-convert {\n",
              "      background-color: #3B4455;\n",
              "      fill: #D2E3FC;\n",
              "    }\n",
              "\n",
              "    [theme=dark] .colab-df-convert:hover {\n",
              "      background-color: #434B5C;\n",
              "      box-shadow: 0px 1px 3px 1px rgba(0, 0, 0, 0.15);\n",
              "      filter: drop-shadow(0px 1px 2px rgba(0, 0, 0, 0.3));\n",
              "      fill: #FFFFFF;\n",
              "    }\n",
              "  </style>\n",
              "\n",
              "    <script>\n",
              "      const buttonEl =\n",
              "        document.querySelector('#df-dfab093c-2aea-4270-a0f5-57e66559d3dd button.colab-df-convert');\n",
              "      buttonEl.style.display =\n",
              "        google.colab.kernel.accessAllowed ? 'block' : 'none';\n",
              "\n",
              "      async function convertToInteractive(key) {\n",
              "        const element = document.querySelector('#df-dfab093c-2aea-4270-a0f5-57e66559d3dd');\n",
              "        const dataTable =\n",
              "          await google.colab.kernel.invokeFunction('convertToInteractive',\n",
              "                                                    [key], {});\n",
              "        if (!dataTable) return;\n",
              "\n",
              "        const docLinkHtml = 'Like what you see? Visit the ' +\n",
              "          '<a target=\"_blank\" href=https://colab.research.google.com/notebooks/data_table.ipynb>data table notebook</a>'\n",
              "          + ' to learn more about interactive tables.';\n",
              "        element.innerHTML = '';\n",
              "        dataTable['output_type'] = 'display_data';\n",
              "        await google.colab.output.renderOutput(dataTable, element);\n",
              "        const docLink = document.createElement('div');\n",
              "        docLink.innerHTML = docLinkHtml;\n",
              "        element.appendChild(docLink);\n",
              "      }\n",
              "    </script>\n",
              "  </div>\n",
              "\n",
              "\n",
              "<div id=\"df-2974d538-845b-45ee-974c-130a316b8d66\">\n",
              "  <button class=\"colab-df-quickchart\" onclick=\"quickchart('df-2974d538-845b-45ee-974c-130a316b8d66')\"\n",
              "            title=\"Suggest charts\"\n",
              "            style=\"display:none;\">\n",
              "\n",
              "<svg xmlns=\"http://www.w3.org/2000/svg\" height=\"24px\"viewBox=\"0 0 24 24\"\n",
              "     width=\"24px\">\n",
              "    <g>\n",
              "        <path d=\"M19 3H5c-1.1 0-2 .9-2 2v14c0 1.1.9 2 2 2h14c1.1 0 2-.9 2-2V5c0-1.1-.9-2-2-2zM9 17H7v-7h2v7zm4 0h-2V7h2v10zm4 0h-2v-4h2v4z\"/>\n",
              "    </g>\n",
              "</svg>\n",
              "  </button>\n",
              "\n",
              "<style>\n",
              "  .colab-df-quickchart {\n",
              "      --bg-color: #E8F0FE;\n",
              "      --fill-color: #1967D2;\n",
              "      --hover-bg-color: #E2EBFA;\n",
              "      --hover-fill-color: #174EA6;\n",
              "      --disabled-fill-color: #AAA;\n",
              "      --disabled-bg-color: #DDD;\n",
              "  }\n",
              "\n",
              "  [theme=dark] .colab-df-quickchart {\n",
              "      --bg-color: #3B4455;\n",
              "      --fill-color: #D2E3FC;\n",
              "      --hover-bg-color: #434B5C;\n",
              "      --hover-fill-color: #FFFFFF;\n",
              "      --disabled-bg-color: #3B4455;\n",
              "      --disabled-fill-color: #666;\n",
              "  }\n",
              "\n",
              "  .colab-df-quickchart {\n",
              "    background-color: var(--bg-color);\n",
              "    border: none;\n",
              "    border-radius: 50%;\n",
              "    cursor: pointer;\n",
              "    display: none;\n",
              "    fill: var(--fill-color);\n",
              "    height: 32px;\n",
              "    padding: 0;\n",
              "    width: 32px;\n",
              "  }\n",
              "\n",
              "  .colab-df-quickchart:hover {\n",
              "    background-color: var(--hover-bg-color);\n",
              "    box-shadow: 0 1px 2px rgba(60, 64, 67, 0.3), 0 1px 3px 1px rgba(60, 64, 67, 0.15);\n",
              "    fill: var(--button-hover-fill-color);\n",
              "  }\n",
              "\n",
              "  .colab-df-quickchart-complete:disabled,\n",
              "  .colab-df-quickchart-complete:disabled:hover {\n",
              "    background-color: var(--disabled-bg-color);\n",
              "    fill: var(--disabled-fill-color);\n",
              "    box-shadow: none;\n",
              "  }\n",
              "\n",
              "  .colab-df-spinner {\n",
              "    border: 2px solid var(--fill-color);\n",
              "    border-color: transparent;\n",
              "    border-bottom-color: var(--fill-color);\n",
              "    animation:\n",
              "      spin 1s steps(1) infinite;\n",
              "  }\n",
              "\n",
              "  @keyframes spin {\n",
              "    0% {\n",
              "      border-color: transparent;\n",
              "      border-bottom-color: var(--fill-color);\n",
              "      border-left-color: var(--fill-color);\n",
              "    }\n",
              "    20% {\n",
              "      border-color: transparent;\n",
              "      border-left-color: var(--fill-color);\n",
              "      border-top-color: var(--fill-color);\n",
              "    }\n",
              "    30% {\n",
              "      border-color: transparent;\n",
              "      border-left-color: var(--fill-color);\n",
              "      border-top-color: var(--fill-color);\n",
              "      border-right-color: var(--fill-color);\n",
              "    }\n",
              "    40% {\n",
              "      border-color: transparent;\n",
              "      border-right-color: var(--fill-color);\n",
              "      border-top-color: var(--fill-color);\n",
              "    }\n",
              "    60% {\n",
              "      border-color: transparent;\n",
              "      border-right-color: var(--fill-color);\n",
              "    }\n",
              "    80% {\n",
              "      border-color: transparent;\n",
              "      border-right-color: var(--fill-color);\n",
              "      border-bottom-color: var(--fill-color);\n",
              "    }\n",
              "    90% {\n",
              "      border-color: transparent;\n",
              "      border-bottom-color: var(--fill-color);\n",
              "    }\n",
              "  }\n",
              "</style>\n",
              "\n",
              "  <script>\n",
              "    async function quickchart(key) {\n",
              "      const quickchartButtonEl =\n",
              "        document.querySelector('#' + key + ' button');\n",
              "      quickchartButtonEl.disabled = true;  // To prevent multiple clicks.\n",
              "      quickchartButtonEl.classList.add('colab-df-spinner');\n",
              "      try {\n",
              "        const charts = await google.colab.kernel.invokeFunction(\n",
              "            'suggestCharts', [key], {});\n",
              "      } catch (error) {\n",
              "        console.error('Error during call to suggestCharts:', error);\n",
              "      }\n",
              "      quickchartButtonEl.classList.remove('colab-df-spinner');\n",
              "      quickchartButtonEl.classList.add('colab-df-quickchart-complete');\n",
              "    }\n",
              "    (() => {\n",
              "      let quickchartButtonEl =\n",
              "        document.querySelector('#df-2974d538-845b-45ee-974c-130a316b8d66 button');\n",
              "      quickchartButtonEl.style.display =\n",
              "        google.colab.kernel.accessAllowed ? 'block' : 'none';\n",
              "    })();\n",
              "  </script>\n",
              "</div>\n",
              "\n",
              "  <div id=\"id_41ceb671-c5c9-454e-89ff-a6d93637c40c\">\n",
              "    <style>\n",
              "      .colab-df-generate {\n",
              "        background-color: #E8F0FE;\n",
              "        border: none;\n",
              "        border-radius: 50%;\n",
              "        cursor: pointer;\n",
              "        display: none;\n",
              "        fill: #1967D2;\n",
              "        height: 32px;\n",
              "        padding: 0 0 0 0;\n",
              "        width: 32px;\n",
              "      }\n",
              "\n",
              "      .colab-df-generate:hover {\n",
              "        background-color: #E2EBFA;\n",
              "        box-shadow: 0px 1px 2px rgba(60, 64, 67, 0.3), 0px 1px 3px 1px rgba(60, 64, 67, 0.15);\n",
              "        fill: #174EA6;\n",
              "      }\n",
              "\n",
              "      [theme=dark] .colab-df-generate {\n",
              "        background-color: #3B4455;\n",
              "        fill: #D2E3FC;\n",
              "      }\n",
              "\n",
              "      [theme=dark] .colab-df-generate:hover {\n",
              "        background-color: #434B5C;\n",
              "        box-shadow: 0px 1px 3px 1px rgba(0, 0, 0, 0.15);\n",
              "        filter: drop-shadow(0px 1px 2px rgba(0, 0, 0, 0.3));\n",
              "        fill: #FFFFFF;\n",
              "      }\n",
              "    </style>\n",
              "    <button class=\"colab-df-generate\" onclick=\"generateWithVariable('btc')\"\n",
              "            title=\"Generate code using this dataframe.\"\n",
              "            style=\"display:none;\">\n",
              "\n",
              "  <svg xmlns=\"http://www.w3.org/2000/svg\" height=\"24px\"viewBox=\"0 0 24 24\"\n",
              "       width=\"24px\">\n",
              "    <path d=\"M7,19H8.4L18.45,9,17,7.55,7,17.6ZM5,21V16.75L18.45,3.32a2,2,0,0,1,2.83,0l1.4,1.43a1.91,1.91,0,0,1,.58,1.4,1.91,1.91,0,0,1-.58,1.4L9.25,21ZM18.45,9,17,7.55Zm-12,3A5.31,5.31,0,0,0,4.9,8.1,5.31,5.31,0,0,0,1,6.5,5.31,5.31,0,0,0,4.9,4.9,5.31,5.31,0,0,0,6.5,1,5.31,5.31,0,0,0,8.1,4.9,5.31,5.31,0,0,0,12,6.5,5.46,5.46,0,0,0,6.5,12Z\"/>\n",
              "  </svg>\n",
              "    </button>\n",
              "    <script>\n",
              "      (() => {\n",
              "      const buttonEl =\n",
              "        document.querySelector('#id_41ceb671-c5c9-454e-89ff-a6d93637c40c button.colab-df-generate');\n",
              "      buttonEl.style.display =\n",
              "        google.colab.kernel.accessAllowed ? 'block' : 'none';\n",
              "\n",
              "      buttonEl.onclick = () => {\n",
              "        google.colab.notebook.generateWithVariable('btc');\n",
              "      }\n",
              "      })();\n",
              "    </script>\n",
              "  </div>\n",
              "\n",
              "    </div>\n",
              "  </div>\n"
            ],
            "text/plain": [
              "            Date          Open          High           Low         Close  \\\n",
              "0     2017-01-01    963.658020   1003.080017    958.698975    998.325012   \n",
              "1     2017-01-02    998.617004   1031.390015    996.702026   1021.750000   \n",
              "2     2017-01-03   1021.599976   1044.079956   1021.599976   1043.839966   \n",
              "3     2017-01-04   1044.400024   1159.420044   1044.400024   1154.729980   \n",
              "4     2017-01-05   1156.729980   1191.099976    910.416992   1013.380005   \n",
              "...          ...           ...           ...           ...           ...   \n",
              "2474  2023-10-11  27392.076172  27474.115234  26561.099609  26873.320313   \n",
              "2475  2023-10-12  26873.292969  26921.439453  26558.320313  26756.798828   \n",
              "2476  2023-10-13  26752.878906  27092.697266  26686.322266  26862.375000   \n",
              "2477  2023-10-14  26866.203125  26969.000000  26814.585938  26861.707031   \n",
              "2478  2023-10-15  26852.537109  27074.355469  26823.027344  27024.675781   \n",
              "\n",
              "         Adj Close       Volume  \n",
              "0       998.325012    147775008  \n",
              "1      1021.750000    222184992  \n",
              "2      1043.839966    185168000  \n",
              "3      1154.729980    344945984  \n",
              "4      1013.380005    510199008  \n",
              "...            ...          ...  \n",
              "2474  26873.320313  13648094333  \n",
              "2475  26756.798828   9392909295  \n",
              "2476  26862.375000  15165312851  \n",
              "2477  26861.707031   5388116782  \n",
              "2478  27024.675781   5392823808  \n",
              "\n",
              "[2479 rows x 7 columns]"
            ]
          },
          "execution_count": 8,
          "metadata": {},
          "output_type": "execute_result"
        }
      ],
      "source": [
        "btc"
      ]
    },
    {
      "cell_type": "code",
      "execution_count": null,
      "metadata": {
        "id": "jfoQNbyDFbUI"
      },
      "outputs": [],
      "source": [
        "btc_close=btc.iloc[: , 4:5].values"
      ]
    },
    {
      "cell_type": "code",
      "execution_count": null,
      "metadata": {
        "colab": {
          "base_uri": "https://localhost:8080/"
        },
        "id": "V6xCv51DHw8c",
        "outputId": "834ee2b9-c4c4-49ee-99b9-0f951b37bf9f"
      },
      "outputs": [
        {
          "name": "stdout",
          "output_type": "stream",
          "text": [
            "<class 'pandas.core.frame.DataFrame'>\n",
            "RangeIndex: 2479 entries, 0 to 2478\n",
            "Data columns (total 7 columns):\n",
            " #   Column     Non-Null Count  Dtype  \n",
            "---  ------     --------------  -----  \n",
            " 0   Date       2479 non-null   object \n",
            " 1   Open       2479 non-null   float64\n",
            " 2   High       2479 non-null   float64\n",
            " 3   Low        2479 non-null   float64\n",
            " 4   Close      2479 non-null   float64\n",
            " 5   Adj Close  2479 non-null   float64\n",
            " 6   Volume     2479 non-null   int64  \n",
            "dtypes: float64(5), int64(1), object(1)\n",
            "memory usage: 135.7+ KB\n"
          ]
        }
      ],
      "source": [
        "btc.info()"
      ]
    },
    {
      "cell_type": "code",
      "execution_count": null,
      "metadata": {
        "colab": {
          "base_uri": "https://localhost:8080/"
        },
        "id": "NKeMrs36GXSq",
        "outputId": "009d354a-d980-448d-902f-9614f0224957"
      },
      "outputs": [
        {
          "data": {
            "text/plain": [
              "array([[  998.325012],\n",
              "       [ 1021.75    ],\n",
              "       [ 1043.839966],\n",
              "       ...,\n",
              "       [26862.375   ],\n",
              "       [26861.707031],\n",
              "       [27024.675781]])"
            ]
          },
          "execution_count": 11,
          "metadata": {},
          "output_type": "execute_result"
        }
      ],
      "source": [
        "btc_close"
      ]
    },
    {
      "cell_type": "code",
      "execution_count": null,
      "metadata": {
        "id": "h0DN1s0cGfIZ"
      },
      "outputs": [],
      "source": [
        "btc_close=scaler.fit_transform(btc_close)"
      ]
    },
    {
      "cell_type": "code",
      "execution_count": null,
      "metadata": {
        "colab": {
          "base_uri": "https://localhost:8080/"
        },
        "id": "azom0N8zGq24",
        "outputId": "bcdf7f1e-e6ab-439d-d5cc-2081d739991a"
      },
      "outputs": [
        {
          "data": {
            "text/plain": [
              "array([[0.00330246],\n",
              "       [0.00365319],\n",
              "       [0.00398393],\n",
              "       ...,\n",
              "       [0.39055219],\n",
              "       [0.39054219],\n",
              "       [0.39298224]])"
            ]
          },
          "execution_count": 13,
          "metadata": {},
          "output_type": "execute_result"
        }
      ],
      "source": [
        "btc_close"
      ]
    },
    {
      "cell_type": "code",
      "execution_count": null,
      "metadata": {
        "id": "hAtqOCJ4LA65"
      },
      "outputs": [],
      "source": [
        "# Split Data........\n",
        "\n",
        "btc_train_size = int(len(btc_close)*.8 )\n",
        "btc_train=btc_close[:btc_train_size]\n",
        "btc_test=btc_close[btc_train_size:]"
      ]
    },
    {
      "cell_type": "code",
      "execution_count": null,
      "metadata": {
        "colab": {
          "base_uri": "https://localhost:8080/"
        },
        "id": "wFrkGb_oLA67",
        "outputId": "8e9ebbc7-e766-4fd7-96dd-44dfa14ed1d0"
      },
      "outputs": [
        {
          "name": "stdout",
          "output_type": "stream",
          "text": [
            "Shape of training set: (1953, 30, 1, 1)\n",
            "Shape of test set: (466, 30, 1, 1)\n"
          ]
        }
      ],
      "source": [
        "SEQUENCE_SIZE=30\n",
        "btcx_train,btcy_train = split(SEQUENCE_SIZE,btc_train)\n",
        "btcx_test,btcy_test = split(SEQUENCE_SIZE,btc_test)\n",
        "\n",
        "print(\"Shape of training set: {}\".format(btcx_train.shape))\n",
        "print(\"Shape of test set: {}\".format(btcx_test.shape))"
      ]
    },
    {
      "cell_type": "code",
      "execution_count": null,
      "metadata": {
        "id": "FV0D98wJJ1_p"
      },
      "outputs": [],
      "source": [
        "btcx_train = btcx_train.reshape( btcx_train.shape[0], btcx_train.shape[1], 1)"
      ]
    },
    {
      "cell_type": "code",
      "execution_count": null,
      "metadata": {
        "colab": {
          "base_uri": "https://localhost:8080/"
        },
        "id": "MnMoKMak5bmg",
        "outputId": "9d4f3612-1486-4c12-b555-851cf8a51c21"
      },
      "outputs": [
        {
          "data": {
            "text/plain": [
              "(1953, 30, 1)"
            ]
          },
          "execution_count": 17,
          "metadata": {},
          "output_type": "execute_result"
        }
      ],
      "source": [
        "btcx_train.shape"
      ]
    },
    {
      "cell_type": "code",
      "execution_count": null,
      "metadata": {
        "colab": {
          "base_uri": "https://localhost:8080/"
        },
        "id": "KGxLmP2oKzQU",
        "outputId": "87cb0767-5820-4f25-ed2a-8fceb02c7b68"
      },
      "outputs": [
        {
          "name": "stdout",
          "output_type": "stream",
          "text": [
            "Model: \"sequential\"\n",
            "_________________________________________________________________\n",
            " Layer (type)                Output Shape              Param #   \n",
            "=================================================================\n",
            " gru (GRU)                   (None, 30, 30)            2970      \n",
            "                                                                 \n",
            " dropout (Dropout)           (None, 30, 30)            0         \n",
            "                                                                 \n",
            " gru_1 (GRU)                 (None, 30, 60)            16560     \n",
            "                                                                 \n",
            " dropout_1 (Dropout)         (None, 30, 60)            0         \n",
            "                                                                 \n",
            " gru_2 (GRU)                 (None, 30, 90)            41040     \n",
            "                                                                 \n",
            " dropout_2 (Dropout)         (None, 30, 90)            0         \n",
            "                                                                 \n",
            " gru_3 (GRU)                 (None, 120)               76320     \n",
            "                                                                 \n",
            " dropout_3 (Dropout)         (None, 120)               0         \n",
            "                                                                 \n",
            " dense (Dense)               (None, 1)                 121       \n",
            "                                                                 \n",
            "=================================================================\n",
            "Total params: 137011 (535.20 KB)\n",
            "Trainable params: 137011 (535.20 KB)\n",
            "Non-trainable params: 0 (0.00 Byte)\n",
            "_________________________________________________________________\n"
          ]
        }
      ],
      "source": [
        "model=Sequential()\n",
        "model.add(GRU(units=30,return_sequences=True,input_shape=(btcx_train.shape[1],1)))\n",
        "model.add(Dropout(0.2))\n",
        "model.add(GRU(units=60,return_sequences=True))\n",
        "model.add(Dropout(0.2))\n",
        "model.add(GRU(units=90,return_sequences=True))\n",
        "model.add(Dropout(0.2))\n",
        "model.add(GRU(units=120,return_sequences=False))\n",
        "model.add(Dropout(0.2))\n",
        "model.add(Dense(units=1))\n",
        "model.compile(optimizer='adam',loss='mean_squared_error')\n",
        "model.summary()"
      ]
    },
    {
      "cell_type": "code",
      "execution_count": null,
      "metadata": {
        "colab": {
          "background_save": true,
          "base_uri": "https://localhost:8080/"
        },
        "id": "O3WuCDLmQGCP",
        "outputId": "668282ce-f2fd-4b00-f235-41f7d13fc381"
      },
      "outputs": [
        {
          "name": "stdout",
          "output_type": "stream",
          "text": [
            "Epoch 1/100\n",
            "62/62 [==============================] - 14s 82ms/step - loss: 0.0103\n",
            "Epoch 2/100\n",
            "62/62 [==============================] - 7s 109ms/step - loss: 0.0026\n",
            "Epoch 3/100\n",
            "62/62 [==============================] - 5s 81ms/step - loss: 0.0026\n",
            "Epoch 4/100\n",
            "62/62 [==============================] - 5s 86ms/step - loss: 0.0019\n",
            "Epoch 5/100\n",
            "62/62 [==============================] - 6s 96ms/step - loss: 0.0016\n",
            "Epoch 6/100\n",
            "62/62 [==============================] - 5s 80ms/step - loss: 0.0016\n",
            "Epoch 7/100\n",
            "62/62 [==============================] - 7s 109ms/step - loss: 0.0023\n",
            "Epoch 8/100\n",
            "62/62 [==============================] - 5s 78ms/step - loss: 0.0016\n",
            "Epoch 9/100\n",
            "62/62 [==============================] - 5s 80ms/step - loss: 0.0015\n",
            "Epoch 10/100\n",
            "62/62 [==============================] - 7s 108ms/step - loss: 0.0015\n",
            "Epoch 11/100\n",
            "62/62 [==============================] - 5s 79ms/step - loss: 0.0015\n",
            "Epoch 12/100\n",
            "62/62 [==============================] - 8s 126ms/step - loss: 0.0013\n",
            "Epoch 13/100\n",
            "62/62 [==============================] - 8s 131ms/step - loss: 0.0015\n",
            "Epoch 14/100\n",
            "62/62 [==============================] - 6s 103ms/step - loss: 0.0014\n",
            "Epoch 15/100\n",
            "62/62 [==============================] - 5s 75ms/step - loss: 0.0012\n",
            "Epoch 16/100\n",
            "62/62 [==============================] - 5s 76ms/step - loss: 0.0012\n",
            "Epoch 17/100\n",
            "62/62 [==============================] - 6s 99ms/step - loss: 0.0016\n",
            "Epoch 18/100\n",
            "62/62 [==============================] - 5s 77ms/step - loss: 0.0014\n",
            "Epoch 19/100\n",
            "62/62 [==============================] - 6s 95ms/step - loss: 0.0012\n",
            "Epoch 20/100\n",
            "62/62 [==============================] - 5s 88ms/step - loss: 0.0012\n",
            "Epoch 21/100\n",
            "62/62 [==============================] - 5s 79ms/step - loss: 0.0011\n",
            "Epoch 22/100\n",
            "62/62 [==============================] - 6s 100ms/step - loss: 0.0012\n",
            "Epoch 23/100\n",
            "62/62 [==============================] - 5s 80ms/step - loss: 0.0013\n",
            "Epoch 24/100\n",
            "62/62 [==============================] - 5s 85ms/step - loss: 0.0012\n",
            "Epoch 25/100\n",
            "62/62 [==============================] - 6s 96ms/step - loss: 0.0014\n",
            "Epoch 26/100\n",
            "62/62 [==============================] - 5s 84ms/step - loss: 0.0013\n",
            "Epoch 27/100\n",
            "62/62 [==============================] - 6s 99ms/step - loss: 0.0019\n",
            "Epoch 28/100\n",
            "62/62 [==============================] - 5s 73ms/step - loss: 0.0011\n",
            "Epoch 29/100\n",
            "62/62 [==============================] - 5s 87ms/step - loss: 0.0011\n",
            "Epoch 30/100\n",
            "62/62 [==============================] - 9s 145ms/step - loss: 0.0011\n",
            "Epoch 31/100\n",
            "62/62 [==============================] - 5s 74ms/step - loss: 0.0012\n",
            "Epoch 32/100\n",
            "62/62 [==============================] - 6s 93ms/step - loss: 0.0011\n",
            "Epoch 33/100\n",
            "62/62 [==============================] - 5s 77ms/step - loss: 0.0012\n",
            "Epoch 34/100\n",
            "62/62 [==============================] - 4s 72ms/step - loss: 9.8407e-04\n",
            "Epoch 35/100\n",
            "62/62 [==============================] - 6s 96ms/step - loss: 0.0012\n",
            "Epoch 36/100\n",
            "62/62 [==============================] - 4s 72ms/step - loss: 0.0012\n",
            "Epoch 37/100\n",
            "62/62 [==============================] - 5s 83ms/step - loss: 0.0016\n",
            "Epoch 38/100\n",
            "62/62 [==============================] - 6s 91ms/step - loss: 0.0011\n",
            "Epoch 39/100\n",
            "62/62 [==============================] - 4s 72ms/step - loss: 0.0011\n",
            "Epoch 40/100\n",
            "62/62 [==============================] - 6s 89ms/step - loss: 0.0010\n",
            "Epoch 41/100\n",
            "62/62 [==============================] - 5s 84ms/step - loss: 0.0019\n",
            "Epoch 42/100\n",
            "62/62 [==============================] - 5s 79ms/step - loss: 0.0010\n",
            "Epoch 43/100\n",
            "62/62 [==============================] - 6s 100ms/step - loss: 9.6803e-04\n",
            "Epoch 44/100\n",
            "62/62 [==============================] - 5s 73ms/step - loss: 8.8101e-04\n",
            "Epoch 45/100\n",
            "62/62 [==============================] - 5s 79ms/step - loss: 0.0011\n",
            "Epoch 46/100\n",
            "62/62 [==============================] - 6s 98ms/step - loss: 9.4475e-04\n",
            "Epoch 47/100\n",
            "62/62 [==============================] - 5s 75ms/step - loss: 8.9865e-04\n",
            "Epoch 48/100\n",
            "62/62 [==============================] - 6s 96ms/step - loss: 9.9370e-04\n",
            "Epoch 49/100\n",
            "62/62 [==============================] - 5s 73ms/step - loss: 9.4761e-04\n",
            "Epoch 50/100\n",
            "62/62 [==============================] - 4s 73ms/step - loss: 8.8866e-04\n",
            "Epoch 51/100\n",
            "62/62 [==============================] - 6s 100ms/step - loss: 9.9014e-04\n",
            "Epoch 52/100\n",
            "62/62 [==============================] - 5s 76ms/step - loss: 8.8921e-04\n",
            "Epoch 53/100\n",
            "62/62 [==============================] - 6s 95ms/step - loss: 0.0011\n",
            "Epoch 54/100\n",
            "62/62 [==============================] - 5s 79ms/step - loss: 0.0014\n",
            "Epoch 55/100\n",
            "62/62 [==============================] - 5s 76ms/step - loss: 9.6407e-04\n",
            "Epoch 56/100\n",
            "62/62 [==============================] - 6s 95ms/step - loss: 8.5804e-04\n",
            "Epoch 57/100\n",
            "62/62 [==============================] - 4s 72ms/step - loss: 0.0010\n",
            "Epoch 58/100\n",
            "62/62 [==============================] - 5s 73ms/step - loss: 0.0011\n",
            "Epoch 59/100\n",
            "62/62 [==============================] - 6s 102ms/step - loss: 9.7829e-04\n",
            "Epoch 60/100\n",
            "62/62 [==============================] - 5s 77ms/step - loss: 8.3878e-04\n",
            "Epoch 61/100\n",
            "62/62 [==============================] - 6s 100ms/step - loss: 0.0012\n",
            "Epoch 62/100\n",
            "62/62 [==============================] - 5s 75ms/step - loss: 8.2887e-04\n",
            "Epoch 63/100\n",
            "62/62 [==============================] - 5s 73ms/step - loss: 8.1538e-04\n",
            "Epoch 64/100\n",
            "62/62 [==============================] - 6s 96ms/step - loss: 0.0010\n",
            "Epoch 65/100\n",
            "62/62 [==============================] - 4s 71ms/step - loss: 8.9113e-04\n",
            "Epoch 66/100\n",
            "62/62 [==============================] - 5s 76ms/step - loss: 9.6402e-04\n",
            "Epoch 67/100\n",
            "62/62 [==============================] - 6s 91ms/step - loss: 9.1989e-04\n",
            "Epoch 68/100\n",
            "62/62 [==============================] - 5s 73ms/step - loss: 0.0015\n",
            "Epoch 69/100\n",
            "62/62 [==============================] - 6s 91ms/step - loss: 8.7183e-04\n",
            "Epoch 70/100\n",
            "62/62 [==============================] - 5s 79ms/step - loss: 8.7558e-04\n",
            "Epoch 71/100\n",
            "62/62 [==============================] - 5s 74ms/step - loss: 0.0010\n",
            "Epoch 72/100\n",
            "62/62 [==============================] - 6s 100ms/step - loss: 8.2302e-04\n",
            "Epoch 73/100\n",
            "62/62 [==============================] - 4s 72ms/step - loss: 9.3355e-04\n",
            "Epoch 74/100\n",
            "62/62 [==============================] - 5s 78ms/step - loss: 7.1855e-04\n",
            "Epoch 75/100\n",
            "62/62 [==============================] - 6s 96ms/step - loss: 7.7100e-04\n",
            "Epoch 76/100\n",
            "62/62 [==============================] - 5s 81ms/step - loss: 9.5925e-04\n",
            "Epoch 77/100\n",
            "62/62 [==============================] - 6s 103ms/step - loss: 8.0528e-04\n",
            "Epoch 78/100\n",
            "62/62 [==============================] - 5s 73ms/step - loss: 9.5434e-04\n",
            "Epoch 79/100\n",
            "62/62 [==============================] - 5s 76ms/step - loss: 8.4802e-04\n",
            "Epoch 80/100\n",
            "62/62 [==============================] - 6s 100ms/step - loss: 7.9678e-04\n",
            "Epoch 81/100\n",
            "62/62 [==============================] - 5s 77ms/step - loss: 7.0118e-04\n",
            "Epoch 82/100\n",
            "62/62 [==============================] - 6s 103ms/step - loss: 7.7947e-04\n",
            "Epoch 83/100\n",
            "62/62 [==============================] - 5s 76ms/step - loss: 8.4658e-04\n",
            "Epoch 84/100\n",
            "62/62 [==============================] - 5s 76ms/step - loss: 7.8159e-04\n",
            "Epoch 85/100\n",
            "62/62 [==============================] - 6s 103ms/step - loss: 7.7277e-04\n",
            "Epoch 86/100\n",
            "62/62 [==============================] - 5s 78ms/step - loss: 7.8909e-04\n",
            "Epoch 87/100\n",
            "62/62 [==============================] - 6s 89ms/step - loss: 7.9892e-04\n",
            "Epoch 88/100\n",
            "62/62 [==============================] - 5s 85ms/step - loss: 7.9374e-04\n",
            "Epoch 89/100\n",
            "62/62 [==============================] - 5s 75ms/step - loss: 7.6364e-04\n",
            "Epoch 90/100\n",
            "62/62 [==============================] - 6s 98ms/step - loss: 7.0295e-04\n",
            "Epoch 91/100\n",
            "62/62 [==============================] - 5s 78ms/step - loss: 0.0012\n",
            "Epoch 92/100\n",
            "62/62 [==============================] - 5s 88ms/step - loss: 8.7639e-04\n",
            "Epoch 93/100\n",
            "62/62 [==============================] - 6s 90ms/step - loss: 9.0577e-04\n",
            "Epoch 94/100\n",
            "62/62 [==============================] - 5s 76ms/step - loss: 8.8475e-04\n",
            "Epoch 95/100\n",
            "62/62 [==============================] - 6s 97ms/step - loss: 6.4472e-04\n",
            "Epoch 96/100\n",
            "62/62 [==============================] - 5s 77ms/step - loss: 7.8781e-04\n",
            "Epoch 97/100\n",
            "62/62 [==============================] - 5s 82ms/step - loss: 8.4364e-04\n",
            "Epoch 98/100\n",
            "62/62 [==============================] - 6s 98ms/step - loss: 7.5866e-04\n",
            "Epoch 99/100\n",
            "62/62 [==============================] - 5s 74ms/step - loss: 8.7530e-04\n",
            "Epoch 100/100\n",
            "62/62 [==============================] - 6s 99ms/step - loss: 7.4554e-04\n"
          ]
        },
        {
          "data": {
            "text/plain": [
              "<keras.src.callbacks.History at 0x7d42496a3f70>"
            ]
          },
          "execution_count": 19,
          "metadata": {},
          "output_type": "execute_result"
        }
      ],
      "source": [
        "model.fit(btcx_train,btcy_train,epochs=100,batch_size=32)"
      ]
    },
    {
      "cell_type": "code",
      "execution_count": null,
      "metadata": {
        "colab": {
          "background_save": true
        },
        "id": "VGWowdMCk1O8",
        "outputId": "892a31b6-dade-470b-a10b-6b5231a9f8f4"
      },
      "outputs": [
        {
          "name": "stdout",
          "output_type": "stream",
          "text": [
            "15/15 [==============================] - 3s 35ms/step\n"
          ]
        }
      ],
      "source": [
        "btcy_pred=model.predict(btcx_test)"
      ]
    },
    {
      "cell_type": "code",
      "execution_count": null,
      "metadata": {
        "colab": {
          "background_save": true
        },
        "id": "I3VDcCxruoTS",
        "outputId": "a5494b1d-1d00-475e-e99f-6dbee18ffe8d"
      },
      "outputs": [
        {
          "name": "stdout",
          "output_type": "stream",
          "text": [
            "MAE = 0.014145147771303643\n"
          ]
        }
      ],
      "source": [
        "\n",
        "print('MAE =',mean_absolute_error(btcy_test,btcy_pred))\n"
      ]
    },
    {
      "cell_type": "code",
      "execution_count": null,
      "metadata": {
        "colab": {
          "background_save": true
        },
        "id": "6kimKXxoXOR2",
        "outputId": "719ce567-5718-4969-fc3b-937eb08ef89b"
      },
      "outputs": [
        {
          "name": "stdout",
          "output_type": "stream",
          "text": [
            "MAPE = 0.04169708575259211\n"
          ]
        }
      ],
      "source": [
        "print('MAPE =',mean_absolute_percentage_error(btcy_test,btcy_pred))"
      ]
    },
    {
      "cell_type": "code",
      "execution_count": null,
      "metadata": {
        "colab": {
          "background_save": true
        },
        "id": "Vzad0OzaXl0Z",
        "outputId": "5ed73e99-53bd-45ae-962b-d6de9c2c54c1"
      },
      "outputs": [
        {
          "name": "stdout",
          "output_type": "stream",
          "text": [
            "MSE= 0.00026934359551592456\n"
          ]
        }
      ],
      "source": [
        "print('MSE=',mean_squared_error(btcy_test,btcy_pred))"
      ]
    },
    {
      "cell_type": "code",
      "execution_count": null,
      "metadata": {
        "colab": {
          "background_save": true
        },
        "id": "CiKK6GEFhoo9",
        "outputId": "b0709c6f-dd95-4112-9e63-914cff3ac067"
      },
      "outputs": [
        {
          "name": "stdout",
          "output_type": "stream",
          "text": [
            "RMSE= 0.01641169081831377\n"
          ]
        }
      ],
      "source": [
        "#Root Mean Sqquare Erorr\n",
        "print('RMSE=',np.sqrt(mean_squared_error(btcy_test,btcy_pred)))"
      ]
    },
    {
      "cell_type": "markdown",
      "metadata": {
        "id": "uHg7WsBKhmKo"
      },
      "source": [
        "# **......LETCOIN......**"
      ]
    },
    {
      "cell_type": "code",
      "execution_count": null,
      "metadata": {
        "colab": {
          "background_save": true
        },
        "id": "ybJaV55lielV"
      },
      "outputs": [],
      "source": [
        "ltcpath='/content/LTC-USD (1).csv'\n"
      ]
    },
    {
      "cell_type": "code",
      "execution_count": null,
      "metadata": {
        "colab": {
          "background_save": true
        },
        "id": "mD2mEwi5iel5"
      },
      "outputs": [],
      "source": [
        "ltc=pd.read_csv(ltcpath)"
      ]
    },
    {
      "cell_type": "code",
      "execution_count": null,
      "metadata": {
        "colab": {
          "background_save": true
        },
        "id": "itWVZaGLiel6",
        "outputId": "3adae12a-e40c-4dfe-f087-a2bfb4d5a98e"
      },
      "outputs": [
        {
          "data": {
            "application/vnd.google.colaboratory.intrinsic+json": {
              "summary": "{\n  \"name\": \"ltc\",\n  \"rows\": 3315,\n  \"fields\": [\n    {\n      \"column\": \"Date\",\n      \"properties\": {\n        \"dtype\": \"object\",\n        \"num_unique_values\": 3315,\n        \"samples\": [\n          \"2021-05-09\",\n          \"2019-08-26\",\n          \"2015-05-16\"\n        ],\n        \"semantic_type\": \"\",\n        \"description\": \"\"\n      }\n    },\n    {\n      \"column\": \"Open\",\n      \"properties\": {\n        \"dtype\": \"number\",\n        \"std\": 64.79570164314555,\n        \"min\": 1.15324,\n        \"max\": 387.869171,\n        \"num_unique_values\": 3313,\n        \"samples\": [\n          61.897144,\n          67.308739,\n          1.76328\n        ],\n        \"semantic_type\": \"\",\n        \"description\": \"\"\n      }\n    },\n    {\n      \"column\": \"High\",\n      \"properties\": {\n        \"dtype\": \"number\",\n        \"std\": 67.98568560439486,\n        \"min\": 1.34481,\n        \"max\": 412.960144,\n        \"num_unique_values\": 3311,\n        \"samples\": [\n          3.6373,\n          4.09432,\n          81.039101\n        ],\n        \"semantic_type\": \"\",\n        \"description\": \"\"\n      }\n    },\n    {\n      \"column\": \"Low\",\n      \"properties\": {\n        \"dtype\": \"number\",\n        \"std\": 61.265761181519494,\n        \"min\": 1.11374,\n        \"max\": 345.298828,\n        \"num_unique_values\": 3312,\n        \"samples\": [\n          3.54694,\n          3.86342,\n          74.439201\n        ],\n        \"semantic_type\": \"\",\n        \"description\": \"\"\n      }\n    },\n    {\n      \"column\": \"Close\",\n      \"properties\": {\n        \"dtype\": \"number\",\n        \"std\": 64.75261935175529,\n        \"min\": 1.15701,\n        \"max\": 386.450775,\n        \"num_unique_values\": 3312,\n        \"samples\": [\n          3.63146,\n          4.01382,\n          74.929802\n        ],\n        \"semantic_type\": \"\",\n        \"description\": \"\"\n      }\n    },\n    {\n      \"column\": \"Adj Close\",\n      \"properties\": {\n        \"dtype\": \"number\",\n        \"std\": 64.75261935175529,\n        \"min\": 1.15701,\n        \"max\": 386.450775,\n        \"num_unique_values\": 3312,\n        \"samples\": [\n          3.63146,\n          4.01382,\n          74.929802\n        ],\n        \"semantic_type\": \"\",\n        \"description\": \"\"\n      }\n    },\n    {\n      \"column\": \"Volume\",\n      \"properties\": {\n        \"dtype\": \"number\",\n        \"std\": 2127816632,\n        \"min\": 481714,\n        \"max\": 17994263494,\n        \"num_unique_values\": 3314,\n        \"samples\": [\n          13240769672,\n          2489689274,\n          757344\n        ],\n        \"semantic_type\": \"\",\n        \"description\": \"\"\n      }\n    }\n  ]\n}",
              "type": "dataframe",
              "variable_name": "ltc"
            },
            "text/html": [
              "\n",
              "  <div id=\"df-7d207c9e-3de4-4ac5-bac6-b4e326b3c234\" class=\"colab-df-container\">\n",
              "    <div>\n",
              "<style scoped>\n",
              "    .dataframe tbody tr th:only-of-type {\n",
              "        vertical-align: middle;\n",
              "    }\n",
              "\n",
              "    .dataframe tbody tr th {\n",
              "        vertical-align: top;\n",
              "    }\n",
              "\n",
              "    .dataframe thead th {\n",
              "        text-align: right;\n",
              "    }\n",
              "</style>\n",
              "<table border=\"1\" class=\"dataframe\">\n",
              "  <thead>\n",
              "    <tr style=\"text-align: right;\">\n",
              "      <th></th>\n",
              "      <th>Date</th>\n",
              "      <th>Open</th>\n",
              "      <th>High</th>\n",
              "      <th>Low</th>\n",
              "      <th>Close</th>\n",
              "      <th>Adj Close</th>\n",
              "      <th>Volume</th>\n",
              "    </tr>\n",
              "  </thead>\n",
              "  <tbody>\n",
              "    <tr>\n",
              "      <th>0</th>\n",
              "      <td>2014-09-18</td>\n",
              "      <td>5.065430</td>\n",
              "      <td>5.065430</td>\n",
              "      <td>4.579960</td>\n",
              "      <td>4.685230</td>\n",
              "      <td>4.685230</td>\n",
              "      <td>4569260</td>\n",
              "    </tr>\n",
              "    <tr>\n",
              "      <th>1</th>\n",
              "      <td>2014-09-19</td>\n",
              "      <td>4.687290</td>\n",
              "      <td>4.755820</td>\n",
              "      <td>4.254350</td>\n",
              "      <td>4.327770</td>\n",
              "      <td>4.327770</td>\n",
              "      <td>3917450</td>\n",
              "    </tr>\n",
              "    <tr>\n",
              "      <th>2</th>\n",
              "      <td>2014-09-20</td>\n",
              "      <td>4.329200</td>\n",
              "      <td>4.616080</td>\n",
              "      <td>4.202190</td>\n",
              "      <td>4.286440</td>\n",
              "      <td>4.286440</td>\n",
              "      <td>5490660</td>\n",
              "    </tr>\n",
              "    <tr>\n",
              "      <th>3</th>\n",
              "      <td>2014-09-21</td>\n",
              "      <td>4.263070</td>\n",
              "      <td>4.300130</td>\n",
              "      <td>4.154990</td>\n",
              "      <td>4.245920</td>\n",
              "      <td>4.245920</td>\n",
              "      <td>2931220</td>\n",
              "    </tr>\n",
              "    <tr>\n",
              "      <th>4</th>\n",
              "      <td>2014-09-22</td>\n",
              "      <td>4.245930</td>\n",
              "      <td>4.416880</td>\n",
              "      <td>4.210130</td>\n",
              "      <td>4.242350</td>\n",
              "      <td>4.242350</td>\n",
              "      <td>1855960</td>\n",
              "    </tr>\n",
              "    <tr>\n",
              "      <th>...</th>\n",
              "      <td>...</td>\n",
              "      <td>...</td>\n",
              "      <td>...</td>\n",
              "      <td>...</td>\n",
              "      <td>...</td>\n",
              "      <td>...</td>\n",
              "      <td>...</td>\n",
              "    </tr>\n",
              "    <tr>\n",
              "      <th>3310</th>\n",
              "      <td>2023-10-11</td>\n",
              "      <td>63.619778</td>\n",
              "      <td>63.685921</td>\n",
              "      <td>61.262772</td>\n",
              "      <td>61.499821</td>\n",
              "      <td>61.499821</td>\n",
              "      <td>186389594</td>\n",
              "    </tr>\n",
              "    <tr>\n",
              "      <th>3311</th>\n",
              "      <td>2023-10-12</td>\n",
              "      <td>61.501141</td>\n",
              "      <td>61.521873</td>\n",
              "      <td>60.754681</td>\n",
              "      <td>61.127815</td>\n",
              "      <td>61.127815</td>\n",
              "      <td>171888213</td>\n",
              "    </tr>\n",
              "    <tr>\n",
              "      <th>3312</th>\n",
              "      <td>2023-10-13</td>\n",
              "      <td>61.127197</td>\n",
              "      <td>61.995136</td>\n",
              "      <td>61.112534</td>\n",
              "      <td>61.574059</td>\n",
              "      <td>61.574059</td>\n",
              "      <td>203849754</td>\n",
              "    </tr>\n",
              "    <tr>\n",
              "      <th>3313</th>\n",
              "      <td>2023-10-14</td>\n",
              "      <td>61.574585</td>\n",
              "      <td>61.949982</td>\n",
              "      <td>61.470036</td>\n",
              "      <td>61.665157</td>\n",
              "      <td>61.665157</td>\n",
              "      <td>120785909</td>\n",
              "    </tr>\n",
              "    <tr>\n",
              "      <th>3314</th>\n",
              "      <td>2023-10-15</td>\n",
              "      <td>61.684544</td>\n",
              "      <td>61.921562</td>\n",
              "      <td>61.453850</td>\n",
              "      <td>61.762432</td>\n",
              "      <td>61.762432</td>\n",
              "      <td>120961840</td>\n",
              "    </tr>\n",
              "  </tbody>\n",
              "</table>\n",
              "<p>3315 rows × 7 columns</p>\n",
              "</div>\n",
              "    <div class=\"colab-df-buttons\">\n",
              "\n",
              "  <div class=\"colab-df-container\">\n",
              "    <button class=\"colab-df-convert\" onclick=\"convertToInteractive('df-7d207c9e-3de4-4ac5-bac6-b4e326b3c234')\"\n",
              "            title=\"Convert this dataframe to an interactive table.\"\n",
              "            style=\"display:none;\">\n",
              "\n",
              "  <svg xmlns=\"http://www.w3.org/2000/svg\" height=\"24px\" viewBox=\"0 -960 960 960\">\n",
              "    <path d=\"M120-120v-720h720v720H120Zm60-500h600v-160H180v160Zm220 220h160v-160H400v160Zm0 220h160v-160H400v160ZM180-400h160v-160H180v160Zm440 0h160v-160H620v160ZM180-180h160v-160H180v160Zm440 0h160v-160H620v160Z\"/>\n",
              "  </svg>\n",
              "    </button>\n",
              "\n",
              "  <style>\n",
              "    .colab-df-container {\n",
              "      display:flex;\n",
              "      gap: 12px;\n",
              "    }\n",
              "\n",
              "    .colab-df-convert {\n",
              "      background-color: #E8F0FE;\n",
              "      border: none;\n",
              "      border-radius: 50%;\n",
              "      cursor: pointer;\n",
              "      display: none;\n",
              "      fill: #1967D2;\n",
              "      height: 32px;\n",
              "      padding: 0 0 0 0;\n",
              "      width: 32px;\n",
              "    }\n",
              "\n",
              "    .colab-df-convert:hover {\n",
              "      background-color: #E2EBFA;\n",
              "      box-shadow: 0px 1px 2px rgba(60, 64, 67, 0.3), 0px 1px 3px 1px rgba(60, 64, 67, 0.15);\n",
              "      fill: #174EA6;\n",
              "    }\n",
              "\n",
              "    .colab-df-buttons div {\n",
              "      margin-bottom: 4px;\n",
              "    }\n",
              "\n",
              "    [theme=dark] .colab-df-convert {\n",
              "      background-color: #3B4455;\n",
              "      fill: #D2E3FC;\n",
              "    }\n",
              "\n",
              "    [theme=dark] .colab-df-convert:hover {\n",
              "      background-color: #434B5C;\n",
              "      box-shadow: 0px 1px 3px 1px rgba(0, 0, 0, 0.15);\n",
              "      filter: drop-shadow(0px 1px 2px rgba(0, 0, 0, 0.3));\n",
              "      fill: #FFFFFF;\n",
              "    }\n",
              "  </style>\n",
              "\n",
              "    <script>\n",
              "      const buttonEl =\n",
              "        document.querySelector('#df-7d207c9e-3de4-4ac5-bac6-b4e326b3c234 button.colab-df-convert');\n",
              "      buttonEl.style.display =\n",
              "        google.colab.kernel.accessAllowed ? 'block' : 'none';\n",
              "\n",
              "      async function convertToInteractive(key) {\n",
              "        const element = document.querySelector('#df-7d207c9e-3de4-4ac5-bac6-b4e326b3c234');\n",
              "        const dataTable =\n",
              "          await google.colab.kernel.invokeFunction('convertToInteractive',\n",
              "                                                    [key], {});\n",
              "        if (!dataTable) return;\n",
              "\n",
              "        const docLinkHtml = 'Like what you see? Visit the ' +\n",
              "          '<a target=\"_blank\" href=https://colab.research.google.com/notebooks/data_table.ipynb>data table notebook</a>'\n",
              "          + ' to learn more about interactive tables.';\n",
              "        element.innerHTML = '';\n",
              "        dataTable['output_type'] = 'display_data';\n",
              "        await google.colab.output.renderOutput(dataTable, element);\n",
              "        const docLink = document.createElement('div');\n",
              "        docLink.innerHTML = docLinkHtml;\n",
              "        element.appendChild(docLink);\n",
              "      }\n",
              "    </script>\n",
              "  </div>\n",
              "\n",
              "\n",
              "<div id=\"df-843ba157-2ad7-42d6-bd0c-3d96fad77026\">\n",
              "  <button class=\"colab-df-quickchart\" onclick=\"quickchart('df-843ba157-2ad7-42d6-bd0c-3d96fad77026')\"\n",
              "            title=\"Suggest charts\"\n",
              "            style=\"display:none;\">\n",
              "\n",
              "<svg xmlns=\"http://www.w3.org/2000/svg\" height=\"24px\"viewBox=\"0 0 24 24\"\n",
              "     width=\"24px\">\n",
              "    <g>\n",
              "        <path d=\"M19 3H5c-1.1 0-2 .9-2 2v14c0 1.1.9 2 2 2h14c1.1 0 2-.9 2-2V5c0-1.1-.9-2-2-2zM9 17H7v-7h2v7zm4 0h-2V7h2v10zm4 0h-2v-4h2v4z\"/>\n",
              "    </g>\n",
              "</svg>\n",
              "  </button>\n",
              "\n",
              "<style>\n",
              "  .colab-df-quickchart {\n",
              "      --bg-color: #E8F0FE;\n",
              "      --fill-color: #1967D2;\n",
              "      --hover-bg-color: #E2EBFA;\n",
              "      --hover-fill-color: #174EA6;\n",
              "      --disabled-fill-color: #AAA;\n",
              "      --disabled-bg-color: #DDD;\n",
              "  }\n",
              "\n",
              "  [theme=dark] .colab-df-quickchart {\n",
              "      --bg-color: #3B4455;\n",
              "      --fill-color: #D2E3FC;\n",
              "      --hover-bg-color: #434B5C;\n",
              "      --hover-fill-color: #FFFFFF;\n",
              "      --disabled-bg-color: #3B4455;\n",
              "      --disabled-fill-color: #666;\n",
              "  }\n",
              "\n",
              "  .colab-df-quickchart {\n",
              "    background-color: var(--bg-color);\n",
              "    border: none;\n",
              "    border-radius: 50%;\n",
              "    cursor: pointer;\n",
              "    display: none;\n",
              "    fill: var(--fill-color);\n",
              "    height: 32px;\n",
              "    padding: 0;\n",
              "    width: 32px;\n",
              "  }\n",
              "\n",
              "  .colab-df-quickchart:hover {\n",
              "    background-color: var(--hover-bg-color);\n",
              "    box-shadow: 0 1px 2px rgba(60, 64, 67, 0.3), 0 1px 3px 1px rgba(60, 64, 67, 0.15);\n",
              "    fill: var(--button-hover-fill-color);\n",
              "  }\n",
              "\n",
              "  .colab-df-quickchart-complete:disabled,\n",
              "  .colab-df-quickchart-complete:disabled:hover {\n",
              "    background-color: var(--disabled-bg-color);\n",
              "    fill: var(--disabled-fill-color);\n",
              "    box-shadow: none;\n",
              "  }\n",
              "\n",
              "  .colab-df-spinner {\n",
              "    border: 2px solid var(--fill-color);\n",
              "    border-color: transparent;\n",
              "    border-bottom-color: var(--fill-color);\n",
              "    animation:\n",
              "      spin 1s steps(1) infinite;\n",
              "  }\n",
              "\n",
              "  @keyframes spin {\n",
              "    0% {\n",
              "      border-color: transparent;\n",
              "      border-bottom-color: var(--fill-color);\n",
              "      border-left-color: var(--fill-color);\n",
              "    }\n",
              "    20% {\n",
              "      border-color: transparent;\n",
              "      border-left-color: var(--fill-color);\n",
              "      border-top-color: var(--fill-color);\n",
              "    }\n",
              "    30% {\n",
              "      border-color: transparent;\n",
              "      border-left-color: var(--fill-color);\n",
              "      border-top-color: var(--fill-color);\n",
              "      border-right-color: var(--fill-color);\n",
              "    }\n",
              "    40% {\n",
              "      border-color: transparent;\n",
              "      border-right-color: var(--fill-color);\n",
              "      border-top-color: var(--fill-color);\n",
              "    }\n",
              "    60% {\n",
              "      border-color: transparent;\n",
              "      border-right-color: var(--fill-color);\n",
              "    }\n",
              "    80% {\n",
              "      border-color: transparent;\n",
              "      border-right-color: var(--fill-color);\n",
              "      border-bottom-color: var(--fill-color);\n",
              "    }\n",
              "    90% {\n",
              "      border-color: transparent;\n",
              "      border-bottom-color: var(--fill-color);\n",
              "    }\n",
              "  }\n",
              "</style>\n",
              "\n",
              "  <script>\n",
              "    async function quickchart(key) {\n",
              "      const quickchartButtonEl =\n",
              "        document.querySelector('#' + key + ' button');\n",
              "      quickchartButtonEl.disabled = true;  // To prevent multiple clicks.\n",
              "      quickchartButtonEl.classList.add('colab-df-spinner');\n",
              "      try {\n",
              "        const charts = await google.colab.kernel.invokeFunction(\n",
              "            'suggestCharts', [key], {});\n",
              "      } catch (error) {\n",
              "        console.error('Error during call to suggestCharts:', error);\n",
              "      }\n",
              "      quickchartButtonEl.classList.remove('colab-df-spinner');\n",
              "      quickchartButtonEl.classList.add('colab-df-quickchart-complete');\n",
              "    }\n",
              "    (() => {\n",
              "      let quickchartButtonEl =\n",
              "        document.querySelector('#df-843ba157-2ad7-42d6-bd0c-3d96fad77026 button');\n",
              "      quickchartButtonEl.style.display =\n",
              "        google.colab.kernel.accessAllowed ? 'block' : 'none';\n",
              "    })();\n",
              "  </script>\n",
              "</div>\n",
              "\n",
              "  <div id=\"id_6cfdc30a-4ab6-46a3-bfcc-b2e4a7a758da\">\n",
              "    <style>\n",
              "      .colab-df-generate {\n",
              "        background-color: #E8F0FE;\n",
              "        border: none;\n",
              "        border-radius: 50%;\n",
              "        cursor: pointer;\n",
              "        display: none;\n",
              "        fill: #1967D2;\n",
              "        height: 32px;\n",
              "        padding: 0 0 0 0;\n",
              "        width: 32px;\n",
              "      }\n",
              "\n",
              "      .colab-df-generate:hover {\n",
              "        background-color: #E2EBFA;\n",
              "        box-shadow: 0px 1px 2px rgba(60, 64, 67, 0.3), 0px 1px 3px 1px rgba(60, 64, 67, 0.15);\n",
              "        fill: #174EA6;\n",
              "      }\n",
              "\n",
              "      [theme=dark] .colab-df-generate {\n",
              "        background-color: #3B4455;\n",
              "        fill: #D2E3FC;\n",
              "      }\n",
              "\n",
              "      [theme=dark] .colab-df-generate:hover {\n",
              "        background-color: #434B5C;\n",
              "        box-shadow: 0px 1px 3px 1px rgba(0, 0, 0, 0.15);\n",
              "        filter: drop-shadow(0px 1px 2px rgba(0, 0, 0, 0.3));\n",
              "        fill: #FFFFFF;\n",
              "      }\n",
              "    </style>\n",
              "    <button class=\"colab-df-generate\" onclick=\"generateWithVariable('ltc')\"\n",
              "            title=\"Generate code using this dataframe.\"\n",
              "            style=\"display:none;\">\n",
              "\n",
              "  <svg xmlns=\"http://www.w3.org/2000/svg\" height=\"24px\"viewBox=\"0 0 24 24\"\n",
              "       width=\"24px\">\n",
              "    <path d=\"M7,19H8.4L18.45,9,17,7.55,7,17.6ZM5,21V16.75L18.45,3.32a2,2,0,0,1,2.83,0l1.4,1.43a1.91,1.91,0,0,1,.58,1.4,1.91,1.91,0,0,1-.58,1.4L9.25,21ZM18.45,9,17,7.55Zm-12,3A5.31,5.31,0,0,0,4.9,8.1,5.31,5.31,0,0,0,1,6.5,5.31,5.31,0,0,0,4.9,4.9,5.31,5.31,0,0,0,6.5,1,5.31,5.31,0,0,0,8.1,4.9,5.31,5.31,0,0,0,12,6.5,5.46,5.46,0,0,0,6.5,12Z\"/>\n",
              "  </svg>\n",
              "    </button>\n",
              "    <script>\n",
              "      (() => {\n",
              "      const buttonEl =\n",
              "        document.querySelector('#id_6cfdc30a-4ab6-46a3-bfcc-b2e4a7a758da button.colab-df-generate');\n",
              "      buttonEl.style.display =\n",
              "        google.colab.kernel.accessAllowed ? 'block' : 'none';\n",
              "\n",
              "      buttonEl.onclick = () => {\n",
              "        google.colab.notebook.generateWithVariable('ltc');\n",
              "      }\n",
              "      })();\n",
              "    </script>\n",
              "  </div>\n",
              "\n",
              "    </div>\n",
              "  </div>\n"
            ],
            "text/plain": [
              "            Date       Open       High        Low      Close  Adj Close  \\\n",
              "0     2014-09-18   5.065430   5.065430   4.579960   4.685230   4.685230   \n",
              "1     2014-09-19   4.687290   4.755820   4.254350   4.327770   4.327770   \n",
              "2     2014-09-20   4.329200   4.616080   4.202190   4.286440   4.286440   \n",
              "3     2014-09-21   4.263070   4.300130   4.154990   4.245920   4.245920   \n",
              "4     2014-09-22   4.245930   4.416880   4.210130   4.242350   4.242350   \n",
              "...          ...        ...        ...        ...        ...        ...   \n",
              "3310  2023-10-11  63.619778  63.685921  61.262772  61.499821  61.499821   \n",
              "3311  2023-10-12  61.501141  61.521873  60.754681  61.127815  61.127815   \n",
              "3312  2023-10-13  61.127197  61.995136  61.112534  61.574059  61.574059   \n",
              "3313  2023-10-14  61.574585  61.949982  61.470036  61.665157  61.665157   \n",
              "3314  2023-10-15  61.684544  61.921562  61.453850  61.762432  61.762432   \n",
              "\n",
              "         Volume  \n",
              "0       4569260  \n",
              "1       3917450  \n",
              "2       5490660  \n",
              "3       2931220  \n",
              "4       1855960  \n",
              "...         ...  \n",
              "3310  186389594  \n",
              "3311  171888213  \n",
              "3312  203849754  \n",
              "3313  120785909  \n",
              "3314  120961840  \n",
              "\n",
              "[3315 rows x 7 columns]"
            ]
          },
          "execution_count": 27,
          "metadata": {},
          "output_type": "execute_result"
        }
      ],
      "source": [
        "ltc"
      ]
    },
    {
      "cell_type": "code",
      "execution_count": null,
      "metadata": {
        "colab": {
          "background_save": true
        },
        "id": "B18ATAkuiel6"
      },
      "outputs": [],
      "source": [
        "ltc_close=ltc.iloc[: , 4:5].values"
      ]
    },
    {
      "cell_type": "code",
      "execution_count": null,
      "metadata": {
        "colab": {
          "background_save": true
        },
        "id": "Z8nJkXdKiel7",
        "outputId": "d72d29a7-c24a-4fba-8479-da487070f848"
      },
      "outputs": [
        {
          "name": "stdout",
          "output_type": "stream",
          "text": [
            "<class 'pandas.core.frame.DataFrame'>\n",
            "RangeIndex: 3315 entries, 0 to 3314\n",
            "Data columns (total 7 columns):\n",
            " #   Column     Non-Null Count  Dtype  \n",
            "---  ------     --------------  -----  \n",
            " 0   Date       3315 non-null   object \n",
            " 1   Open       3315 non-null   float64\n",
            " 2   High       3315 non-null   float64\n",
            " 3   Low        3315 non-null   float64\n",
            " 4   Close      3315 non-null   float64\n",
            " 5   Adj Close  3315 non-null   float64\n",
            " 6   Volume     3315 non-null   int64  \n",
            "dtypes: float64(5), int64(1), object(1)\n",
            "memory usage: 181.4+ KB\n"
          ]
        }
      ],
      "source": [
        "ltc.info()"
      ]
    },
    {
      "cell_type": "code",
      "execution_count": null,
      "metadata": {
        "colab": {
          "background_save": true
        },
        "id": "dHZcEaKAiel7",
        "outputId": "6938c5ca-57f8-4c6a-e219-d6e782405595"
      },
      "outputs": [
        {
          "data": {
            "text/plain": [
              "array([[ 4.68523 ],\n",
              "       [ 4.32777 ],\n",
              "       [ 4.28644 ],\n",
              "       ...,\n",
              "       [61.574059],\n",
              "       [61.665157],\n",
              "       [61.762432]])"
            ]
          },
          "execution_count": 30,
          "metadata": {},
          "output_type": "execute_result"
        }
      ],
      "source": [
        "ltc_close"
      ]
    },
    {
      "cell_type": "code",
      "execution_count": null,
      "metadata": {
        "colab": {
          "background_save": true
        },
        "id": "gHR6DNtIiel8"
      },
      "outputs": [],
      "source": [
        "ltc_close=scaler.fit_transform(ltc_close)"
      ]
    },
    {
      "cell_type": "code",
      "execution_count": null,
      "metadata": {
        "colab": {
          "background_save": true
        },
        "id": "vcGdQuFCiel8",
        "outputId": "61cbb575-9501-4754-a8b6-2ca581aa58f8"
      },
      "outputs": [
        {
          "data": {
            "text/plain": [
              "array([[0.00915722],\n",
              "       [0.00822946],\n",
              "       [0.00812219],\n",
              "       ...,\n",
              "       [0.15680775],\n",
              "       [0.15704419],\n",
              "       [0.15729666]])"
            ]
          },
          "execution_count": 32,
          "metadata": {},
          "output_type": "execute_result"
        }
      ],
      "source": [
        "ltc_close"
      ]
    },
    {
      "cell_type": "code",
      "execution_count": null,
      "metadata": {
        "colab": {
          "background_save": true
        },
        "id": "v7SeeIRFOADY"
      },
      "outputs": [],
      "source": [
        "ltc_train_size = int(len(ltc_close)*.8 )\n",
        "ltc_train=ltc_close[:ltc_train_size]\n",
        "ltc_test=ltc_close[ltc_train_size:]"
      ]
    },
    {
      "cell_type": "code",
      "execution_count": null,
      "metadata": {
        "colab": {
          "background_save": true
        },
        "id": "LKqcA7moOADu",
        "outputId": "4e88fee9-47fc-43ab-920e-7134fd879cd9"
      },
      "outputs": [
        {
          "name": "stdout",
          "output_type": "stream",
          "text": [
            "Shape of training set: (2622, 30, 1, 1)\n",
            "Shape of test set: (633, 30, 1, 1)\n"
          ]
        }
      ],
      "source": [
        "SEQUENCE_SIZE=30\n",
        "ltcx_train,ltcy_train = split(SEQUENCE_SIZE,ltc_train)\n",
        "ltcx_test,ltcy_test = split(SEQUENCE_SIZE,ltc_test)\n",
        "\n",
        "print(\"Shape of training set: {}\".format(ltcx_train.shape))\n",
        "print(\"Shape of test set: {}\".format(ltcx_test.shape))"
      ]
    },
    {
      "cell_type": "code",
      "execution_count": null,
      "metadata": {
        "colab": {
          "background_save": true
        },
        "id": "0uRirW4Giel-"
      },
      "outputs": [],
      "source": [
        "ltcx_train = ltcx_train.reshape( ltcx_train.shape[0], ltcx_train.shape[1], 1)"
      ]
    },
    {
      "cell_type": "code",
      "execution_count": null,
      "metadata": {
        "colab": {
          "background_save": true
        },
        "id": "0HDZ7g9Eiel-",
        "outputId": "a9138f8f-7a38-48f0-e625-eab90fa8291f"
      },
      "outputs": [
        {
          "data": {
            "text/plain": [
              "(2622, 30, 1)"
            ]
          },
          "execution_count": 36,
          "metadata": {},
          "output_type": "execute_result"
        }
      ],
      "source": [
        "ltcx_train.shape"
      ]
    },
    {
      "cell_type": "code",
      "execution_count": null,
      "metadata": {
        "colab": {
          "background_save": true
        },
        "id": "JoKC464Ciel_"
      },
      "outputs": [],
      "source": []
    },
    {
      "cell_type": "code",
      "execution_count": null,
      "metadata": {
        "colab": {
          "background_save": true
        },
        "id": "zvtQccA_iel_",
        "outputId": "83e72ee3-5292-4226-f63d-d6e26324e093"
      },
      "outputs": [
        {
          "name": "stdout",
          "output_type": "stream",
          "text": [
            "Model: \"sequential_1\"\n",
            "_________________________________________________________________\n",
            " Layer (type)                Output Shape              Param #   \n",
            "=================================================================\n",
            " gru_4 (GRU)                 (None, 30, 30)            2970      \n",
            "                                                                 \n",
            " dropout_4 (Dropout)         (None, 30, 30)            0         \n",
            "                                                                 \n",
            " gru_5 (GRU)                 (None, 30, 60)            16560     \n",
            "                                                                 \n",
            " dropout_5 (Dropout)         (None, 30, 60)            0         \n",
            "                                                                 \n",
            " gru_6 (GRU)                 (None, 90)                41040     \n",
            "                                                                 \n",
            " dropout_6 (Dropout)         (None, 90)                0         \n",
            "                                                                 \n",
            " dense_1 (Dense)             (None, 1)                 91        \n",
            "                                                                 \n",
            "=================================================================\n",
            "Total params: 60661 (236.96 KB)\n",
            "Trainable params: 60661 (236.96 KB)\n",
            "Non-trainable params: 0 (0.00 Byte)\n",
            "_________________________________________________________________\n"
          ]
        }
      ],
      "source": [
        "model=Sequential()\n",
        "model.add(GRU(units=30,return_sequences=True,input_shape=(ltcx_train.shape[1],1)))\n",
        "model.add(Dropout(0.2))\n",
        "model.add(GRU(units=60,return_sequences=True))\n",
        "model.add(Dropout(0.2))\n",
        "model.add(GRU(units=90))\n",
        "model.add(Dropout(0.2))\n",
        "model.add(Dense(units=1))\n",
        "model.compile(optimizer='adam',loss='mean_squared_error')\n",
        "model.summary()"
      ]
    },
    {
      "cell_type": "code",
      "execution_count": null,
      "metadata": {
        "colab": {
          "background_save": true
        },
        "id": "8_3yqbI8iemA",
        "outputId": "594df240-90d4-41ab-8236-d14595c1c83d"
      },
      "outputs": [
        {
          "name": "stdout",
          "output_type": "stream",
          "text": [
            "Epoch 1/100\n",
            "88/88 [==============================] - 12s 72ms/step - loss: 0.0051\n",
            "Epoch 2/100\n",
            "88/88 [==============================] - 5s 52ms/step - loss: 0.0013\n",
            "Epoch 3/100\n",
            "88/88 [==============================] - 4s 49ms/step - loss: 0.0013\n",
            "Epoch 4/100\n",
            "88/88 [==============================] - 6s 63ms/step - loss: 0.0015\n",
            "Epoch 5/100\n",
            "88/88 [==============================] - 4s 50ms/step - loss: 0.0011\n",
            "Epoch 6/100\n",
            "88/88 [==============================] - 4s 47ms/step - loss: 0.0010\n",
            "Epoch 7/100\n",
            "88/88 [==============================] - 6s 66ms/step - loss: 0.0012\n",
            "Epoch 8/100\n",
            "88/88 [==============================] - 4s 50ms/step - loss: 0.0012\n",
            "Epoch 9/100\n",
            "88/88 [==============================] - 5s 55ms/step - loss: 9.5464e-04\n",
            "Epoch 10/100\n",
            "88/88 [==============================] - 6s 64ms/step - loss: 9.8750e-04\n",
            "Epoch 11/100\n",
            "88/88 [==============================] - 5s 52ms/step - loss: 8.4230e-04\n",
            "Epoch 12/100\n",
            "88/88 [==============================] - 6s 64ms/step - loss: 8.5593e-04\n",
            "Epoch 13/100\n",
            "88/88 [==============================] - 4s 50ms/step - loss: 8.2840e-04\n",
            "Epoch 14/100\n",
            "88/88 [==============================] - 5s 55ms/step - loss: 8.0686e-04\n",
            "Epoch 15/100\n",
            "88/88 [==============================] - 6s 67ms/step - loss: 8.4029e-04\n",
            "Epoch 16/100\n",
            "88/88 [==============================] - 4s 51ms/step - loss: 8.5921e-04\n",
            "Epoch 17/100\n",
            "88/88 [==============================] - 4s 49ms/step - loss: 7.0205e-04\n",
            "Epoch 18/100\n",
            "88/88 [==============================] - 6s 66ms/step - loss: 8.8958e-04\n",
            "Epoch 19/100\n",
            "88/88 [==============================] - 4s 48ms/step - loss: 9.7983e-04\n",
            "Epoch 20/100\n",
            "88/88 [==============================] - 6s 64ms/step - loss: 9.2296e-04\n",
            "Epoch 21/100\n",
            "88/88 [==============================] - 5s 54ms/step - loss: 8.9900e-04\n",
            "Epoch 22/100\n",
            "88/88 [==============================] - 4s 48ms/step - loss: 8.4799e-04\n",
            "Epoch 23/100\n",
            "88/88 [==============================] - 6s 70ms/step - loss: 8.6353e-04\n",
            "Epoch 24/100\n",
            "88/88 [==============================] - 5s 56ms/step - loss: 8.3596e-04\n",
            "Epoch 25/100\n",
            "88/88 [==============================] - 5s 54ms/step - loss: 7.0063e-04\n",
            "Epoch 26/100\n",
            "88/88 [==============================] - 6s 68ms/step - loss: 8.6534e-04\n",
            "Epoch 27/100\n",
            "88/88 [==============================] - 5s 54ms/step - loss: 7.3142e-04\n",
            "Epoch 28/100\n",
            "88/88 [==============================] - 5s 62ms/step - loss: 7.7869e-04\n",
            "Epoch 29/100\n",
            "88/88 [==============================] - 5s 60ms/step - loss: 7.0483e-04\n",
            "Epoch 30/100\n",
            "88/88 [==============================] - 5s 54ms/step - loss: 7.2369e-04\n",
            "Epoch 31/100\n",
            "88/88 [==============================] - 6s 65ms/step - loss: 8.0751e-04\n",
            "Epoch 32/100\n",
            "88/88 [==============================] - 4s 46ms/step - loss: 8.1198e-04\n",
            "Epoch 33/100\n",
            "88/88 [==============================] - 5s 52ms/step - loss: 7.3917e-04\n",
            "Epoch 34/100\n",
            "88/88 [==============================] - 6s 63ms/step - loss: 6.3283e-04\n",
            "Epoch 35/100\n",
            "88/88 [==============================] - 4s 49ms/step - loss: 7.3269e-04\n",
            "Epoch 36/100\n",
            "88/88 [==============================] - 4s 51ms/step - loss: 7.4660e-04\n",
            "Epoch 37/100\n",
            "88/88 [==============================] - 6s 67ms/step - loss: 6.8688e-04\n",
            "Epoch 38/100\n",
            "88/88 [==============================] - 4s 49ms/step - loss: 7.6583e-04\n",
            "Epoch 39/100\n",
            "88/88 [==============================] - 6s 64ms/step - loss: 7.0099e-04\n",
            "Epoch 40/100\n",
            "88/88 [==============================] - 5s 52ms/step - loss: 7.1324e-04\n",
            "Epoch 41/100\n",
            "88/88 [==============================] - 5s 53ms/step - loss: 6.9209e-04\n",
            "Epoch 42/100\n",
            "88/88 [==============================] - 6s 65ms/step - loss: 8.4159e-04\n",
            "Epoch 43/100\n",
            "88/88 [==============================] - 4s 51ms/step - loss: 6.9215e-04\n",
            "Epoch 44/100\n",
            "88/88 [==============================] - 4s 51ms/step - loss: 7.5592e-04\n",
            "Epoch 45/100\n",
            "88/88 [==============================] - 6s 70ms/step - loss: 7.4941e-04\n",
            "Epoch 46/100\n",
            "88/88 [==============================] - 5s 51ms/step - loss: 6.8453e-04\n",
            "Epoch 47/100\n",
            "88/88 [==============================] - 5s 58ms/step - loss: 7.7238e-04\n",
            "Epoch 48/100\n",
            "88/88 [==============================] - 5s 57ms/step - loss: 6.5157e-04\n",
            "Epoch 49/100\n",
            "88/88 [==============================] - 5s 53ms/step - loss: 6.9369e-04\n",
            "Epoch 50/100\n",
            "88/88 [==============================] - 5s 61ms/step - loss: 7.3293e-04\n",
            "Epoch 51/100\n",
            "88/88 [==============================] - 5s 58ms/step - loss: 7.5074e-04\n",
            "Epoch 52/100\n",
            "88/88 [==============================] - 5s 55ms/step - loss: 6.2461e-04\n",
            "Epoch 53/100\n",
            "88/88 [==============================] - 6s 68ms/step - loss: 6.9735e-04\n",
            "Epoch 54/100\n",
            "88/88 [==============================] - 5s 53ms/step - loss: 6.8383e-04\n",
            "Epoch 55/100\n",
            "88/88 [==============================] - 4s 48ms/step - loss: 6.5186e-04\n",
            "Epoch 56/100\n",
            "88/88 [==============================] - 6s 69ms/step - loss: 6.8508e-04\n",
            "Epoch 57/100\n",
            "88/88 [==============================] - 4s 49ms/step - loss: 6.1956e-04\n",
            "Epoch 58/100\n",
            "88/88 [==============================] - 5s 59ms/step - loss: 7.6069e-04\n",
            "Epoch 59/100\n",
            "88/88 [==============================] - 5s 58ms/step - loss: 6.8101e-04\n",
            "Epoch 60/100\n",
            "88/88 [==============================] - 5s 56ms/step - loss: 7.1164e-04\n",
            "Epoch 61/100\n",
            "88/88 [==============================] - 6s 70ms/step - loss: 7.2034e-04\n",
            "Epoch 62/100\n",
            "88/88 [==============================] - 5s 54ms/step - loss: 6.5865e-04\n",
            "Epoch 63/100\n",
            "88/88 [==============================] - 5s 56ms/step - loss: 7.0627e-04\n",
            "Epoch 64/100\n",
            "88/88 [==============================] - 5s 61ms/step - loss: 6.1606e-04\n",
            "Epoch 65/100\n",
            "88/88 [==============================] - 4s 47ms/step - loss: 6.6804e-04\n",
            "Epoch 66/100\n",
            "88/88 [==============================] - 5s 62ms/step - loss: 7.2044e-04\n",
            "Epoch 67/100\n",
            "88/88 [==============================] - 5s 60ms/step - loss: 6.8126e-04\n",
            "Epoch 68/100\n",
            "88/88 [==============================] - 5s 51ms/step - loss: 7.1189e-04\n",
            "Epoch 69/100\n",
            "88/88 [==============================] - 6s 65ms/step - loss: 6.8156e-04\n",
            "Epoch 70/100\n",
            "88/88 [==============================] - 4s 49ms/step - loss: 5.7724e-04\n",
            "Epoch 71/100\n",
            "88/88 [==============================] - 4s 49ms/step - loss: 6.3343e-04\n",
            "Epoch 72/100\n",
            "88/88 [==============================] - 6s 64ms/step - loss: 6.5335e-04\n",
            "Epoch 73/100\n",
            "88/88 [==============================] - 5s 55ms/step - loss: 6.1037e-04\n",
            "Epoch 74/100\n",
            "88/88 [==============================] - 5s 62ms/step - loss: 6.7683e-04\n",
            "Epoch 75/100\n",
            "88/88 [==============================] - 5s 62ms/step - loss: 7.0162e-04\n",
            "Epoch 76/100\n",
            "88/88 [==============================] - 5s 56ms/step - loss: 6.9717e-04\n",
            "Epoch 77/100\n",
            "88/88 [==============================] - 6s 68ms/step - loss: 5.8540e-04\n",
            "Epoch 78/100\n",
            "88/88 [==============================] - 4s 50ms/step - loss: 6.0101e-04\n",
            "Epoch 79/100\n",
            "88/88 [==============================] - 5s 55ms/step - loss: 6.7478e-04\n",
            "Epoch 80/100\n",
            "88/88 [==============================] - 6s 72ms/step - loss: 6.3237e-04\n",
            "Epoch 81/100\n",
            "88/88 [==============================] - 5s 52ms/step - loss: 6.2531e-04\n",
            "Epoch 82/100\n",
            "88/88 [==============================] - 6s 64ms/step - loss: 6.2279e-04\n",
            "Epoch 83/100\n",
            "88/88 [==============================] - 5s 57ms/step - loss: 6.0573e-04\n",
            "Epoch 84/100\n",
            "88/88 [==============================] - 5s 53ms/step - loss: 6.5420e-04\n",
            "Epoch 85/100\n",
            "88/88 [==============================] - 6s 73ms/step - loss: 6.3172e-04\n",
            "Epoch 86/100\n",
            "88/88 [==============================] - 5s 54ms/step - loss: 6.5204e-04\n",
            "Epoch 87/100\n",
            "88/88 [==============================] - 5s 56ms/step - loss: 6.0321e-04\n",
            "Epoch 88/100\n",
            "88/88 [==============================] - 5s 60ms/step - loss: 6.0168e-04\n",
            "Epoch 89/100\n",
            "88/88 [==============================] - 4s 47ms/step - loss: 6.2656e-04\n",
            "Epoch 90/100\n",
            "88/88 [==============================] - 5s 57ms/step - loss: 5.7114e-04\n",
            "Epoch 91/100\n",
            "88/88 [==============================] - 5s 59ms/step - loss: 5.6512e-04\n",
            "Epoch 92/100\n",
            "88/88 [==============================] - 4s 48ms/step - loss: 6.0457e-04\n",
            "Epoch 93/100\n",
            "88/88 [==============================] - 6s 65ms/step - loss: 6.7502e-04\n",
            "Epoch 94/100\n",
            "88/88 [==============================] - 5s 53ms/step - loss: 6.9809e-04\n",
            "Epoch 95/100\n",
            "88/88 [==============================] - 4s 50ms/step - loss: 7.6033e-04\n",
            "Epoch 96/100\n",
            "88/88 [==============================] - 6s 67ms/step - loss: 5.9249e-04\n",
            "Epoch 97/100\n",
            "88/88 [==============================] - 5s 53ms/step - loss: 6.0945e-04\n",
            "Epoch 98/100\n",
            "88/88 [==============================] - 5s 53ms/step - loss: 5.9026e-04\n",
            "Epoch 99/100\n",
            "88/88 [==============================] - 6s 66ms/step - loss: 6.4307e-04\n",
            "Epoch 100/100\n",
            "88/88 [==============================] - 5s 51ms/step - loss: 6.1886e-04\n"
          ]
        },
        {
          "data": {
            "text/plain": [
              "<keras.src.callbacks.History at 0x7d4242678940>"
            ]
          },
          "execution_count": 38,
          "metadata": {},
          "output_type": "execute_result"
        }
      ],
      "source": [
        "model.fit(ltcx_train,ltcy_train,epochs=100,batch_size=30)"
      ]
    },
    {
      "cell_type": "code",
      "execution_count": null,
      "metadata": {
        "colab": {
          "background_save": true
        },
        "id": "e79pJYN3iemH",
        "outputId": "e6d39678-bebc-4aa0-9854-25a0fc201476"
      },
      "outputs": [
        {
          "name": "stdout",
          "output_type": "stream",
          "text": [
            "20/20 [==============================] - 2s 16ms/step\n"
          ]
        }
      ],
      "source": [
        "ltcy_pred=model.predict(ltcx_test)"
      ]
    },
    {
      "cell_type": "code",
      "execution_count": null,
      "metadata": {
        "colab": {
          "background_save": true
        },
        "id": "XFt8ZdgBiemH",
        "outputId": "ca2ffecb-bb55-4665-cc15-fcddaa34e547"
      },
      "outputs": [
        {
          "name": "stdout",
          "output_type": "stream",
          "text": [
            "MAE = 0.0061135464220387825\n"
          ]
        }
      ],
      "source": [
        "\n",
        "print('MAE =',mean_absolute_error(ltcy_test,ltcy_pred))\n"
      ]
    },
    {
      "cell_type": "code",
      "execution_count": null,
      "metadata": {
        "colab": {
          "background_save": true
        },
        "id": "f3lnIGcviemI",
        "outputId": "eeaab7aa-a134-4a7d-c7a7-c7978a1d5786"
      },
      "outputs": [
        {
          "name": "stdout",
          "output_type": "stream",
          "text": [
            "MAPE = 0.02991507314019749\n"
          ]
        }
      ],
      "source": [
        "print('MAPE =',mean_absolute_percentage_error(ltcy_test,ltcy_pred))"
      ]
    },
    {
      "cell_type": "code",
      "execution_count": null,
      "metadata": {
        "colab": {
          "background_save": true
        },
        "id": "sEMWxMzOiemI",
        "outputId": "5d6b6d98-df04-4204-9abe-8a5ab2413d18"
      },
      "outputs": [
        {
          "name": "stdout",
          "output_type": "stream",
          "text": [
            "MSE= 7.898093480662659e-05\n"
          ]
        }
      ],
      "source": [
        "print('MSE=',mean_squared_error(ltcy_test,ltcy_pred))"
      ]
    },
    {
      "cell_type": "code",
      "execution_count": null,
      "metadata": {
        "colab": {
          "background_save": true
        },
        "id": "TONpN09ZhUl2",
        "outputId": "b9404f02-174b-4411-b285-bb7732ba4360"
      },
      "outputs": [
        {
          "name": "stdout",
          "output_type": "stream",
          "text": [
            "RMSE= 0.008887121851681038\n"
          ]
        }
      ],
      "source": [
        "#Root Mean Squre Erorr\n",
        "print('RMSE=',np.sqrt(mean_squared_error(ltcy_test,ltcy_pred)))"
      ]
    },
    {
      "cell_type": "markdown",
      "metadata": {
        "id": "Fv6jxI_CGYQO"
      },
      "source": [
        "# **......ETHEREUM......**"
      ]
    },
    {
      "cell_type": "code",
      "execution_count": null,
      "metadata": {
        "colab": {
          "background_save": true
        },
        "id": "mvpKcBedGkod"
      },
      "outputs": [],
      "source": []
    },
    {
      "cell_type": "code",
      "execution_count": null,
      "metadata": {
        "colab": {
          "background_save": true
        },
        "id": "Pjfn7rYQGwVi"
      },
      "outputs": [],
      "source": [
        "ethpath='/content/ETH-USD.csv'\n"
      ]
    },
    {
      "cell_type": "code",
      "execution_count": null,
      "metadata": {
        "colab": {
          "background_save": true
        },
        "id": "ZmNfW1p2GwV3"
      },
      "outputs": [],
      "source": [
        "eth=pd.read_csv(ethpath)"
      ]
    },
    {
      "cell_type": "code",
      "execution_count": null,
      "metadata": {
        "colab": {
          "background_save": true
        },
        "id": "FIr-d6jnGwV4",
        "outputId": "0e59b7fa-d28e-498a-d60c-ca925659567a"
      },
      "outputs": [
        {
          "data": {
            "application/vnd.google.colaboratory.intrinsic+json": {
              "summary": "{\n  \"name\": \"eth\",\n  \"rows\": 2145,\n  \"fields\": [\n    {\n      \"column\": \"Date\",\n      \"properties\": {\n        \"dtype\": \"object\",\n        \"num_unique_values\": 2145,\n        \"samples\": [\n          \"2021-08-06\",\n          \"2023-03-19\",\n          \"2018-04-08\"\n        ],\n        \"semantic_type\": \"\",\n        \"description\": \"\"\n      }\n    },\n    {\n      \"column\": \"Open\",\n      \"properties\": {\n        \"dtype\": \"number\",\n        \"std\": 1129.4260901692624,\n        \"min\": 84.279694,\n        \"max\": 4810.071289,\n        \"num_unique_values\": 2144,\n        \"samples\": [\n          2891.70752,\n          1785.41626,\n          385.743011\n        ],\n        \"semantic_type\": \"\",\n        \"description\": \"\"\n      }\n    },\n    {\n      \"column\": \"High\",\n      \"properties\": {\n        \"dtype\": \"number\",\n        \"std\": 1162.3146446023934,\n        \"min\": 85.342743,\n        \"max\": 4891.70459,\n        \"num_unique_values\": 2144,\n        \"samples\": [\n          2944.90332,\n          1843.844116,\n          402.589996\n        ],\n        \"semantic_type\": \"\",\n        \"description\": \"\"\n      }\n    },\n    {\n      \"column\": \"Low\",\n      \"properties\": {\n        \"dtype\": \"number\",\n        \"std\": 1091.7898422612918,\n        \"min\": 82.829887,\n        \"max\": 4718.039063,\n        \"num_unique_values\": 2144,\n        \"samples\": [\n          2727.792725,\n          1728.10376,\n          385.60199\n        ],\n        \"semantic_type\": \"\",\n        \"description\": \"\"\n      }\n    },\n    {\n      \"column\": \"Close\",\n      \"properties\": {\n        \"dtype\": \"number\",\n        \"std\": 1128.903868068726,\n        \"min\": 84.308296,\n        \"max\": 4812.087402,\n        \"num_unique_values\": 2145,\n        \"samples\": [\n          2890.94165,\n          1785.576538,\n          400.507996\n        ],\n        \"semantic_type\": \"\",\n        \"description\": \"\"\n      }\n    },\n    {\n      \"column\": \"Adj Close\",\n      \"properties\": {\n        \"dtype\": \"number\",\n        \"std\": 1128.903868068726,\n        \"min\": 84.308296,\n        \"max\": 4812.087402,\n        \"num_unique_values\": 2145,\n        \"samples\": [\n          2890.94165,\n          1785.576538,\n          400.507996\n        ],\n        \"semantic_type\": \"\",\n        \"description\": \"\"\n      }\n    },\n    {\n      \"column\": \"Volume\",\n      \"properties\": {\n        \"dtype\": \"number\",\n        \"std\": 10295762211,\n        \"min\": 943649984,\n        \"max\": 84482912776,\n        \"num_unique_values\": 2145,\n        \"samples\": [\n          26528577879,\n          9170565472,\n          948488000\n        ],\n        \"semantic_type\": \"\",\n        \"description\": \"\"\n      }\n    }\n  ]\n}",
              "type": "dataframe",
              "variable_name": "eth"
            },
            "text/html": [
              "\n",
              "  <div id=\"df-0c1b4069-86df-427b-9cbb-4cb906cf0629\" class=\"colab-df-container\">\n",
              "    <div>\n",
              "<style scoped>\n",
              "    .dataframe tbody tr th:only-of-type {\n",
              "        vertical-align: middle;\n",
              "    }\n",
              "\n",
              "    .dataframe tbody tr th {\n",
              "        vertical-align: top;\n",
              "    }\n",
              "\n",
              "    .dataframe thead th {\n",
              "        text-align: right;\n",
              "    }\n",
              "</style>\n",
              "<table border=\"1\" class=\"dataframe\">\n",
              "  <thead>\n",
              "    <tr style=\"text-align: right;\">\n",
              "      <th></th>\n",
              "      <th>Date</th>\n",
              "      <th>Open</th>\n",
              "      <th>High</th>\n",
              "      <th>Low</th>\n",
              "      <th>Close</th>\n",
              "      <th>Adj Close</th>\n",
              "      <th>Volume</th>\n",
              "    </tr>\n",
              "  </thead>\n",
              "  <tbody>\n",
              "    <tr>\n",
              "      <th>0</th>\n",
              "      <td>2017-12-01</td>\n",
              "      <td>445.209015</td>\n",
              "      <td>472.609009</td>\n",
              "      <td>428.312012</td>\n",
              "      <td>466.540009</td>\n",
              "      <td>466.540009</td>\n",
              "      <td>1247879936</td>\n",
              "    </tr>\n",
              "    <tr>\n",
              "      <th>1</th>\n",
              "      <td>2017-12-02</td>\n",
              "      <td>466.851013</td>\n",
              "      <td>476.239014</td>\n",
              "      <td>456.653015</td>\n",
              "      <td>463.449005</td>\n",
              "      <td>463.449005</td>\n",
              "      <td>943649984</td>\n",
              "    </tr>\n",
              "    <tr>\n",
              "      <th>2</th>\n",
              "      <td>2017-12-03</td>\n",
              "      <td>463.704987</td>\n",
              "      <td>482.813995</td>\n",
              "      <td>451.851990</td>\n",
              "      <td>465.852997</td>\n",
              "      <td>465.852997</td>\n",
              "      <td>990556992</td>\n",
              "    </tr>\n",
              "    <tr>\n",
              "      <th>3</th>\n",
              "      <td>2017-12-04</td>\n",
              "      <td>466.053986</td>\n",
              "      <td>474.777008</td>\n",
              "      <td>453.312012</td>\n",
              "      <td>470.204010</td>\n",
              "      <td>470.204010</td>\n",
              "      <td>1005550016</td>\n",
              "    </tr>\n",
              "    <tr>\n",
              "      <th>4</th>\n",
              "      <td>2017-12-05</td>\n",
              "      <td>470.294006</td>\n",
              "      <td>473.558014</td>\n",
              "      <td>457.660004</td>\n",
              "      <td>463.281006</td>\n",
              "      <td>463.281006</td>\n",
              "      <td>1216720000</td>\n",
              "    </tr>\n",
              "    <tr>\n",
              "      <th>...</th>\n",
              "      <td>...</td>\n",
              "      <td>...</td>\n",
              "      <td>...</td>\n",
              "      <td>...</td>\n",
              "      <td>...</td>\n",
              "      <td>...</td>\n",
              "      <td>...</td>\n",
              "    </tr>\n",
              "    <tr>\n",
              "      <th>2140</th>\n",
              "      <td>2023-10-11</td>\n",
              "      <td>1567.680786</td>\n",
              "      <td>1578.223511</td>\n",
              "      <td>1548.980469</td>\n",
              "      <td>1566.254761</td>\n",
              "      <td>1566.254761</td>\n",
              "      <td>5416504273</td>\n",
              "    </tr>\n",
              "    <tr>\n",
              "      <th>2141</th>\n",
              "      <td>2023-10-12</td>\n",
              "      <td>1566.355957</td>\n",
              "      <td>1566.878174</td>\n",
              "      <td>1523.237549</td>\n",
              "      <td>1539.612427</td>\n",
              "      <td>1539.612427</td>\n",
              "      <td>5003930677</td>\n",
              "    </tr>\n",
              "    <tr>\n",
              "      <th>2142</th>\n",
              "      <td>2023-10-13</td>\n",
              "      <td>1539.432861</td>\n",
              "      <td>1571.750610</td>\n",
              "      <td>1537.921143</td>\n",
              "      <td>1552.089478</td>\n",
              "      <td>1552.089478</td>\n",
              "      <td>4575141511</td>\n",
              "    </tr>\n",
              "    <tr>\n",
              "      <th>2143</th>\n",
              "      <td>2023-10-14</td>\n",
              "      <td>1552.263794</td>\n",
              "      <td>1560.325073</td>\n",
              "      <td>1545.738770</td>\n",
              "      <td>1555.256836</td>\n",
              "      <td>1555.256836</td>\n",
              "      <td>2429214718</td>\n",
              "    </tr>\n",
              "    <tr>\n",
              "      <th>2144</th>\n",
              "      <td>2023-10-15</td>\n",
              "      <td>1555.137573</td>\n",
              "      <td>1564.875732</td>\n",
              "      <td>1550.554565</td>\n",
              "      <td>1560.048462</td>\n",
              "      <td>1560.048462</td>\n",
              "      <td>2441802752</td>\n",
              "    </tr>\n",
              "  </tbody>\n",
              "</table>\n",
              "<p>2145 rows × 7 columns</p>\n",
              "</div>\n",
              "    <div class=\"colab-df-buttons\">\n",
              "\n",
              "  <div class=\"colab-df-container\">\n",
              "    <button class=\"colab-df-convert\" onclick=\"convertToInteractive('df-0c1b4069-86df-427b-9cbb-4cb906cf0629')\"\n",
              "            title=\"Convert this dataframe to an interactive table.\"\n",
              "            style=\"display:none;\">\n",
              "\n",
              "  <svg xmlns=\"http://www.w3.org/2000/svg\" height=\"24px\" viewBox=\"0 -960 960 960\">\n",
              "    <path d=\"M120-120v-720h720v720H120Zm60-500h600v-160H180v160Zm220 220h160v-160H400v160Zm0 220h160v-160H400v160ZM180-400h160v-160H180v160Zm440 0h160v-160H620v160ZM180-180h160v-160H180v160Zm440 0h160v-160H620v160Z\"/>\n",
              "  </svg>\n",
              "    </button>\n",
              "\n",
              "  <style>\n",
              "    .colab-df-container {\n",
              "      display:flex;\n",
              "      gap: 12px;\n",
              "    }\n",
              "\n",
              "    .colab-df-convert {\n",
              "      background-color: #E8F0FE;\n",
              "      border: none;\n",
              "      border-radius: 50%;\n",
              "      cursor: pointer;\n",
              "      display: none;\n",
              "      fill: #1967D2;\n",
              "      height: 32px;\n",
              "      padding: 0 0 0 0;\n",
              "      width: 32px;\n",
              "    }\n",
              "\n",
              "    .colab-df-convert:hover {\n",
              "      background-color: #E2EBFA;\n",
              "      box-shadow: 0px 1px 2px rgba(60, 64, 67, 0.3), 0px 1px 3px 1px rgba(60, 64, 67, 0.15);\n",
              "      fill: #174EA6;\n",
              "    }\n",
              "\n",
              "    .colab-df-buttons div {\n",
              "      margin-bottom: 4px;\n",
              "    }\n",
              "\n",
              "    [theme=dark] .colab-df-convert {\n",
              "      background-color: #3B4455;\n",
              "      fill: #D2E3FC;\n",
              "    }\n",
              "\n",
              "    [theme=dark] .colab-df-convert:hover {\n",
              "      background-color: #434B5C;\n",
              "      box-shadow: 0px 1px 3px 1px rgba(0, 0, 0, 0.15);\n",
              "      filter: drop-shadow(0px 1px 2px rgba(0, 0, 0, 0.3));\n",
              "      fill: #FFFFFF;\n",
              "    }\n",
              "  </style>\n",
              "\n",
              "    <script>\n",
              "      const buttonEl =\n",
              "        document.querySelector('#df-0c1b4069-86df-427b-9cbb-4cb906cf0629 button.colab-df-convert');\n",
              "      buttonEl.style.display =\n",
              "        google.colab.kernel.accessAllowed ? 'block' : 'none';\n",
              "\n",
              "      async function convertToInteractive(key) {\n",
              "        const element = document.querySelector('#df-0c1b4069-86df-427b-9cbb-4cb906cf0629');\n",
              "        const dataTable =\n",
              "          await google.colab.kernel.invokeFunction('convertToInteractive',\n",
              "                                                    [key], {});\n",
              "        if (!dataTable) return;\n",
              "\n",
              "        const docLinkHtml = 'Like what you see? Visit the ' +\n",
              "          '<a target=\"_blank\" href=https://colab.research.google.com/notebooks/data_table.ipynb>data table notebook</a>'\n",
              "          + ' to learn more about interactive tables.';\n",
              "        element.innerHTML = '';\n",
              "        dataTable['output_type'] = 'display_data';\n",
              "        await google.colab.output.renderOutput(dataTable, element);\n",
              "        const docLink = document.createElement('div');\n",
              "        docLink.innerHTML = docLinkHtml;\n",
              "        element.appendChild(docLink);\n",
              "      }\n",
              "    </script>\n",
              "  </div>\n",
              "\n",
              "\n",
              "<div id=\"df-693aab9a-33a7-4dc0-ac48-c3c6832b9d48\">\n",
              "  <button class=\"colab-df-quickchart\" onclick=\"quickchart('df-693aab9a-33a7-4dc0-ac48-c3c6832b9d48')\"\n",
              "            title=\"Suggest charts\"\n",
              "            style=\"display:none;\">\n",
              "\n",
              "<svg xmlns=\"http://www.w3.org/2000/svg\" height=\"24px\"viewBox=\"0 0 24 24\"\n",
              "     width=\"24px\">\n",
              "    <g>\n",
              "        <path d=\"M19 3H5c-1.1 0-2 .9-2 2v14c0 1.1.9 2 2 2h14c1.1 0 2-.9 2-2V5c0-1.1-.9-2-2-2zM9 17H7v-7h2v7zm4 0h-2V7h2v10zm4 0h-2v-4h2v4z\"/>\n",
              "    </g>\n",
              "</svg>\n",
              "  </button>\n",
              "\n",
              "<style>\n",
              "  .colab-df-quickchart {\n",
              "      --bg-color: #E8F0FE;\n",
              "      --fill-color: #1967D2;\n",
              "      --hover-bg-color: #E2EBFA;\n",
              "      --hover-fill-color: #174EA6;\n",
              "      --disabled-fill-color: #AAA;\n",
              "      --disabled-bg-color: #DDD;\n",
              "  }\n",
              "\n",
              "  [theme=dark] .colab-df-quickchart {\n",
              "      --bg-color: #3B4455;\n",
              "      --fill-color: #D2E3FC;\n",
              "      --hover-bg-color: #434B5C;\n",
              "      --hover-fill-color: #FFFFFF;\n",
              "      --disabled-bg-color: #3B4455;\n",
              "      --disabled-fill-color: #666;\n",
              "  }\n",
              "\n",
              "  .colab-df-quickchart {\n",
              "    background-color: var(--bg-color);\n",
              "    border: none;\n",
              "    border-radius: 50%;\n",
              "    cursor: pointer;\n",
              "    display: none;\n",
              "    fill: var(--fill-color);\n",
              "    height: 32px;\n",
              "    padding: 0;\n",
              "    width: 32px;\n",
              "  }\n",
              "\n",
              "  .colab-df-quickchart:hover {\n",
              "    background-color: var(--hover-bg-color);\n",
              "    box-shadow: 0 1px 2px rgba(60, 64, 67, 0.3), 0 1px 3px 1px rgba(60, 64, 67, 0.15);\n",
              "    fill: var(--button-hover-fill-color);\n",
              "  }\n",
              "\n",
              "  .colab-df-quickchart-complete:disabled,\n",
              "  .colab-df-quickchart-complete:disabled:hover {\n",
              "    background-color: var(--disabled-bg-color);\n",
              "    fill: var(--disabled-fill-color);\n",
              "    box-shadow: none;\n",
              "  }\n",
              "\n",
              "  .colab-df-spinner {\n",
              "    border: 2px solid var(--fill-color);\n",
              "    border-color: transparent;\n",
              "    border-bottom-color: var(--fill-color);\n",
              "    animation:\n",
              "      spin 1s steps(1) infinite;\n",
              "  }\n",
              "\n",
              "  @keyframes spin {\n",
              "    0% {\n",
              "      border-color: transparent;\n",
              "      border-bottom-color: var(--fill-color);\n",
              "      border-left-color: var(--fill-color);\n",
              "    }\n",
              "    20% {\n",
              "      border-color: transparent;\n",
              "      border-left-color: var(--fill-color);\n",
              "      border-top-color: var(--fill-color);\n",
              "    }\n",
              "    30% {\n",
              "      border-color: transparent;\n",
              "      border-left-color: var(--fill-color);\n",
              "      border-top-color: var(--fill-color);\n",
              "      border-right-color: var(--fill-color);\n",
              "    }\n",
              "    40% {\n",
              "      border-color: transparent;\n",
              "      border-right-color: var(--fill-color);\n",
              "      border-top-color: var(--fill-color);\n",
              "    }\n",
              "    60% {\n",
              "      border-color: transparent;\n",
              "      border-right-color: var(--fill-color);\n",
              "    }\n",
              "    80% {\n",
              "      border-color: transparent;\n",
              "      border-right-color: var(--fill-color);\n",
              "      border-bottom-color: var(--fill-color);\n",
              "    }\n",
              "    90% {\n",
              "      border-color: transparent;\n",
              "      border-bottom-color: var(--fill-color);\n",
              "    }\n",
              "  }\n",
              "</style>\n",
              "\n",
              "  <script>\n",
              "    async function quickchart(key) {\n",
              "      const quickchartButtonEl =\n",
              "        document.querySelector('#' + key + ' button');\n",
              "      quickchartButtonEl.disabled = true;  // To prevent multiple clicks.\n",
              "      quickchartButtonEl.classList.add('colab-df-spinner');\n",
              "      try {\n",
              "        const charts = await google.colab.kernel.invokeFunction(\n",
              "            'suggestCharts', [key], {});\n",
              "      } catch (error) {\n",
              "        console.error('Error during call to suggestCharts:', error);\n",
              "      }\n",
              "      quickchartButtonEl.classList.remove('colab-df-spinner');\n",
              "      quickchartButtonEl.classList.add('colab-df-quickchart-complete');\n",
              "    }\n",
              "    (() => {\n",
              "      let quickchartButtonEl =\n",
              "        document.querySelector('#df-693aab9a-33a7-4dc0-ac48-c3c6832b9d48 button');\n",
              "      quickchartButtonEl.style.display =\n",
              "        google.colab.kernel.accessAllowed ? 'block' : 'none';\n",
              "    })();\n",
              "  </script>\n",
              "</div>\n",
              "\n",
              "  <div id=\"id_f9f0cdaf-663e-4812-a8c5-de3bd84479fe\">\n",
              "    <style>\n",
              "      .colab-df-generate {\n",
              "        background-color: #E8F0FE;\n",
              "        border: none;\n",
              "        border-radius: 50%;\n",
              "        cursor: pointer;\n",
              "        display: none;\n",
              "        fill: #1967D2;\n",
              "        height: 32px;\n",
              "        padding: 0 0 0 0;\n",
              "        width: 32px;\n",
              "      }\n",
              "\n",
              "      .colab-df-generate:hover {\n",
              "        background-color: #E2EBFA;\n",
              "        box-shadow: 0px 1px 2px rgba(60, 64, 67, 0.3), 0px 1px 3px 1px rgba(60, 64, 67, 0.15);\n",
              "        fill: #174EA6;\n",
              "      }\n",
              "\n",
              "      [theme=dark] .colab-df-generate {\n",
              "        background-color: #3B4455;\n",
              "        fill: #D2E3FC;\n",
              "      }\n",
              "\n",
              "      [theme=dark] .colab-df-generate:hover {\n",
              "        background-color: #434B5C;\n",
              "        box-shadow: 0px 1px 3px 1px rgba(0, 0, 0, 0.15);\n",
              "        filter: drop-shadow(0px 1px 2px rgba(0, 0, 0, 0.3));\n",
              "        fill: #FFFFFF;\n",
              "      }\n",
              "    </style>\n",
              "    <button class=\"colab-df-generate\" onclick=\"generateWithVariable('eth')\"\n",
              "            title=\"Generate code using this dataframe.\"\n",
              "            style=\"display:none;\">\n",
              "\n",
              "  <svg xmlns=\"http://www.w3.org/2000/svg\" height=\"24px\"viewBox=\"0 0 24 24\"\n",
              "       width=\"24px\">\n",
              "    <path d=\"M7,19H8.4L18.45,9,17,7.55,7,17.6ZM5,21V16.75L18.45,3.32a2,2,0,0,1,2.83,0l1.4,1.43a1.91,1.91,0,0,1,.58,1.4,1.91,1.91,0,0,1-.58,1.4L9.25,21ZM18.45,9,17,7.55Zm-12,3A5.31,5.31,0,0,0,4.9,8.1,5.31,5.31,0,0,0,1,6.5,5.31,5.31,0,0,0,4.9,4.9,5.31,5.31,0,0,0,6.5,1,5.31,5.31,0,0,0,8.1,4.9,5.31,5.31,0,0,0,12,6.5,5.46,5.46,0,0,0,6.5,12Z\"/>\n",
              "  </svg>\n",
              "    </button>\n",
              "    <script>\n",
              "      (() => {\n",
              "      const buttonEl =\n",
              "        document.querySelector('#id_f9f0cdaf-663e-4812-a8c5-de3bd84479fe button.colab-df-generate');\n",
              "      buttonEl.style.display =\n",
              "        google.colab.kernel.accessAllowed ? 'block' : 'none';\n",
              "\n",
              "      buttonEl.onclick = () => {\n",
              "        google.colab.notebook.generateWithVariable('eth');\n",
              "      }\n",
              "      })();\n",
              "    </script>\n",
              "  </div>\n",
              "\n",
              "    </div>\n",
              "  </div>\n"
            ],
            "text/plain": [
              "            Date         Open         High          Low        Close  \\\n",
              "0     2017-12-01   445.209015   472.609009   428.312012   466.540009   \n",
              "1     2017-12-02   466.851013   476.239014   456.653015   463.449005   \n",
              "2     2017-12-03   463.704987   482.813995   451.851990   465.852997   \n",
              "3     2017-12-04   466.053986   474.777008   453.312012   470.204010   \n",
              "4     2017-12-05   470.294006   473.558014   457.660004   463.281006   \n",
              "...          ...          ...          ...          ...          ...   \n",
              "2140  2023-10-11  1567.680786  1578.223511  1548.980469  1566.254761   \n",
              "2141  2023-10-12  1566.355957  1566.878174  1523.237549  1539.612427   \n",
              "2142  2023-10-13  1539.432861  1571.750610  1537.921143  1552.089478   \n",
              "2143  2023-10-14  1552.263794  1560.325073  1545.738770  1555.256836   \n",
              "2144  2023-10-15  1555.137573  1564.875732  1550.554565  1560.048462   \n",
              "\n",
              "        Adj Close      Volume  \n",
              "0      466.540009  1247879936  \n",
              "1      463.449005   943649984  \n",
              "2      465.852997   990556992  \n",
              "3      470.204010  1005550016  \n",
              "4      463.281006  1216720000  \n",
              "...           ...         ...  \n",
              "2140  1566.254761  5416504273  \n",
              "2141  1539.612427  5003930677  \n",
              "2142  1552.089478  4575141511  \n",
              "2143  1555.256836  2429214718  \n",
              "2144  1560.048462  2441802752  \n",
              "\n",
              "[2145 rows x 7 columns]"
            ]
          },
          "execution_count": 46,
          "metadata": {},
          "output_type": "execute_result"
        }
      ],
      "source": [
        "eth"
      ]
    },
    {
      "cell_type": "code",
      "execution_count": null,
      "metadata": {
        "colab": {
          "background_save": true
        },
        "id": "6OmmjYvkGwV4"
      },
      "outputs": [],
      "source": [
        "eth_close=eth.iloc[: , 4:5].values"
      ]
    },
    {
      "cell_type": "code",
      "execution_count": null,
      "metadata": {
        "colab": {
          "background_save": true
        },
        "id": "V-0ANQzJGwV5",
        "outputId": "a66f2223-f2d0-4ce8-b61f-96829277e24e"
      },
      "outputs": [
        {
          "name": "stdout",
          "output_type": "stream",
          "text": [
            "<class 'pandas.core.frame.DataFrame'>\n",
            "RangeIndex: 2145 entries, 0 to 2144\n",
            "Data columns (total 7 columns):\n",
            " #   Column     Non-Null Count  Dtype  \n",
            "---  ------     --------------  -----  \n",
            " 0   Date       2145 non-null   object \n",
            " 1   Open       2145 non-null   float64\n",
            " 2   High       2145 non-null   float64\n",
            " 3   Low        2145 non-null   float64\n",
            " 4   Close      2145 non-null   float64\n",
            " 5   Adj Close  2145 non-null   float64\n",
            " 6   Volume     2145 non-null   int64  \n",
            "dtypes: float64(5), int64(1), object(1)\n",
            "memory usage: 117.4+ KB\n"
          ]
        }
      ],
      "source": [
        "eth.info()"
      ]
    },
    {
      "cell_type": "code",
      "execution_count": null,
      "metadata": {
        "colab": {
          "background_save": true
        },
        "id": "kf4caRhtGwV5",
        "outputId": "ef63b7a6-ca65-44d0-9266-afc13a0372f5"
      },
      "outputs": [
        {
          "data": {
            "text/plain": [
              "array([[ 466.540009],\n",
              "       [ 463.449005],\n",
              "       [ 465.852997],\n",
              "       ...,\n",
              "       [1552.089478],\n",
              "       [1555.256836],\n",
              "       [1560.048462]])"
            ]
          },
          "execution_count": 49,
          "metadata": {},
          "output_type": "execute_result"
        }
      ],
      "source": [
        "eth_close"
      ]
    },
    {
      "cell_type": "code",
      "execution_count": null,
      "metadata": {
        "colab": {
          "background_save": true
        },
        "id": "RSRnKkjRGwV6"
      },
      "outputs": [],
      "source": [
        "\n",
        "eth_close=scaler.fit_transform(eth_close)"
      ]
    },
    {
      "cell_type": "code",
      "execution_count": null,
      "metadata": {
        "colab": {
          "background_save": true
        },
        "id": "H6EhWKb5GwV6",
        "outputId": "8c577fa7-4dcf-4505-a276-b6c4c8286036"
      },
      "outputs": [
        {
          "data": {
            "text/plain": [
              "array([[0.08084805],\n",
              "       [0.08019425],\n",
              "       [0.08070273],\n",
              "       ...,\n",
              "       [0.31045892],\n",
              "       [0.31112886],\n",
              "       [0.31214237]])"
            ]
          },
          "execution_count": 51,
          "metadata": {},
          "output_type": "execute_result"
        }
      ],
      "source": [
        "eth_close"
      ]
    },
    {
      "cell_type": "code",
      "execution_count": null,
      "metadata": {
        "colab": {
          "background_save": true
        },
        "id": "ebI2ZD4jPmx_"
      },
      "outputs": [],
      "source": [
        "eth_train_size = int(len(eth_close)*.8 )\n",
        "eth_train=eth_close[:eth_train_size]\n",
        "eth_test=eth_close[eth_train_size:]"
      ]
    },
    {
      "cell_type": "code",
      "execution_count": null,
      "metadata": {
        "colab": {
          "background_save": true
        },
        "id": "yordF2ouPmyN",
        "outputId": "824e6bc3-62f8-409e-f8f2-7e7e5c55325e"
      },
      "outputs": [
        {
          "name": "stdout",
          "output_type": "stream",
          "text": [
            "Shape of training set: (1686, 30, 1, 1)\n",
            "Shape of test set: (399, 30, 1, 1)\n"
          ]
        }
      ],
      "source": [
        "SEQUENCE_SIZE=30\n",
        "ethx_train,ethy_train = split(SEQUENCE_SIZE,eth_train)\n",
        "ethx_test,ethy_test = split(SEQUENCE_SIZE,eth_test)\n",
        "\n",
        "print(\"Shape of training set: {}\".format(ethx_train.shape))\n",
        "print(\"Shape of test set: {}\".format(ethx_test.shape))"
      ]
    },
    {
      "cell_type": "code",
      "execution_count": null,
      "metadata": {
        "colab": {
          "background_save": true
        },
        "id": "OnL8Pe8RGwV8"
      },
      "outputs": [],
      "source": [
        "ethx_train = ethx_train.reshape( ethx_train.shape[0], ethx_train.shape[1], 1)"
      ]
    },
    {
      "cell_type": "code",
      "execution_count": null,
      "metadata": {
        "colab": {
          "background_save": true
        },
        "id": "xXmJpyxhGwV8",
        "outputId": "806ac6b3-57b5-4054-a3c3-16dd6b6bbc8c"
      },
      "outputs": [
        {
          "data": {
            "text/plain": [
              "(1686, 30, 1)"
            ]
          },
          "execution_count": 55,
          "metadata": {},
          "output_type": "execute_result"
        }
      ],
      "source": [
        "ethx_train.shape"
      ]
    },
    {
      "cell_type": "code",
      "execution_count": null,
      "metadata": {
        "colab": {
          "background_save": true
        },
        "id": "wpRvNiFNGwV9",
        "outputId": "6b1155d9-b71c-4885-cd52-5b67fd6aeb0c"
      },
      "outputs": [
        {
          "name": "stdout",
          "output_type": "stream",
          "text": [
            "Model: \"sequential_2\"\n",
            "_________________________________________________________________\n",
            " Layer (type)                Output Shape              Param #   \n",
            "=================================================================\n",
            " gru_7 (GRU)                 (None, 30, 30)            2970      \n",
            "                                                                 \n",
            " dropout_7 (Dropout)         (None, 30, 30)            0         \n",
            "                                                                 \n",
            " gru_8 (GRU)                 (None, 30, 60)            16560     \n",
            "                                                                 \n",
            " dropout_8 (Dropout)         (None, 30, 60)            0         \n",
            "                                                                 \n",
            " gru_9 (GRU)                 (None, 90)                41040     \n",
            "                                                                 \n",
            " dropout_9 (Dropout)         (None, 90)                0         \n",
            "                                                                 \n",
            " dense_2 (Dense)             (None, 1)                 91        \n",
            "                                                                 \n",
            "=================================================================\n",
            "Total params: 60661 (236.96 KB)\n",
            "Trainable params: 60661 (236.96 KB)\n",
            "Non-trainable params: 0 (0.00 Byte)\n",
            "_________________________________________________________________\n"
          ]
        }
      ],
      "source": [
        "model=Sequential()\n",
        "model.add(GRU(units=30,return_sequences=True,input_shape=(ethx_train.shape[1],1)))\n",
        "model.add(Dropout(0.2))\n",
        "model.add(GRU(units=60,return_sequences=True))\n",
        "model.add(Dropout(0.2))\n",
        "model.add(GRU(units=90))\n",
        "model.add(Dropout(0.2))\n",
        "model.add(Dense(units=1))\n",
        "model.compile(optimizer='adam',loss='mean_squared_error')\n",
        "model.summary()"
      ]
    },
    {
      "cell_type": "code",
      "execution_count": null,
      "metadata": {
        "colab": {
          "background_save": true
        },
        "id": "Bb7JHV6qGwV9",
        "outputId": "8a4e2198-c36c-431a-a811-5c3c45fd1f71"
      },
      "outputs": [
        {
          "name": "stdout",
          "output_type": "stream",
          "text": [
            "Epoch 1/100\n",
            "57/57 [==============================] - 10s 50ms/step - loss: 0.0075\n",
            "Epoch 2/100\n",
            "57/57 [==============================] - 3s 57ms/step - loss: 0.0021\n",
            "Epoch 3/100\n",
            "57/57 [==============================] - 4s 62ms/step - loss: 0.0018\n",
            "Epoch 4/100\n",
            "57/57 [==============================] - 4s 69ms/step - loss: 0.0019\n",
            "Epoch 5/100\n",
            "57/57 [==============================] - 3s 51ms/step - loss: 0.0018\n",
            "Epoch 6/100\n",
            "57/57 [==============================] - 3s 55ms/step - loss: 0.0022\n",
            "Epoch 7/100\n",
            "57/57 [==============================] - 3s 61ms/step - loss: 0.0018\n",
            "Epoch 8/100\n",
            "57/57 [==============================] - 4s 68ms/step - loss: 0.0017\n",
            "Epoch 9/100\n",
            "57/57 [==============================] - 3s 54ms/step - loss: 0.0019\n",
            "Epoch 10/100\n",
            "57/57 [==============================] - 3s 56ms/step - loss: 0.0019\n",
            "Epoch 11/100\n",
            "57/57 [==============================] - 3s 59ms/step - loss: 0.0015\n",
            "Epoch 12/100\n",
            "57/57 [==============================] - 4s 69ms/step - loss: 0.0015\n",
            "Epoch 13/100\n",
            "57/57 [==============================] - 3s 52ms/step - loss: 0.0013\n",
            "Epoch 14/100\n",
            "57/57 [==============================] - 3s 49ms/step - loss: 0.0012\n",
            "Epoch 15/100\n",
            "57/57 [==============================] - 3s 50ms/step - loss: 0.0015\n",
            "Epoch 16/100\n",
            "57/57 [==============================] - 4s 76ms/step - loss: 0.0014\n",
            "Epoch 17/100\n",
            "57/57 [==============================] - 3s 54ms/step - loss: 0.0013\n",
            "Epoch 18/100\n",
            "57/57 [==============================] - 3s 48ms/step - loss: 0.0014\n",
            "Epoch 19/100\n",
            "57/57 [==============================] - 3s 53ms/step - loss: 0.0015\n",
            "Epoch 20/100\n",
            "57/57 [==============================] - 4s 78ms/step - loss: 0.0012\n",
            "Epoch 21/100\n",
            "57/57 [==============================] - 3s 50ms/step - loss: 0.0012\n",
            "Epoch 22/100\n",
            "57/57 [==============================] - 3s 49ms/step - loss: 0.0013\n",
            "Epoch 23/100\n",
            "57/57 [==============================] - 3s 53ms/step - loss: 0.0013\n",
            "Epoch 24/100\n",
            "57/57 [==============================] - 4s 72ms/step - loss: 0.0014\n",
            "Epoch 25/100\n",
            "57/57 [==============================] - 3s 57ms/step - loss: 0.0011\n",
            "Epoch 26/100\n",
            "57/57 [==============================] - 3s 51ms/step - loss: 0.0012\n",
            "Epoch 27/100\n",
            "57/57 [==============================] - 3s 47ms/step - loss: 0.0011\n",
            "Epoch 28/100\n",
            "57/57 [==============================] - 3s 55ms/step - loss: 0.0010\n",
            "Epoch 29/100\n",
            "57/57 [==============================] - 4s 68ms/step - loss: 0.0010\n",
            "Epoch 30/100\n",
            "57/57 [==============================] - 3s 56ms/step - loss: 0.0011\n",
            "Epoch 31/100\n",
            "57/57 [==============================] - 3s 54ms/step - loss: 0.0010\n",
            "Epoch 32/100\n",
            "57/57 [==============================] - 3s 57ms/step - loss: 0.0013\n",
            "Epoch 33/100\n",
            "57/57 [==============================] - 4s 71ms/step - loss: 0.0011\n",
            "Epoch 34/100\n",
            "57/57 [==============================] - 3s 57ms/step - loss: 0.0012\n",
            "Epoch 35/100\n",
            "57/57 [==============================] - 3s 50ms/step - loss: 0.0013\n",
            "Epoch 36/100\n",
            "57/57 [==============================] - 3s 50ms/step - loss: 0.0011\n",
            "Epoch 37/100\n",
            "57/57 [==============================] - 4s 71ms/step - loss: 9.7279e-04\n",
            "Epoch 38/100\n",
            "57/57 [==============================] - 3s 51ms/step - loss: 0.0012\n",
            "Epoch 39/100\n",
            "57/57 [==============================] - 3s 50ms/step - loss: 9.6192e-04\n",
            "Epoch 40/100\n",
            "57/57 [==============================] - 3s 53ms/step - loss: 0.0010\n",
            "Epoch 41/100\n",
            "57/57 [==============================] - 4s 74ms/step - loss: 0.0012\n",
            "Epoch 42/100\n",
            "57/57 [==============================] - 3s 51ms/step - loss: 9.4757e-04\n",
            "Epoch 43/100\n",
            "57/57 [==============================] - 3s 48ms/step - loss: 0.0011\n",
            "Epoch 44/100\n",
            "57/57 [==============================] - 3s 51ms/step - loss: 0.0012\n",
            "Epoch 45/100\n",
            "57/57 [==============================] - 4s 68ms/step - loss: 0.0011\n",
            "Epoch 46/100\n",
            "57/57 [==============================] - 3s 56ms/step - loss: 0.0014\n",
            "Epoch 47/100\n",
            "57/57 [==============================] - 3s 52ms/step - loss: 0.0010\n",
            "Epoch 48/100\n",
            "57/57 [==============================] - 3s 53ms/step - loss: 9.2464e-04\n",
            "Epoch 49/100\n",
            "57/57 [==============================] - 3s 61ms/step - loss: 0.0010\n",
            "Epoch 50/100\n",
            "57/57 [==============================] - 3s 61ms/step - loss: 8.5838e-04\n",
            "Epoch 51/100\n",
            "57/57 [==============================] - 3s 48ms/step - loss: 9.7941e-04\n",
            "Epoch 52/100\n",
            "57/57 [==============================] - 3s 51ms/step - loss: 9.3562e-04\n",
            "Epoch 53/100\n",
            "57/57 [==============================] - 3s 48ms/step - loss: 0.0011\n",
            "Epoch 54/100\n",
            "57/57 [==============================] - 4s 74ms/step - loss: 0.0010\n",
            "Epoch 55/100\n",
            "57/57 [==============================] - 3s 50ms/step - loss: 9.0701e-04\n",
            "Epoch 56/100\n",
            "57/57 [==============================] - 3s 50ms/step - loss: 8.7906e-04\n",
            "Epoch 57/100\n",
            "57/57 [==============================] - 3s 53ms/step - loss: 9.4407e-04\n",
            "Epoch 58/100\n",
            "57/57 [==============================] - 4s 79ms/step - loss: 0.0010\n",
            "Epoch 59/100\n",
            "57/57 [==============================] - 3s 51ms/step - loss: 9.3975e-04\n",
            "Epoch 60/100\n",
            "57/57 [==============================] - 3s 56ms/step - loss: 0.0011\n",
            "Epoch 61/100\n",
            "57/57 [==============================] - 3s 53ms/step - loss: 9.0950e-04\n",
            "Epoch 62/100\n",
            "57/57 [==============================] - 4s 73ms/step - loss: 7.7738e-04\n",
            "Epoch 63/100\n",
            "57/57 [==============================] - 3s 47ms/step - loss: 9.6104e-04\n",
            "Epoch 64/100\n",
            "57/57 [==============================] - 3s 50ms/step - loss: 9.3429e-04\n",
            "Epoch 65/100\n",
            "57/57 [==============================] - 3s 50ms/step - loss: 0.0012\n",
            "Epoch 66/100\n",
            "57/57 [==============================] - 4s 67ms/step - loss: 8.7318e-04\n",
            "Epoch 67/100\n",
            "57/57 [==============================] - 3s 60ms/step - loss: 8.8075e-04\n",
            "Epoch 68/100\n",
            "57/57 [==============================] - 3s 49ms/step - loss: 8.7344e-04\n",
            "Epoch 69/100\n",
            "57/57 [==============================] - 3s 57ms/step - loss: 8.7282e-04\n",
            "Epoch 70/100\n",
            "57/57 [==============================] - 3s 60ms/step - loss: 8.2545e-04\n",
            "Epoch 71/100\n",
            "57/57 [==============================] - 3s 61ms/step - loss: 0.0010\n",
            "Epoch 72/100\n",
            "57/57 [==============================] - 3s 51ms/step - loss: 9.7250e-04\n",
            "Epoch 73/100\n",
            "57/57 [==============================] - 3s 50ms/step - loss: 0.0011\n",
            "Epoch 74/100\n",
            "57/57 [==============================] - 3s 57ms/step - loss: 9.1821e-04\n",
            "Epoch 75/100\n",
            "57/57 [==============================] - 4s 72ms/step - loss: 8.7246e-04\n",
            "Epoch 76/100\n",
            "57/57 [==============================] - 3s 51ms/step - loss: 9.1931e-04\n",
            "Epoch 77/100\n",
            "57/57 [==============================] - 3s 48ms/step - loss: 8.3035e-04\n",
            "Epoch 78/100\n",
            "57/57 [==============================] - 3s 54ms/step - loss: 7.8269e-04\n",
            "Epoch 79/100\n",
            "57/57 [==============================] - 4s 79ms/step - loss: 8.4304e-04\n",
            "Epoch 80/100\n",
            "57/57 [==============================] - 3s 58ms/step - loss: 8.8901e-04\n",
            "Epoch 81/100\n",
            "57/57 [==============================] - 3s 57ms/step - loss: 7.5530e-04\n",
            "Epoch 82/100\n",
            "57/57 [==============================] - 3s 58ms/step - loss: 9.1261e-04\n",
            "Epoch 83/100\n",
            "57/57 [==============================] - 4s 68ms/step - loss: 9.4760e-04\n",
            "Epoch 84/100\n",
            "57/57 [==============================] - 3s 48ms/step - loss: 7.5952e-04\n",
            "Epoch 85/100\n",
            "57/57 [==============================] - 3s 48ms/step - loss: 8.2973e-04\n",
            "Epoch 86/100\n",
            "57/57 [==============================] - 3s 56ms/step - loss: 8.3819e-04\n",
            "Epoch 87/100\n",
            "57/57 [==============================] - 4s 77ms/step - loss: 8.5591e-04\n",
            "Epoch 88/100\n",
            "57/57 [==============================] - 3s 50ms/step - loss: 9.3199e-04\n",
            "Epoch 89/100\n",
            "57/57 [==============================] - 3s 47ms/step - loss: 7.6539e-04\n",
            "Epoch 90/100\n",
            "57/57 [==============================] - 3s 49ms/step - loss: 7.1609e-04\n",
            "Epoch 91/100\n",
            "57/57 [==============================] - 4s 66ms/step - loss: 8.8937e-04\n",
            "Epoch 92/100\n",
            "57/57 [==============================] - 3s 57ms/step - loss: 8.3935e-04\n",
            "Epoch 93/100\n",
            "57/57 [==============================] - 3s 50ms/step - loss: 8.5183e-04\n",
            "Epoch 94/100\n",
            "57/57 [==============================] - 3s 51ms/step - loss: 8.9649e-04\n",
            "Epoch 95/100\n",
            "57/57 [==============================] - 3s 58ms/step - loss: 8.5603e-04\n",
            "Epoch 96/100\n",
            "57/57 [==============================] - 4s 66ms/step - loss: 8.4277e-04\n",
            "Epoch 97/100\n",
            "57/57 [==============================] - 3s 51ms/step - loss: 7.9998e-04\n",
            "Epoch 98/100\n",
            "57/57 [==============================] - 3s 47ms/step - loss: 9.1898e-04\n",
            "Epoch 99/100\n",
            "57/57 [==============================] - 3s 48ms/step - loss: 8.3685e-04\n",
            "Epoch 100/100\n",
            "57/57 [==============================] - 4s 75ms/step - loss: 7.7093e-04\n"
          ]
        },
        {
          "data": {
            "text/plain": [
              "<keras.src.callbacks.History at 0x7d423ad0a0b0>"
            ]
          },
          "execution_count": 57,
          "metadata": {},
          "output_type": "execute_result"
        }
      ],
      "source": [
        "model.fit(ethx_train,ethy_train,epochs=100,batch_size=30)"
      ]
    },
    {
      "cell_type": "code",
      "execution_count": null,
      "metadata": {
        "colab": {
          "background_save": true
        },
        "id": "ATQ52Pt1GwV_",
        "outputId": "7c4a2d62-d4e3-42a5-92f2-054a99a0c3fb"
      },
      "outputs": [
        {
          "name": "stdout",
          "output_type": "stream",
          "text": [
            "13/13 [==============================] - 1s 14ms/step\n"
          ]
        }
      ],
      "source": [
        "ethy_pred=model.predict(ethx_test)"
      ]
    },
    {
      "cell_type": "code",
      "execution_count": null,
      "metadata": {
        "colab": {
          "background_save": true
        },
        "id": "IHrF6lR9GwV_",
        "outputId": "fb83f292-56d5-4a6d-ad05-b9d18f7bd685"
      },
      "outputs": [
        {
          "name": "stdout",
          "output_type": "stream",
          "text": [
            "MAE = 0.013341170615966583\n"
          ]
        }
      ],
      "source": [
        "print('MAE =',mean_absolute_error(ethy_test,ethy_pred))\n"
      ]
    },
    {
      "cell_type": "code",
      "execution_count": null,
      "metadata": {
        "colab": {
          "background_save": true
        },
        "id": "WckIDwOrGwV_",
        "outputId": "cf6b7578-0f5a-4abb-c349-6f9ee635401f"
      },
      "outputs": [
        {
          "name": "stdout",
          "output_type": "stream",
          "text": [
            "MAPE = 0.04199708156790236\n"
          ]
        }
      ],
      "source": [
        "print('MAPE =',mean_absolute_percentage_error(ethy_test,ethy_pred))"
      ]
    },
    {
      "cell_type": "code",
      "execution_count": null,
      "metadata": {
        "colab": {
          "background_save": true
        },
        "id": "CSUUforGGwWA",
        "outputId": "df5b0988-ce8f-48fa-da3b-295ed7c93c83"
      },
      "outputs": [
        {
          "name": "stdout",
          "output_type": "stream",
          "text": [
            "MSE= 0.00024718760733033154\n"
          ]
        }
      ],
      "source": [
        "print('MSE=',mean_squared_error(ethy_test,ethy_pred))"
      ]
    },
    {
      "cell_type": "code",
      "execution_count": null,
      "metadata": {
        "colab": {
          "background_save": true
        },
        "id": "qxnONT-Fg8LF",
        "outputId": "7dfa3881-bf49-4b10-cffe-be2e134aa0a6"
      },
      "outputs": [
        {
          "name": "stdout",
          "output_type": "stream",
          "text": [
            "RMSE= 0.01572220109686718\n"
          ]
        }
      ],
      "source": [
        "#Root Mean Square Erorre\n",
        "print('RMSE=',np.sqrt(mean_squared_error(ethy_test,ethy_pred)))"
      ]
    },
    {
      "cell_type": "markdown",
      "metadata": {
        "id": "gll6syiPJZCZ"
      },
      "source": [
        "# **......XMR.....**"
      ]
    },
    {
      "cell_type": "code",
      "execution_count": null,
      "metadata": {
        "colab": {
          "background_save": true
        },
        "id": "0H4JSZ1IJpe2"
      },
      "outputs": [],
      "source": []
    },
    {
      "cell_type": "code",
      "execution_count": null,
      "metadata": {
        "colab": {
          "background_save": true
        },
        "id": "BAYEuz5MJqSE"
      },
      "outputs": [],
      "source": [
        "xmr_path='/content/XMR-USD.csv'"
      ]
    },
    {
      "cell_type": "code",
      "execution_count": null,
      "metadata": {
        "colab": {
          "background_save": true
        },
        "id": "kTUdCaT2JqSc"
      },
      "outputs": [],
      "source": [
        "xmr=pd.read_csv(xmr_path)"
      ]
    },
    {
      "cell_type": "code",
      "execution_count": null,
      "metadata": {
        "colab": {
          "background_save": true
        },
        "id": "I_Ev6R4XJqSd",
        "outputId": "16492141-d702-4531-b1ae-46dc4cc4f5fd"
      },
      "outputs": [
        {
          "data": {
            "application/vnd.google.colaboratory.intrinsic+json": {
              "summary": "{\n  \"name\": \"xmr\",\n  \"rows\": 2166,\n  \"fields\": [\n    {\n      \"column\": \"Date\",\n      \"properties\": {\n        \"dtype\": \"object\",\n        \"num_unique_values\": 2166,\n        \"samples\": [\n          \"2021-12-05\",\n          \"2022-03-31\",\n          \"2021-11-09\"\n        ],\n        \"semantic_type\": \"\",\n        \"description\": \"\"\n      }\n    },\n    {\n      \"column\": \"Open\",\n      \"properties\": {\n        \"dtype\": \"number\",\n        \"std\": 81.54787121829251,\n        \"min\": 33.084614,\n        \"max\": 483.709991,\n        \"num_unique_values\": 2165,\n        \"samples\": [\n          201.402618,\n          212.7948,\n          289.389862\n        ],\n        \"semantic_type\": \"\",\n        \"description\": \"\"\n      }\n    },\n    {\n      \"column\": \"High\",\n      \"properties\": {\n        \"dtype\": \"number\",\n        \"std\": 86.0183304404469,\n        \"min\": 36.645374,\n        \"max\": 517.620239,\n        \"num_unique_values\": 2165,\n        \"samples\": [\n          206.2453,\n          223.207962,\n          293.957184\n        ],\n        \"semantic_type\": \"\",\n        \"description\": \"\"\n      }\n    },\n    {\n      \"column\": \"Low\",\n      \"properties\": {\n        \"dtype\": \"number\",\n        \"std\": 76.4614551356437,\n        \"min\": 26.703888,\n        \"max\": 453.390991,\n        \"num_unique_values\": 2165,\n        \"samples\": [\n          193.734848,\n          211.740051,\n          269.232086\n        ],\n        \"semantic_type\": \"\",\n        \"description\": \"\"\n      }\n    },\n    {\n      \"column\": \"Close\",\n      \"properties\": {\n        \"dtype\": \"number\",\n        \"std\": 81.49471718157713,\n        \"min\": 33.010323,\n        \"max\": 483.583618,\n        \"num_unique_values\": 2165,\n        \"samples\": [\n          201.681992,\n          218.309906,\n          267.897156\n        ],\n        \"semantic_type\": \"\",\n        \"description\": \"\"\n      }\n    },\n    {\n      \"column\": \"Adj Close\",\n      \"properties\": {\n        \"dtype\": \"number\",\n        \"std\": 81.49471718157713,\n        \"min\": 33.010323,\n        \"max\": 483.583618,\n        \"num_unique_values\": 2165,\n        \"samples\": [\n          201.681992,\n          218.309906,\n          267.897156\n        ],\n        \"semantic_type\": \"\",\n        \"description\": \"\"\n      }\n    },\n    {\n      \"column\": \"Volume\",\n      \"properties\": {\n        \"dtype\": \"number\",\n        \"std\": 998686437,\n        \"min\": 10160300,\n        \"max\": 28959121742,\n        \"num_unique_values\": 2166,\n        \"samples\": [\n          172166313,\n          148506330,\n          360356162\n        ],\n        \"semantic_type\": \"\",\n        \"description\": \"\"\n      }\n    }\n  ]\n}",
              "type": "dataframe",
              "variable_name": "xmr"
            },
            "text/html": [
              "\n",
              "  <div id=\"df-ec7323f6-0534-4b0c-9ea2-d03347ae96f7\" class=\"colab-df-container\">\n",
              "    <div>\n",
              "<style scoped>\n",
              "    .dataframe tbody tr th:only-of-type {\n",
              "        vertical-align: middle;\n",
              "    }\n",
              "\n",
              "    .dataframe tbody tr th {\n",
              "        vertical-align: top;\n",
              "    }\n",
              "\n",
              "    .dataframe thead th {\n",
              "        text-align: right;\n",
              "    }\n",
              "</style>\n",
              "<table border=\"1\" class=\"dataframe\">\n",
              "  <thead>\n",
              "    <tr style=\"text-align: right;\">\n",
              "      <th></th>\n",
              "      <th>Date</th>\n",
              "      <th>Open</th>\n",
              "      <th>High</th>\n",
              "      <th>Low</th>\n",
              "      <th>Close</th>\n",
              "      <th>Adj Close</th>\n",
              "      <th>Volume</th>\n",
              "    </tr>\n",
              "  </thead>\n",
              "  <tbody>\n",
              "    <tr>\n",
              "      <th>0</th>\n",
              "      <td>2017-11-10</td>\n",
              "      <td>121.344002</td>\n",
              "      <td>121.665001</td>\n",
              "      <td>101.757004</td>\n",
              "      <td>105.585999</td>\n",
              "      <td>105.585999</td>\n",
              "      <td>84614000</td>\n",
              "    </tr>\n",
              "    <tr>\n",
              "      <th>1</th>\n",
              "      <td>2017-11-11</td>\n",
              "      <td>105.750000</td>\n",
              "      <td>127.106003</td>\n",
              "      <td>103.877998</td>\n",
              "      <td>119.615997</td>\n",
              "      <td>119.615997</td>\n",
              "      <td>107708000</td>\n",
              "    </tr>\n",
              "    <tr>\n",
              "      <th>2</th>\n",
              "      <td>2017-11-12</td>\n",
              "      <td>119.597000</td>\n",
              "      <td>133.675003</td>\n",
              "      <td>110.617996</td>\n",
              "      <td>123.856003</td>\n",
              "      <td>123.856003</td>\n",
              "      <td>144948000</td>\n",
              "    </tr>\n",
              "    <tr>\n",
              "      <th>3</th>\n",
              "      <td>2017-11-13</td>\n",
              "      <td>128.960007</td>\n",
              "      <td>136.528000</td>\n",
              "      <td>120.921997</td>\n",
              "      <td>123.402000</td>\n",
              "      <td>123.402000</td>\n",
              "      <td>116200000</td>\n",
              "    </tr>\n",
              "    <tr>\n",
              "      <th>4</th>\n",
              "      <td>2017-11-14</td>\n",
              "      <td>123.615997</td>\n",
              "      <td>124.200996</td>\n",
              "      <td>118.625999</td>\n",
              "      <td>122.352997</td>\n",
              "      <td>122.352997</td>\n",
              "      <td>53544800</td>\n",
              "    </tr>\n",
              "    <tr>\n",
              "      <th>...</th>\n",
              "      <td>...</td>\n",
              "      <td>...</td>\n",
              "      <td>...</td>\n",
              "      <td>...</td>\n",
              "      <td>...</td>\n",
              "      <td>...</td>\n",
              "      <td>...</td>\n",
              "    </tr>\n",
              "    <tr>\n",
              "      <th>2161</th>\n",
              "      <td>2023-10-11</td>\n",
              "      <td>152.220093</td>\n",
              "      <td>153.929443</td>\n",
              "      <td>150.970428</td>\n",
              "      <td>153.842102</td>\n",
              "      <td>153.842102</td>\n",
              "      <td>61162383</td>\n",
              "    </tr>\n",
              "    <tr>\n",
              "      <th>2162</th>\n",
              "      <td>2023-10-12</td>\n",
              "      <td>153.852783</td>\n",
              "      <td>154.344238</td>\n",
              "      <td>151.021347</td>\n",
              "      <td>152.341812</td>\n",
              "      <td>152.341812</td>\n",
              "      <td>65445853</td>\n",
              "    </tr>\n",
              "    <tr>\n",
              "      <th>2163</th>\n",
              "      <td>2023-10-13</td>\n",
              "      <td>152.339523</td>\n",
              "      <td>154.368774</td>\n",
              "      <td>151.051971</td>\n",
              "      <td>153.590515</td>\n",
              "      <td>153.590515</td>\n",
              "      <td>51282283</td>\n",
              "    </tr>\n",
              "    <tr>\n",
              "      <th>2164</th>\n",
              "      <td>2023-10-14</td>\n",
              "      <td>153.583801</td>\n",
              "      <td>154.282990</td>\n",
              "      <td>151.850967</td>\n",
              "      <td>152.833160</td>\n",
              "      <td>152.833160</td>\n",
              "      <td>33344438</td>\n",
              "    </tr>\n",
              "    <tr>\n",
              "      <th>2165</th>\n",
              "      <td>2023-10-15</td>\n",
              "      <td>152.780731</td>\n",
              "      <td>153.465881</td>\n",
              "      <td>152.175125</td>\n",
              "      <td>152.830368</td>\n",
              "      <td>152.830368</td>\n",
              "      <td>29178670</td>\n",
              "    </tr>\n",
              "  </tbody>\n",
              "</table>\n",
              "<p>2166 rows × 7 columns</p>\n",
              "</div>\n",
              "    <div class=\"colab-df-buttons\">\n",
              "\n",
              "  <div class=\"colab-df-container\">\n",
              "    <button class=\"colab-df-convert\" onclick=\"convertToInteractive('df-ec7323f6-0534-4b0c-9ea2-d03347ae96f7')\"\n",
              "            title=\"Convert this dataframe to an interactive table.\"\n",
              "            style=\"display:none;\">\n",
              "\n",
              "  <svg xmlns=\"http://www.w3.org/2000/svg\" height=\"24px\" viewBox=\"0 -960 960 960\">\n",
              "    <path d=\"M120-120v-720h720v720H120Zm60-500h600v-160H180v160Zm220 220h160v-160H400v160Zm0 220h160v-160H400v160ZM180-400h160v-160H180v160Zm440 0h160v-160H620v160ZM180-180h160v-160H180v160Zm440 0h160v-160H620v160Z\"/>\n",
              "  </svg>\n",
              "    </button>\n",
              "\n",
              "  <style>\n",
              "    .colab-df-container {\n",
              "      display:flex;\n",
              "      gap: 12px;\n",
              "    }\n",
              "\n",
              "    .colab-df-convert {\n",
              "      background-color: #E8F0FE;\n",
              "      border: none;\n",
              "      border-radius: 50%;\n",
              "      cursor: pointer;\n",
              "      display: none;\n",
              "      fill: #1967D2;\n",
              "      height: 32px;\n",
              "      padding: 0 0 0 0;\n",
              "      width: 32px;\n",
              "    }\n",
              "\n",
              "    .colab-df-convert:hover {\n",
              "      background-color: #E2EBFA;\n",
              "      box-shadow: 0px 1px 2px rgba(60, 64, 67, 0.3), 0px 1px 3px 1px rgba(60, 64, 67, 0.15);\n",
              "      fill: #174EA6;\n",
              "    }\n",
              "\n",
              "    .colab-df-buttons div {\n",
              "      margin-bottom: 4px;\n",
              "    }\n",
              "\n",
              "    [theme=dark] .colab-df-convert {\n",
              "      background-color: #3B4455;\n",
              "      fill: #D2E3FC;\n",
              "    }\n",
              "\n",
              "    [theme=dark] .colab-df-convert:hover {\n",
              "      background-color: #434B5C;\n",
              "      box-shadow: 0px 1px 3px 1px rgba(0, 0, 0, 0.15);\n",
              "      filter: drop-shadow(0px 1px 2px rgba(0, 0, 0, 0.3));\n",
              "      fill: #FFFFFF;\n",
              "    }\n",
              "  </style>\n",
              "\n",
              "    <script>\n",
              "      const buttonEl =\n",
              "        document.querySelector('#df-ec7323f6-0534-4b0c-9ea2-d03347ae96f7 button.colab-df-convert');\n",
              "      buttonEl.style.display =\n",
              "        google.colab.kernel.accessAllowed ? 'block' : 'none';\n",
              "\n",
              "      async function convertToInteractive(key) {\n",
              "        const element = document.querySelector('#df-ec7323f6-0534-4b0c-9ea2-d03347ae96f7');\n",
              "        const dataTable =\n",
              "          await google.colab.kernel.invokeFunction('convertToInteractive',\n",
              "                                                    [key], {});\n",
              "        if (!dataTable) return;\n",
              "\n",
              "        const docLinkHtml = 'Like what you see? Visit the ' +\n",
              "          '<a target=\"_blank\" href=https://colab.research.google.com/notebooks/data_table.ipynb>data table notebook</a>'\n",
              "          + ' to learn more about interactive tables.';\n",
              "        element.innerHTML = '';\n",
              "        dataTable['output_type'] = 'display_data';\n",
              "        await google.colab.output.renderOutput(dataTable, element);\n",
              "        const docLink = document.createElement('div');\n",
              "        docLink.innerHTML = docLinkHtml;\n",
              "        element.appendChild(docLink);\n",
              "      }\n",
              "    </script>\n",
              "  </div>\n",
              "\n",
              "\n",
              "<div id=\"df-6f94c985-81b0-448d-a585-2f7d812bf7d1\">\n",
              "  <button class=\"colab-df-quickchart\" onclick=\"quickchart('df-6f94c985-81b0-448d-a585-2f7d812bf7d1')\"\n",
              "            title=\"Suggest charts\"\n",
              "            style=\"display:none;\">\n",
              "\n",
              "<svg xmlns=\"http://www.w3.org/2000/svg\" height=\"24px\"viewBox=\"0 0 24 24\"\n",
              "     width=\"24px\">\n",
              "    <g>\n",
              "        <path d=\"M19 3H5c-1.1 0-2 .9-2 2v14c0 1.1.9 2 2 2h14c1.1 0 2-.9 2-2V5c0-1.1-.9-2-2-2zM9 17H7v-7h2v7zm4 0h-2V7h2v10zm4 0h-2v-4h2v4z\"/>\n",
              "    </g>\n",
              "</svg>\n",
              "  </button>\n",
              "\n",
              "<style>\n",
              "  .colab-df-quickchart {\n",
              "      --bg-color: #E8F0FE;\n",
              "      --fill-color: #1967D2;\n",
              "      --hover-bg-color: #E2EBFA;\n",
              "      --hover-fill-color: #174EA6;\n",
              "      --disabled-fill-color: #AAA;\n",
              "      --disabled-bg-color: #DDD;\n",
              "  }\n",
              "\n",
              "  [theme=dark] .colab-df-quickchart {\n",
              "      --bg-color: #3B4455;\n",
              "      --fill-color: #D2E3FC;\n",
              "      --hover-bg-color: #434B5C;\n",
              "      --hover-fill-color: #FFFFFF;\n",
              "      --disabled-bg-color: #3B4455;\n",
              "      --disabled-fill-color: #666;\n",
              "  }\n",
              "\n",
              "  .colab-df-quickchart {\n",
              "    background-color: var(--bg-color);\n",
              "    border: none;\n",
              "    border-radius: 50%;\n",
              "    cursor: pointer;\n",
              "    display: none;\n",
              "    fill: var(--fill-color);\n",
              "    height: 32px;\n",
              "    padding: 0;\n",
              "    width: 32px;\n",
              "  }\n",
              "\n",
              "  .colab-df-quickchart:hover {\n",
              "    background-color: var(--hover-bg-color);\n",
              "    box-shadow: 0 1px 2px rgba(60, 64, 67, 0.3), 0 1px 3px 1px rgba(60, 64, 67, 0.15);\n",
              "    fill: var(--button-hover-fill-color);\n",
              "  }\n",
              "\n",
              "  .colab-df-quickchart-complete:disabled,\n",
              "  .colab-df-quickchart-complete:disabled:hover {\n",
              "    background-color: var(--disabled-bg-color);\n",
              "    fill: var(--disabled-fill-color);\n",
              "    box-shadow: none;\n",
              "  }\n",
              "\n",
              "  .colab-df-spinner {\n",
              "    border: 2px solid var(--fill-color);\n",
              "    border-color: transparent;\n",
              "    border-bottom-color: var(--fill-color);\n",
              "    animation:\n",
              "      spin 1s steps(1) infinite;\n",
              "  }\n",
              "\n",
              "  @keyframes spin {\n",
              "    0% {\n",
              "      border-color: transparent;\n",
              "      border-bottom-color: var(--fill-color);\n",
              "      border-left-color: var(--fill-color);\n",
              "    }\n",
              "    20% {\n",
              "      border-color: transparent;\n",
              "      border-left-color: var(--fill-color);\n",
              "      border-top-color: var(--fill-color);\n",
              "    }\n",
              "    30% {\n",
              "      border-color: transparent;\n",
              "      border-left-color: var(--fill-color);\n",
              "      border-top-color: var(--fill-color);\n",
              "      border-right-color: var(--fill-color);\n",
              "    }\n",
              "    40% {\n",
              "      border-color: transparent;\n",
              "      border-right-color: var(--fill-color);\n",
              "      border-top-color: var(--fill-color);\n",
              "    }\n",
              "    60% {\n",
              "      border-color: transparent;\n",
              "      border-right-color: var(--fill-color);\n",
              "    }\n",
              "    80% {\n",
              "      border-color: transparent;\n",
              "      border-right-color: var(--fill-color);\n",
              "      border-bottom-color: var(--fill-color);\n",
              "    }\n",
              "    90% {\n",
              "      border-color: transparent;\n",
              "      border-bottom-color: var(--fill-color);\n",
              "    }\n",
              "  }\n",
              "</style>\n",
              "\n",
              "  <script>\n",
              "    async function quickchart(key) {\n",
              "      const quickchartButtonEl =\n",
              "        document.querySelector('#' + key + ' button');\n",
              "      quickchartButtonEl.disabled = true;  // To prevent multiple clicks.\n",
              "      quickchartButtonEl.classList.add('colab-df-spinner');\n",
              "      try {\n",
              "        const charts = await google.colab.kernel.invokeFunction(\n",
              "            'suggestCharts', [key], {});\n",
              "      } catch (error) {\n",
              "        console.error('Error during call to suggestCharts:', error);\n",
              "      }\n",
              "      quickchartButtonEl.classList.remove('colab-df-spinner');\n",
              "      quickchartButtonEl.classList.add('colab-df-quickchart-complete');\n",
              "    }\n",
              "    (() => {\n",
              "      let quickchartButtonEl =\n",
              "        document.querySelector('#df-6f94c985-81b0-448d-a585-2f7d812bf7d1 button');\n",
              "      quickchartButtonEl.style.display =\n",
              "        google.colab.kernel.accessAllowed ? 'block' : 'none';\n",
              "    })();\n",
              "  </script>\n",
              "</div>\n",
              "\n",
              "  <div id=\"id_91da9222-64bd-4156-a5b5-aa94348d4be2\">\n",
              "    <style>\n",
              "      .colab-df-generate {\n",
              "        background-color: #E8F0FE;\n",
              "        border: none;\n",
              "        border-radius: 50%;\n",
              "        cursor: pointer;\n",
              "        display: none;\n",
              "        fill: #1967D2;\n",
              "        height: 32px;\n",
              "        padding: 0 0 0 0;\n",
              "        width: 32px;\n",
              "      }\n",
              "\n",
              "      .colab-df-generate:hover {\n",
              "        background-color: #E2EBFA;\n",
              "        box-shadow: 0px 1px 2px rgba(60, 64, 67, 0.3), 0px 1px 3px 1px rgba(60, 64, 67, 0.15);\n",
              "        fill: #174EA6;\n",
              "      }\n",
              "\n",
              "      [theme=dark] .colab-df-generate {\n",
              "        background-color: #3B4455;\n",
              "        fill: #D2E3FC;\n",
              "      }\n",
              "\n",
              "      [theme=dark] .colab-df-generate:hover {\n",
              "        background-color: #434B5C;\n",
              "        box-shadow: 0px 1px 3px 1px rgba(0, 0, 0, 0.15);\n",
              "        filter: drop-shadow(0px 1px 2px rgba(0, 0, 0, 0.3));\n",
              "        fill: #FFFFFF;\n",
              "      }\n",
              "    </style>\n",
              "    <button class=\"colab-df-generate\" onclick=\"generateWithVariable('xmr')\"\n",
              "            title=\"Generate code using this dataframe.\"\n",
              "            style=\"display:none;\">\n",
              "\n",
              "  <svg xmlns=\"http://www.w3.org/2000/svg\" height=\"24px\"viewBox=\"0 0 24 24\"\n",
              "       width=\"24px\">\n",
              "    <path d=\"M7,19H8.4L18.45,9,17,7.55,7,17.6ZM5,21V16.75L18.45,3.32a2,2,0,0,1,2.83,0l1.4,1.43a1.91,1.91,0,0,1,.58,1.4,1.91,1.91,0,0,1-.58,1.4L9.25,21ZM18.45,9,17,7.55Zm-12,3A5.31,5.31,0,0,0,4.9,8.1,5.31,5.31,0,0,0,1,6.5,5.31,5.31,0,0,0,4.9,4.9,5.31,5.31,0,0,0,6.5,1,5.31,5.31,0,0,0,8.1,4.9,5.31,5.31,0,0,0,12,6.5,5.46,5.46,0,0,0,6.5,12Z\"/>\n",
              "  </svg>\n",
              "    </button>\n",
              "    <script>\n",
              "      (() => {\n",
              "      const buttonEl =\n",
              "        document.querySelector('#id_91da9222-64bd-4156-a5b5-aa94348d4be2 button.colab-df-generate');\n",
              "      buttonEl.style.display =\n",
              "        google.colab.kernel.accessAllowed ? 'block' : 'none';\n",
              "\n",
              "      buttonEl.onclick = () => {\n",
              "        google.colab.notebook.generateWithVariable('xmr');\n",
              "      }\n",
              "      })();\n",
              "    </script>\n",
              "  </div>\n",
              "\n",
              "    </div>\n",
              "  </div>\n"
            ],
            "text/plain": [
              "            Date        Open        High         Low       Close   Adj Close  \\\n",
              "0     2017-11-10  121.344002  121.665001  101.757004  105.585999  105.585999   \n",
              "1     2017-11-11  105.750000  127.106003  103.877998  119.615997  119.615997   \n",
              "2     2017-11-12  119.597000  133.675003  110.617996  123.856003  123.856003   \n",
              "3     2017-11-13  128.960007  136.528000  120.921997  123.402000  123.402000   \n",
              "4     2017-11-14  123.615997  124.200996  118.625999  122.352997  122.352997   \n",
              "...          ...         ...         ...         ...         ...         ...   \n",
              "2161  2023-10-11  152.220093  153.929443  150.970428  153.842102  153.842102   \n",
              "2162  2023-10-12  153.852783  154.344238  151.021347  152.341812  152.341812   \n",
              "2163  2023-10-13  152.339523  154.368774  151.051971  153.590515  153.590515   \n",
              "2164  2023-10-14  153.583801  154.282990  151.850967  152.833160  152.833160   \n",
              "2165  2023-10-15  152.780731  153.465881  152.175125  152.830368  152.830368   \n",
              "\n",
              "         Volume  \n",
              "0      84614000  \n",
              "1     107708000  \n",
              "2     144948000  \n",
              "3     116200000  \n",
              "4      53544800  \n",
              "...         ...  \n",
              "2161   61162383  \n",
              "2162   65445853  \n",
              "2163   51282283  \n",
              "2164   33344438  \n",
              "2165   29178670  \n",
              "\n",
              "[2166 rows x 7 columns]"
            ]
          },
          "execution_count": 65,
          "metadata": {},
          "output_type": "execute_result"
        }
      ],
      "source": [
        "xmr"
      ]
    },
    {
      "cell_type": "code",
      "execution_count": null,
      "metadata": {
        "colab": {
          "background_save": true
        },
        "id": "wsOdbZ5hJqSe"
      },
      "outputs": [],
      "source": [
        "xmr_close=xmr.iloc[: , 4:5].values"
      ]
    },
    {
      "cell_type": "code",
      "execution_count": null,
      "metadata": {
        "colab": {
          "background_save": true
        },
        "id": "SC3pIbl0JqSf",
        "outputId": "ab2d7b77-1a8a-42be-c6e5-44588777e452"
      },
      "outputs": [
        {
          "data": {
            "text/plain": [
              "array([[105.585999],\n",
              "       [119.615997],\n",
              "       [123.856003],\n",
              "       ...,\n",
              "       [153.590515],\n",
              "       [152.83316 ],\n",
              "       [152.830368]])"
            ]
          },
          "execution_count": 67,
          "metadata": {},
          "output_type": "execute_result"
        }
      ],
      "source": [
        "xmr_close"
      ]
    },
    {
      "cell_type": "code",
      "execution_count": null,
      "metadata": {
        "colab": {
          "background_save": true
        },
        "id": "dNAsenyYJqSf"
      },
      "outputs": [],
      "source": [
        "xmr_close=scaler.fit_transform(xmr_close)"
      ]
    },
    {
      "cell_type": "code",
      "execution_count": null,
      "metadata": {
        "colab": {
          "background_save": true
        },
        "id": "8UJidTxIJqSg",
        "outputId": "ca74ae8b-9ead-4e2b-96a5-e61269d2110c"
      },
      "outputs": [
        {
          "data": {
            "text/plain": [
              "array([[0.16107407],\n",
              "       [0.19221218],\n",
              "       [0.20162242],\n",
              "       ...,\n",
              "       [0.26761504],\n",
              "       [0.26593417],\n",
              "       [0.26592798]])"
            ]
          },
          "execution_count": 69,
          "metadata": {},
          "output_type": "execute_result"
        }
      ],
      "source": [
        "xmr_close"
      ]
    },
    {
      "cell_type": "code",
      "execution_count": null,
      "metadata": {
        "colab": {
          "background_save": true
        },
        "id": "PwsOqH8xiiZM"
      },
      "outputs": [],
      "source": [
        "xmr_train_size = int(len(xmr_close)*.8 )\n",
        "xmr_train=xmr_close[:xmr_train_size]\n",
        "xmr_test=xmr_close[xmr_train_size:]"
      ]
    },
    {
      "cell_type": "code",
      "execution_count": null,
      "metadata": {
        "colab": {
          "background_save": true
        },
        "id": "CLGj6nlGco-q",
        "outputId": "9f92246a-55ed-485b-b337-fabb3c246367"
      },
      "outputs": [
        {
          "name": "stdout",
          "output_type": "stream",
          "text": [
            "Shape of training set: (1702, 30, 1, 1)\n",
            "Shape of test set: (404, 30, 1, 1)\n"
          ]
        }
      ],
      "source": [
        "SEQUENCE_SIZE=30\n",
        "xmrx_train,xmry_train = split(SEQUENCE_SIZE,xmr_train)\n",
        "xmrx_test,xmry_test = split(SEQUENCE_SIZE,xmr_test)\n",
        "\n",
        "print(\"Shape of training set: {}\".format(xmrx_train.shape))\n",
        "print(\"Shape of test set: {}\".format(xmrx_test.shape))"
      ]
    },
    {
      "cell_type": "code",
      "execution_count": null,
      "metadata": {
        "colab": {
          "background_save": true
        },
        "id": "4jhPxoiXJqSi"
      },
      "outputs": [],
      "source": [
        "xmrx_train = xmrx_train.reshape( xmrx_train.shape[0], xmrx_train.shape[1], 1)"
      ]
    },
    {
      "cell_type": "code",
      "execution_count": null,
      "metadata": {
        "colab": {
          "background_save": true
        },
        "id": "E2cTW2ifJqSi",
        "outputId": "8751d172-fb3e-4422-9b37-3b91692f53f6"
      },
      "outputs": [
        {
          "data": {
            "text/plain": [
              "(1702, 30, 1)"
            ]
          },
          "execution_count": 73,
          "metadata": {},
          "output_type": "execute_result"
        }
      ],
      "source": [
        "xmrx_train.shape"
      ]
    },
    {
      "cell_type": "code",
      "execution_count": null,
      "metadata": {
        "colab": {
          "background_save": true
        },
        "id": "4iC4ll0gJqSj"
      },
      "outputs": [],
      "source": []
    },
    {
      "cell_type": "code",
      "execution_count": null,
      "metadata": {
        "colab": {
          "background_save": true
        },
        "id": "H2rs2iCwJqSj",
        "outputId": "0075a5ba-411a-466a-e527-344392260901"
      },
      "outputs": [
        {
          "name": "stdout",
          "output_type": "stream",
          "text": [
            "Model: \"sequential_3\"\n",
            "_________________________________________________________________\n",
            " Layer (type)                Output Shape              Param #   \n",
            "=================================================================\n",
            " gru_10 (GRU)                (None, 30, 30)            2970      \n",
            "                                                                 \n",
            " dropout_10 (Dropout)        (None, 30, 30)            0         \n",
            "                                                                 \n",
            " gru_11 (GRU)                (None, 30, 60)            16560     \n",
            "                                                                 \n",
            " dropout_11 (Dropout)        (None, 30, 60)            0         \n",
            "                                                                 \n",
            " gru_12 (GRU)                (None, 90)                41040     \n",
            "                                                                 \n",
            " dropout_12 (Dropout)        (None, 90)                0         \n",
            "                                                                 \n",
            " dense_3 (Dense)             (None, 1)                 91        \n",
            "                                                                 \n",
            "=================================================================\n",
            "Total params: 60661 (236.96 KB)\n",
            "Trainable params: 60661 (236.96 KB)\n",
            "Non-trainable params: 0 (0.00 Byte)\n",
            "_________________________________________________________________\n"
          ]
        }
      ],
      "source": [
        "model=Sequential()\n",
        "model.add(GRU(units=30,return_sequences=True,input_shape=(xmrx_train.shape[1],1)))\n",
        "model.add(Dropout(0.2))\n",
        "model.add(GRU(units=60,return_sequences=True))\n",
        "model.add(Dropout(0.2))\n",
        "model.add(GRU(units=90))\n",
        "model.add(Dropout(0.2))\n",
        "model.add(Dense(units=1))\n",
        "model.compile(optimizer='adam',loss='mean_squared_error')\n",
        "model.summary()"
      ]
    },
    {
      "cell_type": "code",
      "execution_count": null,
      "metadata": {
        "colab": {
          "background_save": true
        },
        "id": "v2-0QG7sk5cZ",
        "outputId": "59efb162-ef5e-4cbe-d1e4-83fb7bd503ed"
      },
      "outputs": [
        {
          "name": "stdout",
          "output_type": "stream",
          "text": [
            "Epoch 1/100\n",
            "57/57 [==============================] - 11s 75ms/step - loss: 0.0077\n",
            "Epoch 2/100\n",
            "57/57 [==============================] - 3s 48ms/step - loss: 0.0027\n",
            "Epoch 3/100\n",
            "57/57 [==============================] - 3s 48ms/step - loss: 0.0024\n",
            "Epoch 4/100\n",
            "57/57 [==============================] - 3s 51ms/step - loss: 0.0022\n",
            "Epoch 5/100\n",
            "57/57 [==============================] - 4s 72ms/step - loss: 0.0019\n",
            "Epoch 6/100\n",
            "57/57 [==============================] - 3s 61ms/step - loss: 0.0021\n",
            "Epoch 7/100\n",
            "57/57 [==============================] - 3s 54ms/step - loss: 0.0020\n",
            "Epoch 8/100\n",
            "57/57 [==============================] - 3s 51ms/step - loss: 0.0018\n",
            "Epoch 9/100\n",
            "57/57 [==============================] - 4s 72ms/step - loss: 0.0017\n",
            "Epoch 10/100\n",
            "57/57 [==============================] - 3s 59ms/step - loss: 0.0016\n",
            "Epoch 11/100\n",
            "57/57 [==============================] - 3s 49ms/step - loss: 0.0017\n",
            "Epoch 12/100\n",
            "57/57 [==============================] - 3s 54ms/step - loss: 0.0016\n",
            "Epoch 13/100\n",
            "57/57 [==============================] - 4s 64ms/step - loss: 0.0015\n",
            "Epoch 14/100\n",
            "57/57 [==============================] - 4s 61ms/step - loss: 0.0015\n",
            "Epoch 15/100\n",
            "57/57 [==============================] - 3s 49ms/step - loss: 0.0013\n",
            "Epoch 16/100\n",
            "57/57 [==============================] - 3s 48ms/step - loss: 0.0014\n",
            "Epoch 17/100\n",
            "57/57 [==============================] - 3s 61ms/step - loss: 0.0015\n",
            "Epoch 18/100\n",
            "57/57 [==============================] - 4s 70ms/step - loss: 0.0013\n",
            "Epoch 19/100\n",
            "57/57 [==============================] - 3s 48ms/step - loss: 0.0015\n",
            "Epoch 20/100\n",
            "57/57 [==============================] - 3s 49ms/step - loss: 0.0015\n",
            "Epoch 21/100\n",
            "57/57 [==============================] - 3s 53ms/step - loss: 0.0015\n",
            "Epoch 22/100\n",
            "57/57 [==============================] - 4s 78ms/step - loss: 0.0016\n",
            "Epoch 23/100\n",
            "57/57 [==============================] - 3s 50ms/step - loss: 0.0013\n",
            "Epoch 24/100\n",
            "57/57 [==============================] - 3s 54ms/step - loss: 0.0014\n",
            "Epoch 25/100\n",
            "57/57 [==============================] - 3s 53ms/step - loss: 0.0013\n",
            "Epoch 26/100\n",
            "57/57 [==============================] - 4s 76ms/step - loss: 0.0013\n",
            "Epoch 27/100\n",
            "57/57 [==============================] - 3s 48ms/step - loss: 0.0016\n",
            "Epoch 28/100\n",
            "57/57 [==============================] - 3s 51ms/step - loss: 0.0013\n",
            "Epoch 29/100\n",
            "57/57 [==============================] - 3s 51ms/step - loss: 0.0013\n",
            "Epoch 30/100\n",
            "57/57 [==============================] - 4s 70ms/step - loss: 0.0013\n",
            "Epoch 31/100\n",
            "57/57 [==============================] - 3s 56ms/step - loss: 0.0014\n",
            "Epoch 32/100\n",
            "57/57 [==============================] - 3s 49ms/step - loss: 0.0013\n",
            "Epoch 33/100\n",
            "57/57 [==============================] - 3s 52ms/step - loss: 0.0013\n",
            "Epoch 34/100\n",
            "57/57 [==============================] - 4s 66ms/step - loss: 0.0014\n",
            "Epoch 35/100\n",
            "57/57 [==============================] - 4s 63ms/step - loss: 0.0013\n",
            "Epoch 36/100\n",
            "57/57 [==============================] - 3s 50ms/step - loss: 0.0013\n",
            "Epoch 37/100\n",
            "57/57 [==============================] - 3s 56ms/step - loss: 0.0013\n",
            "Epoch 38/100\n",
            "57/57 [==============================] - 3s 60ms/step - loss: 0.0014\n",
            "Epoch 39/100\n",
            "57/57 [==============================] - 3s 61ms/step - loss: 0.0013\n",
            "Epoch 40/100\n",
            "57/57 [==============================] - 3s 49ms/step - loss: 0.0011\n",
            "Epoch 41/100\n",
            "57/57 [==============================] - 3s 47ms/step - loss: 0.0013\n",
            "Epoch 42/100\n",
            "57/57 [==============================] - 3s 51ms/step - loss: 0.0013\n",
            "Epoch 43/100\n",
            "57/57 [==============================] - 4s 72ms/step - loss: 0.0013\n",
            "Epoch 44/100\n",
            "57/57 [==============================] - 3s 47ms/step - loss: 0.0011\n",
            "Epoch 45/100\n",
            "57/57 [==============================] - 3s 48ms/step - loss: 0.0012\n",
            "Epoch 46/100\n",
            "57/57 [==============================] - 3s 48ms/step - loss: 0.0012\n",
            "Epoch 47/100\n",
            "57/57 [==============================] - 4s 64ms/step - loss: 0.0012\n",
            "Epoch 48/100\n",
            "57/57 [==============================] - 4s 66ms/step - loss: 0.0014\n",
            "Epoch 49/100\n",
            "57/57 [==============================] - 3s 53ms/step - loss: 0.0013\n",
            "Epoch 50/100\n",
            "57/57 [==============================] - 3s 53ms/step - loss: 0.0012\n",
            "Epoch 51/100\n",
            "57/57 [==============================] - 4s 65ms/step - loss: 0.0012\n",
            "Epoch 52/100\n",
            "57/57 [==============================] - 4s 63ms/step - loss: 0.0011\n",
            "Epoch 53/100\n",
            "57/57 [==============================] - 3s 49ms/step - loss: 0.0013\n",
            "Epoch 54/100\n",
            "57/57 [==============================] - 3s 49ms/step - loss: 0.0012\n",
            "Epoch 55/100\n",
            "57/57 [==============================] - 3s 61ms/step - loss: 0.0011\n",
            "Epoch 56/100\n",
            "57/57 [==============================] - 4s 69ms/step - loss: 0.0013\n",
            "Epoch 57/100\n",
            "57/57 [==============================] - 3s 54ms/step - loss: 0.0012\n",
            "Epoch 58/100\n",
            "57/57 [==============================] - 3s 53ms/step - loss: 0.0014\n",
            "Epoch 59/100\n",
            "57/57 [==============================] - 3s 57ms/step - loss: 0.0013\n",
            "Epoch 60/100\n",
            "57/57 [==============================] - 4s 66ms/step - loss: 0.0012\n",
            "Epoch 61/100\n",
            "57/57 [==============================] - 3s 57ms/step - loss: 0.0011\n",
            "Epoch 62/100\n",
            "57/57 [==============================] - 3s 51ms/step - loss: 0.0012\n",
            "Epoch 63/100\n",
            "57/57 [==============================] - 3s 47ms/step - loss: 0.0011\n",
            "Epoch 64/100\n",
            "57/57 [==============================] - 4s 73ms/step - loss: 0.0011\n",
            "Epoch 65/100\n",
            "57/57 [==============================] - 3s 48ms/step - loss: 0.0012\n",
            "Epoch 66/100\n",
            "57/57 [==============================] - 3s 51ms/step - loss: 0.0012\n",
            "Epoch 67/100\n",
            "57/57 [==============================] - 3s 51ms/step - loss: 0.0010\n",
            "Epoch 68/100\n",
            "57/57 [==============================] - 4s 73ms/step - loss: 0.0012\n",
            "Epoch 69/100\n",
            "57/57 [==============================] - 3s 52ms/step - loss: 0.0011\n",
            "Epoch 70/100\n",
            "57/57 [==============================] - 3s 51ms/step - loss: 0.0012\n",
            "Epoch 71/100\n",
            "57/57 [==============================] - 3s 55ms/step - loss: 0.0011\n",
            "Epoch 72/100\n",
            "57/57 [==============================] - 4s 72ms/step - loss: 0.0011\n",
            "Epoch 73/100\n",
            "57/57 [==============================] - 3s 53ms/step - loss: 0.0012\n",
            "Epoch 74/100\n",
            "57/57 [==============================] - 3s 49ms/step - loss: 0.0011\n",
            "Epoch 75/100\n",
            "57/57 [==============================] - 3s 57ms/step - loss: 0.0012\n",
            "Epoch 76/100\n",
            "57/57 [==============================] - 4s 62ms/step - loss: 0.0011\n",
            "Epoch 77/100\n",
            "57/57 [==============================] - 4s 66ms/step - loss: 0.0011\n",
            "Epoch 78/100\n",
            "57/57 [==============================] - 3s 48ms/step - loss: 0.0011\n",
            "Epoch 79/100\n",
            "57/57 [==============================] - 3s 51ms/step - loss: 0.0011\n",
            "Epoch 80/100\n",
            "57/57 [==============================] - 3s 61ms/step - loss: 0.0010\n",
            "Epoch 81/100\n",
            "57/57 [==============================] - 4s 67ms/step - loss: 0.0011\n",
            "Epoch 82/100\n",
            "57/57 [==============================] - 3s 49ms/step - loss: 0.0011\n",
            "Epoch 83/100\n",
            "57/57 [==============================] - 3s 52ms/step - loss: 0.0012\n",
            "Epoch 84/100\n",
            "57/57 [==============================] - 3s 51ms/step - loss: 9.4626e-04\n",
            "Epoch 85/100\n",
            "57/57 [==============================] - 5s 79ms/step - loss: 0.0012\n",
            "Epoch 86/100\n",
            "57/57 [==============================] - 3s 56ms/step - loss: 0.0010\n",
            "Epoch 87/100\n",
            "57/57 [==============================] - 3s 52ms/step - loss: 0.0011\n",
            "Epoch 88/100\n",
            "57/57 [==============================] - 4s 67ms/step - loss: 0.0012\n",
            "Epoch 89/100\n",
            "57/57 [==============================] - 5s 81ms/step - loss: 0.0011\n",
            "Epoch 90/100\n",
            "57/57 [==============================] - 3s 60ms/step - loss: 0.0010\n",
            "Epoch 91/100\n",
            "57/57 [==============================] - 3s 54ms/step - loss: 0.0011\n",
            "Epoch 92/100\n",
            "57/57 [==============================] - 4s 74ms/step - loss: 0.0011\n",
            "Epoch 93/100\n",
            "57/57 [==============================] - 3s 59ms/step - loss: 0.0012\n",
            "Epoch 94/100\n",
            "57/57 [==============================] - 3s 52ms/step - loss: 0.0011\n",
            "Epoch 95/100\n",
            "57/57 [==============================] - 3s 56ms/step - loss: 0.0011\n",
            "Epoch 96/100\n",
            "57/57 [==============================] - 4s 68ms/step - loss: 0.0011\n",
            "Epoch 97/100\n",
            "57/57 [==============================] - 4s 65ms/step - loss: 0.0011\n",
            "Epoch 98/100\n",
            "57/57 [==============================] - 3s 51ms/step - loss: 0.0011\n",
            "Epoch 99/100\n",
            "57/57 [==============================] - 3s 48ms/step - loss: 0.0011\n",
            "Epoch 100/100\n",
            "57/57 [==============================] - 3s 57ms/step - loss: 0.0011\n"
          ]
        },
        {
          "data": {
            "text/plain": [
              "<keras.src.callbacks.History at 0x7d423ac94b20>"
            ]
          },
          "execution_count": 75,
          "metadata": {},
          "output_type": "execute_result"
        }
      ],
      "source": [
        "model.fit(xmrx_train,xmry_train,epochs=100,batch_size=30)"
      ]
    },
    {
      "cell_type": "code",
      "execution_count": null,
      "metadata": {
        "colab": {
          "background_save": true
        },
        "id": "66bodX8TJqSo",
        "outputId": "b3460ad8-26ba-48cb-c1ae-abf59cb45984"
      },
      "outputs": [
        {
          "name": "stdout",
          "output_type": "stream",
          "text": [
            "13/13 [==============================] - 1s 15ms/step\n"
          ]
        }
      ],
      "source": [
        "xmry_pred=model.predict(xmrx_test)"
      ]
    },
    {
      "cell_type": "code",
      "execution_count": null,
      "metadata": {
        "colab": {
          "background_save": true
        },
        "id": "BqcEcVSNJqSo",
        "outputId": "b2e6fd49-7a9d-4753-c3df-84ed51edde66"
      },
      "outputs": [
        {
          "name": "stdout",
          "output_type": "stream",
          "text": [
            "MAE = 0.005962717320820741\n"
          ]
        }
      ],
      "source": [
        "from sklearn.metrics import mean_absolute_error\n",
        "print('MAE =',mean_absolute_error(xmry_test,xmry_pred))\n"
      ]
    },
    {
      "cell_type": "code",
      "execution_count": null,
      "metadata": {
        "colab": {
          "background_save": true
        },
        "id": "MD_7XbgEJqSp",
        "outputId": "a5220624-8c08-4a38-8653-4f9fb55da0e4"
      },
      "outputs": [
        {
          "name": "stdout",
          "output_type": "stream",
          "text": [
            "MAPE = 0.022845933655941744\n"
          ]
        }
      ],
      "source": [
        "from sklearn.metrics import mean_absolute_percentage_error\n",
        "print('MAPE =',mean_absolute_percentage_error(xmry_test,xmry_pred))"
      ]
    },
    {
      "cell_type": "code",
      "execution_count": null,
      "metadata": {
        "colab": {
          "background_save": true
        },
        "id": "WCPx8_HJJqSp",
        "outputId": "c4dc3440-9d7a-4daa-9ead-3e381b885e0b"
      },
      "outputs": [
        {
          "name": "stdout",
          "output_type": "stream",
          "text": [
            "MSE= 6.929770338819113e-05\n"
          ]
        }
      ],
      "source": [
        "from sklearn.metrics import mean_squared_error\n",
        "print('MSE=',mean_squared_error(xmry_test,xmry_pred))"
      ]
    },
    {
      "cell_type": "code",
      "execution_count": null,
      "metadata": {
        "colab": {
          "background_save": true
        },
        "id": "h82Ol2XzgM8B",
        "outputId": "0a420f07-d0fd-4a0f-ae79-623b6bd91319"
      },
      "outputs": [
        {
          "name": "stdout",
          "output_type": "stream",
          "text": [
            "RMSE= 0.008324524213923047\n"
          ]
        }
      ],
      "source": [
        "#Root Mean Square Erorre\n",
        "print('RMSE=',np.sqrt(mean_squared_error(xmry_test,xmry_pred)))"
      ]
    }
  ],
  "metadata": {
    "colab": {
      "provenance": []
    },
    "kernelspec": {
      "display_name": "Python 3",
      "name": "python3"
    }
  },
  "nbformat": 4,
  "nbformat_minor": 0
}