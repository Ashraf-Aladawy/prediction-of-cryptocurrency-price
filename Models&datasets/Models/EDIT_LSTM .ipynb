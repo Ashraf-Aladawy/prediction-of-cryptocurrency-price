{
  "cells": [
    {
      "cell_type": "code",
      "execution_count": null,
      "metadata": {
        "colab": {
          "base_uri": "https://localhost:8080/"
        },
        "id": "aHXlQmNi-drS",
        "outputId": "7b3e36a2-81a9-4794-ddc4-8340c7ac35fe"
      },
      "outputs": [
        {
          "output_type": "stream",
          "name": "stdout",
          "text": [
            "Drive already mounted at /content/drive; to attempt to forcibly remount, call drive.mount(\"/content/drive\", force_remount=True).\n"
          ]
        }
      ],
      "source": [
        "from google.colab import drive\n",
        "drive.mount('/content/drive')"
      ]
    },
    {
      "cell_type": "code",
      "execution_count": null,
      "metadata": {
        "id": "YbVFK3ZCDlTr"
      },
      "outputs": [],
      "source": [
        "import pandas as pd\n",
        "import numpy as np\n",
        "from sklearn.preprocessing import MinMaxScaler\n",
        "from sklearn.metrics import mean_absolute_error\n",
        "from sklearn.metrics import mean_absolute_percentage_error\n",
        "from sklearn.metrics import mean_squared_error\n"
      ]
    },
    {
      "cell_type": "code",
      "execution_count": null,
      "metadata": {
        "id": "pOUmtAWPJ9aE"
      },
      "outputs": [],
      "source": [
        "from keras.models import Sequential\n",
        "from keras.layers import LSTM\n",
        "from keras.layers import Dropout\n",
        "from keras.layers import Dense"
      ]
    },
    {
      "cell_type": "code",
      "source": [
        "scaler=MinMaxScaler(feature_range=(0,1))"
      ],
      "metadata": {
        "id": "d9pOmHJMKX7G"
      },
      "execution_count": null,
      "outputs": []
    },
    {
      "cell_type": "code",
      "execution_count": null,
      "metadata": {
        "id": "DrJGnuH0JqSg"
      },
      "outputs": [],
      "source": [
        "\n",
        "def split(size, obs):\n",
        "    x = []\n",
        "    y = []\n",
        "\n",
        "    for i in range(len(obs)-SEQUENCE_SIZE):\n",
        "        window = obs[i:(i+SEQUENCE_SIZE)]\n",
        "        after_window = obs[i+SEQUENCE_SIZE]\n",
        "        window = [[x] for x in window]\n",
        "        x.append(window)\n",
        "        y.append(after_window)\n",
        "\n",
        "    return np.array(x),np.array(y)\n",
        "\n",
        "\n",
        "\n"
      ]
    },
    {
      "cell_type": "markdown",
      "metadata": {
        "id": "2b1WjRxHdVT3"
      },
      "source": [
        "# **...... BITCOIN......**"
      ]
    },
    {
      "cell_type": "code",
      "execution_count": null,
      "metadata": {
        "id": "RvNepTBDFAe5"
      },
      "outputs": [],
      "source": [
        "btcpath='/content/BTC-USD (6).csv'\n"
      ]
    },
    {
      "cell_type": "code",
      "execution_count": null,
      "metadata": {
        "id": "61UeELd0FMV4"
      },
      "outputs": [],
      "source": [
        "btc=pd.read_csv(btcpath)"
      ]
    },
    {
      "cell_type": "code",
      "execution_count": null,
      "metadata": {
        "colab": {
          "base_uri": "https://localhost:8080/",
          "height": 423
        },
        "id": "f8gdRR8UFYWX",
        "outputId": "046ada9f-c43b-448d-d312-42f49e440ae7"
      },
      "outputs": [
        {
          "output_type": "execute_result",
          "data": {
            "text/plain": [
              "            Date          Open          High           Low         Close  \\\n",
              "0     2017-01-01    963.658020   1003.080017    958.698975    998.325012   \n",
              "1     2017-01-02    998.617004   1031.390015    996.702026   1021.750000   \n",
              "2     2017-01-03   1021.599976   1044.079956   1021.599976   1043.839966   \n",
              "3     2017-01-04   1044.400024   1159.420044   1044.400024   1154.729980   \n",
              "4     2017-01-05   1156.729980   1191.099976    910.416992   1013.380005   \n",
              "...          ...           ...           ...           ...           ...   \n",
              "2474  2023-10-11  27392.076172  27474.115234  26561.099609  26873.320313   \n",
              "2475  2023-10-12  26873.292969  26921.439453  26558.320313  26756.798828   \n",
              "2476  2023-10-13  26752.878906  27092.697266  26686.322266  26862.375000   \n",
              "2477  2023-10-14  26866.203125  26969.000000  26814.585938  26861.707031   \n",
              "2478  2023-10-15  26852.537109  27074.355469  26823.027344  27024.675781   \n",
              "\n",
              "         Adj Close       Volume  \n",
              "0       998.325012    147775008  \n",
              "1      1021.750000    222184992  \n",
              "2      1043.839966    185168000  \n",
              "3      1154.729980    344945984  \n",
              "4      1013.380005    510199008  \n",
              "...            ...          ...  \n",
              "2474  26873.320313  13648094333  \n",
              "2475  26756.798828   9392909295  \n",
              "2476  26862.375000  15165312851  \n",
              "2477  26861.707031   5388116782  \n",
              "2478  27024.675781   5392823808  \n",
              "\n",
              "[2479 rows x 7 columns]"
            ],
            "text/html": [
              "\n",
              "  <div id=\"df-6df4b4ea-10f1-4436-87fe-ca8db6010c2c\" class=\"colab-df-container\">\n",
              "    <div>\n",
              "<style scoped>\n",
              "    .dataframe tbody tr th:only-of-type {\n",
              "        vertical-align: middle;\n",
              "    }\n",
              "\n",
              "    .dataframe tbody tr th {\n",
              "        vertical-align: top;\n",
              "    }\n",
              "\n",
              "    .dataframe thead th {\n",
              "        text-align: right;\n",
              "    }\n",
              "</style>\n",
              "<table border=\"1\" class=\"dataframe\">\n",
              "  <thead>\n",
              "    <tr style=\"text-align: right;\">\n",
              "      <th></th>\n",
              "      <th>Date</th>\n",
              "      <th>Open</th>\n",
              "      <th>High</th>\n",
              "      <th>Low</th>\n",
              "      <th>Close</th>\n",
              "      <th>Adj Close</th>\n",
              "      <th>Volume</th>\n",
              "    </tr>\n",
              "  </thead>\n",
              "  <tbody>\n",
              "    <tr>\n",
              "      <th>0</th>\n",
              "      <td>2017-01-01</td>\n",
              "      <td>963.658020</td>\n",
              "      <td>1003.080017</td>\n",
              "      <td>958.698975</td>\n",
              "      <td>998.325012</td>\n",
              "      <td>998.325012</td>\n",
              "      <td>147775008</td>\n",
              "    </tr>\n",
              "    <tr>\n",
              "      <th>1</th>\n",
              "      <td>2017-01-02</td>\n",
              "      <td>998.617004</td>\n",
              "      <td>1031.390015</td>\n",
              "      <td>996.702026</td>\n",
              "      <td>1021.750000</td>\n",
              "      <td>1021.750000</td>\n",
              "      <td>222184992</td>\n",
              "    </tr>\n",
              "    <tr>\n",
              "      <th>2</th>\n",
              "      <td>2017-01-03</td>\n",
              "      <td>1021.599976</td>\n",
              "      <td>1044.079956</td>\n",
              "      <td>1021.599976</td>\n",
              "      <td>1043.839966</td>\n",
              "      <td>1043.839966</td>\n",
              "      <td>185168000</td>\n",
              "    </tr>\n",
              "    <tr>\n",
              "      <th>3</th>\n",
              "      <td>2017-01-04</td>\n",
              "      <td>1044.400024</td>\n",
              "      <td>1159.420044</td>\n",
              "      <td>1044.400024</td>\n",
              "      <td>1154.729980</td>\n",
              "      <td>1154.729980</td>\n",
              "      <td>344945984</td>\n",
              "    </tr>\n",
              "    <tr>\n",
              "      <th>4</th>\n",
              "      <td>2017-01-05</td>\n",
              "      <td>1156.729980</td>\n",
              "      <td>1191.099976</td>\n",
              "      <td>910.416992</td>\n",
              "      <td>1013.380005</td>\n",
              "      <td>1013.380005</td>\n",
              "      <td>510199008</td>\n",
              "    </tr>\n",
              "    <tr>\n",
              "      <th>...</th>\n",
              "      <td>...</td>\n",
              "      <td>...</td>\n",
              "      <td>...</td>\n",
              "      <td>...</td>\n",
              "      <td>...</td>\n",
              "      <td>...</td>\n",
              "      <td>...</td>\n",
              "    </tr>\n",
              "    <tr>\n",
              "      <th>2474</th>\n",
              "      <td>2023-10-11</td>\n",
              "      <td>27392.076172</td>\n",
              "      <td>27474.115234</td>\n",
              "      <td>26561.099609</td>\n",
              "      <td>26873.320313</td>\n",
              "      <td>26873.320313</td>\n",
              "      <td>13648094333</td>\n",
              "    </tr>\n",
              "    <tr>\n",
              "      <th>2475</th>\n",
              "      <td>2023-10-12</td>\n",
              "      <td>26873.292969</td>\n",
              "      <td>26921.439453</td>\n",
              "      <td>26558.320313</td>\n",
              "      <td>26756.798828</td>\n",
              "      <td>26756.798828</td>\n",
              "      <td>9392909295</td>\n",
              "    </tr>\n",
              "    <tr>\n",
              "      <th>2476</th>\n",
              "      <td>2023-10-13</td>\n",
              "      <td>26752.878906</td>\n",
              "      <td>27092.697266</td>\n",
              "      <td>26686.322266</td>\n",
              "      <td>26862.375000</td>\n",
              "      <td>26862.375000</td>\n",
              "      <td>15165312851</td>\n",
              "    </tr>\n",
              "    <tr>\n",
              "      <th>2477</th>\n",
              "      <td>2023-10-14</td>\n",
              "      <td>26866.203125</td>\n",
              "      <td>26969.000000</td>\n",
              "      <td>26814.585938</td>\n",
              "      <td>26861.707031</td>\n",
              "      <td>26861.707031</td>\n",
              "      <td>5388116782</td>\n",
              "    </tr>\n",
              "    <tr>\n",
              "      <th>2478</th>\n",
              "      <td>2023-10-15</td>\n",
              "      <td>26852.537109</td>\n",
              "      <td>27074.355469</td>\n",
              "      <td>26823.027344</td>\n",
              "      <td>27024.675781</td>\n",
              "      <td>27024.675781</td>\n",
              "      <td>5392823808</td>\n",
              "    </tr>\n",
              "  </tbody>\n",
              "</table>\n",
              "<p>2479 rows × 7 columns</p>\n",
              "</div>\n",
              "    <div class=\"colab-df-buttons\">\n",
              "\n",
              "  <div class=\"colab-df-container\">\n",
              "    <button class=\"colab-df-convert\" onclick=\"convertToInteractive('df-6df4b4ea-10f1-4436-87fe-ca8db6010c2c')\"\n",
              "            title=\"Convert this dataframe to an interactive table.\"\n",
              "            style=\"display:none;\">\n",
              "\n",
              "  <svg xmlns=\"http://www.w3.org/2000/svg\" height=\"24px\" viewBox=\"0 -960 960 960\">\n",
              "    <path d=\"M120-120v-720h720v720H120Zm60-500h600v-160H180v160Zm220 220h160v-160H400v160Zm0 220h160v-160H400v160ZM180-400h160v-160H180v160Zm440 0h160v-160H620v160ZM180-180h160v-160H180v160Zm440 0h160v-160H620v160Z\"/>\n",
              "  </svg>\n",
              "    </button>\n",
              "\n",
              "  <style>\n",
              "    .colab-df-container {\n",
              "      display:flex;\n",
              "      gap: 12px;\n",
              "    }\n",
              "\n",
              "    .colab-df-convert {\n",
              "      background-color: #E8F0FE;\n",
              "      border: none;\n",
              "      border-radius: 50%;\n",
              "      cursor: pointer;\n",
              "      display: none;\n",
              "      fill: #1967D2;\n",
              "      height: 32px;\n",
              "      padding: 0 0 0 0;\n",
              "      width: 32px;\n",
              "    }\n",
              "\n",
              "    .colab-df-convert:hover {\n",
              "      background-color: #E2EBFA;\n",
              "      box-shadow: 0px 1px 2px rgba(60, 64, 67, 0.3), 0px 1px 3px 1px rgba(60, 64, 67, 0.15);\n",
              "      fill: #174EA6;\n",
              "    }\n",
              "\n",
              "    .colab-df-buttons div {\n",
              "      margin-bottom: 4px;\n",
              "    }\n",
              "\n",
              "    [theme=dark] .colab-df-convert {\n",
              "      background-color: #3B4455;\n",
              "      fill: #D2E3FC;\n",
              "    }\n",
              "\n",
              "    [theme=dark] .colab-df-convert:hover {\n",
              "      background-color: #434B5C;\n",
              "      box-shadow: 0px 1px 3px 1px rgba(0, 0, 0, 0.15);\n",
              "      filter: drop-shadow(0px 1px 2px rgba(0, 0, 0, 0.3));\n",
              "      fill: #FFFFFF;\n",
              "    }\n",
              "  </style>\n",
              "\n",
              "    <script>\n",
              "      const buttonEl =\n",
              "        document.querySelector('#df-6df4b4ea-10f1-4436-87fe-ca8db6010c2c button.colab-df-convert');\n",
              "      buttonEl.style.display =\n",
              "        google.colab.kernel.accessAllowed ? 'block' : 'none';\n",
              "\n",
              "      async function convertToInteractive(key) {\n",
              "        const element = document.querySelector('#df-6df4b4ea-10f1-4436-87fe-ca8db6010c2c');\n",
              "        const dataTable =\n",
              "          await google.colab.kernel.invokeFunction('convertToInteractive',\n",
              "                                                    [key], {});\n",
              "        if (!dataTable) return;\n",
              "\n",
              "        const docLinkHtml = 'Like what you see? Visit the ' +\n",
              "          '<a target=\"_blank\" href=https://colab.research.google.com/notebooks/data_table.ipynb>data table notebook</a>'\n",
              "          + ' to learn more about interactive tables.';\n",
              "        element.innerHTML = '';\n",
              "        dataTable['output_type'] = 'display_data';\n",
              "        await google.colab.output.renderOutput(dataTable, element);\n",
              "        const docLink = document.createElement('div');\n",
              "        docLink.innerHTML = docLinkHtml;\n",
              "        element.appendChild(docLink);\n",
              "      }\n",
              "    </script>\n",
              "  </div>\n",
              "\n",
              "\n",
              "<div id=\"df-c6f55f1f-4667-4d13-973e-ac48b0b3bec8\">\n",
              "  <button class=\"colab-df-quickchart\" onclick=\"quickchart('df-c6f55f1f-4667-4d13-973e-ac48b0b3bec8')\"\n",
              "            title=\"Suggest charts\"\n",
              "            style=\"display:none;\">\n",
              "\n",
              "<svg xmlns=\"http://www.w3.org/2000/svg\" height=\"24px\"viewBox=\"0 0 24 24\"\n",
              "     width=\"24px\">\n",
              "    <g>\n",
              "        <path d=\"M19 3H5c-1.1 0-2 .9-2 2v14c0 1.1.9 2 2 2h14c1.1 0 2-.9 2-2V5c0-1.1-.9-2-2-2zM9 17H7v-7h2v7zm4 0h-2V7h2v10zm4 0h-2v-4h2v4z\"/>\n",
              "    </g>\n",
              "</svg>\n",
              "  </button>\n",
              "\n",
              "<style>\n",
              "  .colab-df-quickchart {\n",
              "      --bg-color: #E8F0FE;\n",
              "      --fill-color: #1967D2;\n",
              "      --hover-bg-color: #E2EBFA;\n",
              "      --hover-fill-color: #174EA6;\n",
              "      --disabled-fill-color: #AAA;\n",
              "      --disabled-bg-color: #DDD;\n",
              "  }\n",
              "\n",
              "  [theme=dark] .colab-df-quickchart {\n",
              "      --bg-color: #3B4455;\n",
              "      --fill-color: #D2E3FC;\n",
              "      --hover-bg-color: #434B5C;\n",
              "      --hover-fill-color: #FFFFFF;\n",
              "      --disabled-bg-color: #3B4455;\n",
              "      --disabled-fill-color: #666;\n",
              "  }\n",
              "\n",
              "  .colab-df-quickchart {\n",
              "    background-color: var(--bg-color);\n",
              "    border: none;\n",
              "    border-radius: 50%;\n",
              "    cursor: pointer;\n",
              "    display: none;\n",
              "    fill: var(--fill-color);\n",
              "    height: 32px;\n",
              "    padding: 0;\n",
              "    width: 32px;\n",
              "  }\n",
              "\n",
              "  .colab-df-quickchart:hover {\n",
              "    background-color: var(--hover-bg-color);\n",
              "    box-shadow: 0 1px 2px rgba(60, 64, 67, 0.3), 0 1px 3px 1px rgba(60, 64, 67, 0.15);\n",
              "    fill: var(--button-hover-fill-color);\n",
              "  }\n",
              "\n",
              "  .colab-df-quickchart-complete:disabled,\n",
              "  .colab-df-quickchart-complete:disabled:hover {\n",
              "    background-color: var(--disabled-bg-color);\n",
              "    fill: var(--disabled-fill-color);\n",
              "    box-shadow: none;\n",
              "  }\n",
              "\n",
              "  .colab-df-spinner {\n",
              "    border: 2px solid var(--fill-color);\n",
              "    border-color: transparent;\n",
              "    border-bottom-color: var(--fill-color);\n",
              "    animation:\n",
              "      spin 1s steps(1) infinite;\n",
              "  }\n",
              "\n",
              "  @keyframes spin {\n",
              "    0% {\n",
              "      border-color: transparent;\n",
              "      border-bottom-color: var(--fill-color);\n",
              "      border-left-color: var(--fill-color);\n",
              "    }\n",
              "    20% {\n",
              "      border-color: transparent;\n",
              "      border-left-color: var(--fill-color);\n",
              "      border-top-color: var(--fill-color);\n",
              "    }\n",
              "    30% {\n",
              "      border-color: transparent;\n",
              "      border-left-color: var(--fill-color);\n",
              "      border-top-color: var(--fill-color);\n",
              "      border-right-color: var(--fill-color);\n",
              "    }\n",
              "    40% {\n",
              "      border-color: transparent;\n",
              "      border-right-color: var(--fill-color);\n",
              "      border-top-color: var(--fill-color);\n",
              "    }\n",
              "    60% {\n",
              "      border-color: transparent;\n",
              "      border-right-color: var(--fill-color);\n",
              "    }\n",
              "    80% {\n",
              "      border-color: transparent;\n",
              "      border-right-color: var(--fill-color);\n",
              "      border-bottom-color: var(--fill-color);\n",
              "    }\n",
              "    90% {\n",
              "      border-color: transparent;\n",
              "      border-bottom-color: var(--fill-color);\n",
              "    }\n",
              "  }\n",
              "</style>\n",
              "\n",
              "  <script>\n",
              "    async function quickchart(key) {\n",
              "      const quickchartButtonEl =\n",
              "        document.querySelector('#' + key + ' button');\n",
              "      quickchartButtonEl.disabled = true;  // To prevent multiple clicks.\n",
              "      quickchartButtonEl.classList.add('colab-df-spinner');\n",
              "      try {\n",
              "        const charts = await google.colab.kernel.invokeFunction(\n",
              "            'suggestCharts', [key], {});\n",
              "      } catch (error) {\n",
              "        console.error('Error during call to suggestCharts:', error);\n",
              "      }\n",
              "      quickchartButtonEl.classList.remove('colab-df-spinner');\n",
              "      quickchartButtonEl.classList.add('colab-df-quickchart-complete');\n",
              "    }\n",
              "    (() => {\n",
              "      let quickchartButtonEl =\n",
              "        document.querySelector('#df-c6f55f1f-4667-4d13-973e-ac48b0b3bec8 button');\n",
              "      quickchartButtonEl.style.display =\n",
              "        google.colab.kernel.accessAllowed ? 'block' : 'none';\n",
              "    })();\n",
              "  </script>\n",
              "</div>\n",
              "\n",
              "  <div id=\"id_f7699e11-e5f7-4901-9dd8-5bcef857171e\">\n",
              "    <style>\n",
              "      .colab-df-generate {\n",
              "        background-color: #E8F0FE;\n",
              "        border: none;\n",
              "        border-radius: 50%;\n",
              "        cursor: pointer;\n",
              "        display: none;\n",
              "        fill: #1967D2;\n",
              "        height: 32px;\n",
              "        padding: 0 0 0 0;\n",
              "        width: 32px;\n",
              "      }\n",
              "\n",
              "      .colab-df-generate:hover {\n",
              "        background-color: #E2EBFA;\n",
              "        box-shadow: 0px 1px 2px rgba(60, 64, 67, 0.3), 0px 1px 3px 1px rgba(60, 64, 67, 0.15);\n",
              "        fill: #174EA6;\n",
              "      }\n",
              "\n",
              "      [theme=dark] .colab-df-generate {\n",
              "        background-color: #3B4455;\n",
              "        fill: #D2E3FC;\n",
              "      }\n",
              "\n",
              "      [theme=dark] .colab-df-generate:hover {\n",
              "        background-color: #434B5C;\n",
              "        box-shadow: 0px 1px 3px 1px rgba(0, 0, 0, 0.15);\n",
              "        filter: drop-shadow(0px 1px 2px rgba(0, 0, 0, 0.3));\n",
              "        fill: #FFFFFF;\n",
              "      }\n",
              "    </style>\n",
              "    <button class=\"colab-df-generate\" onclick=\"generateWithVariable('btc')\"\n",
              "            title=\"Generate code using this dataframe.\"\n",
              "            style=\"display:none;\">\n",
              "\n",
              "  <svg xmlns=\"http://www.w3.org/2000/svg\" height=\"24px\"viewBox=\"0 0 24 24\"\n",
              "       width=\"24px\">\n",
              "    <path d=\"M7,19H8.4L18.45,9,17,7.55,7,17.6ZM5,21V16.75L18.45,3.32a2,2,0,0,1,2.83,0l1.4,1.43a1.91,1.91,0,0,1,.58,1.4,1.91,1.91,0,0,1-.58,1.4L9.25,21ZM18.45,9,17,7.55Zm-12,3A5.31,5.31,0,0,0,4.9,8.1,5.31,5.31,0,0,0,1,6.5,5.31,5.31,0,0,0,4.9,4.9,5.31,5.31,0,0,0,6.5,1,5.31,5.31,0,0,0,8.1,4.9,5.31,5.31,0,0,0,12,6.5,5.46,5.46,0,0,0,6.5,12Z\"/>\n",
              "  </svg>\n",
              "    </button>\n",
              "    <script>\n",
              "      (() => {\n",
              "      const buttonEl =\n",
              "        document.querySelector('#id_f7699e11-e5f7-4901-9dd8-5bcef857171e button.colab-df-generate');\n",
              "      buttonEl.style.display =\n",
              "        google.colab.kernel.accessAllowed ? 'block' : 'none';\n",
              "\n",
              "      buttonEl.onclick = () => {\n",
              "        google.colab.notebook.generateWithVariable('btc');\n",
              "      }\n",
              "      })();\n",
              "    </script>\n",
              "  </div>\n",
              "\n",
              "    </div>\n",
              "  </div>\n"
            ],
            "application/vnd.google.colaboratory.intrinsic+json": {
              "type": "dataframe",
              "variable_name": "btc",
              "summary": "{\n  \"name\": \"btc\",\n  \"rows\": 2479,\n  \"fields\": [\n    {\n      \"column\": \"Date\",\n      \"properties\": {\n        \"dtype\": \"object\",\n        \"num_unique_values\": 2479,\n        \"samples\": [\n          \"2021-10-22\",\n          \"2017-09-17\",\n          \"2022-04-02\"\n        ],\n        \"semantic_type\": \"\",\n        \"description\": \"\"\n      }\n    },\n    {\n      \"column\": \"Open\",\n      \"properties\": {\n        \"dtype\": \"number\",\n        \"std\": 16031.620229768292,\n        \"min\": 775.177979,\n        \"max\": 67549.734375,\n        \"num_unique_values\": 2478,\n        \"samples\": [\n          66002.234375,\n          3606.280029,\n          19988.789063\n        ],\n        \"semantic_type\": \"\",\n        \"description\": \"\"\n      }\n    },\n    {\n      \"column\": \"High\",\n      \"properties\": {\n        \"dtype\": \"number\",\n        \"std\": 16425.934189790867,\n        \"min\": 823.307007,\n        \"max\": 68789.625,\n        \"num_unique_values\": 2478,\n        \"samples\": [\n          66600.546875,\n          3664.810059,\n          20031.160156\n        ],\n        \"semantic_type\": \"\",\n        \"description\": \"\"\n      }\n    },\n    {\n      \"column\": \"Low\",\n      \"properties\": {\n        \"dtype\": \"number\",\n        \"std\": 15576.247535061448,\n        \"min\": 755.755981,\n        \"max\": 66382.0625,\n        \"num_unique_values\": 2478,\n        \"samples\": [\n          63610.675781,\n          3445.639893,\n          19636.816406\n        ],\n        \"semantic_type\": \"\",\n        \"description\": \"\"\n      }\n    },\n    {\n      \"column\": \"Close\",\n      \"properties\": {\n        \"dtype\": \"number\",\n        \"std\": 16024.954822960333,\n        \"min\": 777.757019,\n        \"max\": 67566.828125,\n        \"num_unique_values\": 2477,\n        \"samples\": [\n          60692.265625,\n          4065.199951,\n          18837.667969\n        ],\n        \"semantic_type\": \"\",\n        \"description\": \"\"\n      }\n    },\n    {\n      \"column\": \"Adj Close\",\n      \"properties\": {\n        \"dtype\": \"number\",\n        \"std\": 16024.954822960333,\n        \"min\": 777.757019,\n        \"max\": 67566.828125,\n        \"num_unique_values\": 2477,\n        \"samples\": [\n          60692.265625,\n          4065.199951,\n          18837.667969\n        ],\n        \"semantic_type\": \"\",\n        \"description\": \"\"\n      }\n    },\n    {\n      \"column\": \"Volume\",\n      \"properties\": {\n        \"dtype\": \"number\",\n        \"std\": 19358483462,\n        \"min\": 60851700,\n        \"max\": 350967941479,\n        \"num_unique_values\": 2479,\n        \"samples\": [\n          38434082775,\n          1239149952,\n          29336594194\n        ],\n        \"semantic_type\": \"\",\n        \"description\": \"\"\n      }\n    }\n  ]\n}"
            }
          },
          "metadata": {},
          "execution_count": 7
        }
      ],
      "source": [
        "btc"
      ]
    },
    {
      "cell_type": "code",
      "execution_count": null,
      "metadata": {
        "id": "jfoQNbyDFbUI"
      },
      "outputs": [],
      "source": [
        "btc_close=btc.iloc[: , 4:5].values"
      ]
    },
    {
      "cell_type": "code",
      "execution_count": null,
      "metadata": {
        "colab": {
          "base_uri": "https://localhost:8080/"
        },
        "id": "V6xCv51DHw8c",
        "outputId": "63457615-d451-4570-c079-2ecca5931f7f"
      },
      "outputs": [
        {
          "output_type": "stream",
          "name": "stdout",
          "text": [
            "<class 'pandas.core.frame.DataFrame'>\n",
            "RangeIndex: 2479 entries, 0 to 2478\n",
            "Data columns (total 7 columns):\n",
            " #   Column     Non-Null Count  Dtype  \n",
            "---  ------     --------------  -----  \n",
            " 0   Date       2479 non-null   object \n",
            " 1   Open       2479 non-null   float64\n",
            " 2   High       2479 non-null   float64\n",
            " 3   Low        2479 non-null   float64\n",
            " 4   Close      2479 non-null   float64\n",
            " 5   Adj Close  2479 non-null   float64\n",
            " 6   Volume     2479 non-null   int64  \n",
            "dtypes: float64(5), int64(1), object(1)\n",
            "memory usage: 135.7+ KB\n"
          ]
        }
      ],
      "source": [
        "btc.info()"
      ]
    },
    {
      "cell_type": "code",
      "execution_count": null,
      "metadata": {
        "colab": {
          "base_uri": "https://localhost:8080/"
        },
        "id": "NKeMrs36GXSq",
        "outputId": "dfdcbbf4-6b45-42f8-f393-29fd897ec67b"
      },
      "outputs": [
        {
          "output_type": "execute_result",
          "data": {
            "text/plain": [
              "array([[  998.325012],\n",
              "       [ 1021.75    ],\n",
              "       [ 1043.839966],\n",
              "       ...,\n",
              "       [26862.375   ],\n",
              "       [26861.707031],\n",
              "       [27024.675781]])"
            ]
          },
          "metadata": {},
          "execution_count": 10
        }
      ],
      "source": [
        "btc_close"
      ]
    },
    {
      "cell_type": "code",
      "execution_count": null,
      "metadata": {
        "id": "h0DN1s0cGfIZ"
      },
      "outputs": [],
      "source": [
        "btc_close=scaler.fit_transform(btc_close)"
      ]
    },
    {
      "cell_type": "code",
      "execution_count": null,
      "metadata": {
        "colab": {
          "base_uri": "https://localhost:8080/"
        },
        "id": "azom0N8zGq24",
        "outputId": "eb410fdc-5ea7-42d9-cfa2-2275b23a7eab"
      },
      "outputs": [
        {
          "output_type": "execute_result",
          "data": {
            "text/plain": [
              "array([[0.00330246],\n",
              "       [0.00365319],\n",
              "       [0.00398393],\n",
              "       ...,\n",
              "       [0.39055219],\n",
              "       [0.39054219],\n",
              "       [0.39298224]])"
            ]
          },
          "metadata": {},
          "execution_count": 12
        }
      ],
      "source": [
        "btc_close"
      ]
    },
    {
      "cell_type": "code",
      "source": [
        "# Split Data........\n",
        "\n",
        "btc_train_size = int(len(btc_close)*.8 )\n",
        "btc_train=btc_close[:btc_train_size]\n",
        "btc_test=btc_close[btc_train_size:]"
      ],
      "metadata": {
        "id": "hAtqOCJ4LA65"
      },
      "execution_count": null,
      "outputs": []
    },
    {
      "cell_type": "code",
      "source": [
        "SEQUENCE_SIZE=30\n",
        "btcx_train,btcy_train = split(SEQUENCE_SIZE,btc_train)\n",
        "btcx_test,btcy_test = split(SEQUENCE_SIZE,btc_test)\n",
        "\n",
        "print(\"Shape of training set: {}\".format(btcx_train.shape))\n",
        "print(\"Shape of test set: {}\".format(btcx_test.shape))"
      ],
      "metadata": {
        "colab": {
          "base_uri": "https://localhost:8080/"
        },
        "outputId": "f561d667-bee5-4487-bde2-29fe3bda1640",
        "id": "wFrkGb_oLA67"
      },
      "execution_count": null,
      "outputs": [
        {
          "output_type": "stream",
          "name": "stdout",
          "text": [
            "Shape of training set: (1953, 30, 1, 1)\n",
            "Shape of test set: (466, 30, 1, 1)\n"
          ]
        }
      ]
    },
    {
      "cell_type": "code",
      "execution_count": null,
      "metadata": {
        "id": "FV0D98wJJ1_p"
      },
      "outputs": [],
      "source": [
        "btcx_train = btcx_train.reshape( btcx_train.shape[0], btcx_train.shape[1], 1)"
      ]
    },
    {
      "cell_type": "code",
      "execution_count": null,
      "metadata": {
        "colab": {
          "base_uri": "https://localhost:8080/"
        },
        "id": "MnMoKMak5bmg",
        "outputId": "e742bf60-119a-4c48-d93b-af4331d2ca52"
      },
      "outputs": [
        {
          "output_type": "execute_result",
          "data": {
            "text/plain": [
              "(1953, 30, 1)"
            ]
          },
          "metadata": {},
          "execution_count": 16
        }
      ],
      "source": [
        "btcx_train.shape"
      ]
    },
    {
      "cell_type": "code",
      "source": [
        "btcy_train.shape"
      ],
      "metadata": {
        "colab": {
          "base_uri": "https://localhost:8080/"
        },
        "id": "x-petKuBIIfp",
        "outputId": "c9c1be53-542d-4b09-8eae-98d6aa0bd241"
      },
      "execution_count": null,
      "outputs": [
        {
          "output_type": "execute_result",
          "data": {
            "text/plain": [
              "(1953, 1)"
            ]
          },
          "metadata": {},
          "execution_count": 17
        }
      ]
    },
    {
      "cell_type": "code",
      "execution_count": null,
      "metadata": {
        "colab": {
          "base_uri": "https://localhost:8080/"
        },
        "id": "KGxLmP2oKzQU",
        "outputId": "55cbcdf2-208c-4e4f-9020-e47a6f60fed5"
      },
      "outputs": [
        {
          "output_type": "stream",
          "name": "stdout",
          "text": [
            "Model: \"sequential_1\"\n",
            "_________________________________________________________________\n",
            " Layer (type)                Output Shape              Param #   \n",
            "=================================================================\n",
            " lstm_4 (LSTM)               (None, 30, 30)            3840      \n",
            "                                                                 \n",
            " dropout_4 (Dropout)         (None, 30, 30)            0         \n",
            "                                                                 \n",
            " lstm_5 (LSTM)               (None, 30, 60)            21840     \n",
            "                                                                 \n",
            " dropout_5 (Dropout)         (None, 30, 60)            0         \n",
            "                                                                 \n",
            " lstm_6 (LSTM)               (None, 30, 90)            54360     \n",
            "                                                                 \n",
            " dropout_6 (Dropout)         (None, 30, 90)            0         \n",
            "                                                                 \n",
            " lstm_7 (LSTM)               (None, 120)               101280    \n",
            "                                                                 \n",
            " dropout_7 (Dropout)         (None, 120)               0         \n",
            "                                                                 \n",
            " dense_1 (Dense)             (None, 1)                 121       \n",
            "                                                                 \n",
            "=================================================================\n",
            "Total params: 181441 (708.75 KB)\n",
            "Trainable params: 181441 (708.75 KB)\n",
            "Non-trainable params: 0 (0.00 Byte)\n",
            "_________________________________________________________________\n"
          ]
        }
      ],
      "source": [
        "model=Sequential()\n",
        "model.add(LSTM(units=30,return_sequences=True,input_shape=(btcx_train.shape[1],1)))\n",
        "model.add(Dropout(0.2))\n",
        "model.add(LSTM(units=60,return_sequences=True))\n",
        "model.add(Dropout(0.2))\n",
        "model.add(LSTM(units=90,return_sequences=True))\n",
        "model.add(Dropout(0.2))\n",
        "model.add(LSTM(units=120,return_sequences=False))\n",
        "model.add(Dropout(0.2))\n",
        "model.add(Dense(units=1))\n",
        "model.compile(optimizer='adam',loss='mean_squared_error')\n",
        "model.summary()"
      ]
    },
    {
      "cell_type": "code",
      "execution_count": null,
      "metadata": {
        "colab": {
          "base_uri": "https://localhost:8080/"
        },
        "id": "O3WuCDLmQGCP",
        "outputId": "4da48b57-06c8-4482-b503-583fc80935b7"
      },
      "outputs": [
        {
          "output_type": "stream",
          "name": "stdout",
          "text": [
            "Epoch 1/100\n",
            "62/62 [==============================] - 19s 108ms/step - loss: 0.0127\n",
            "Epoch 2/100\n",
            "62/62 [==============================] - 6s 103ms/step - loss: 0.0032\n",
            "Epoch 3/100\n",
            "62/62 [==============================] - 6s 89ms/step - loss: 0.0026\n",
            "Epoch 4/100\n",
            "62/62 [==============================] - 6s 104ms/step - loss: 0.0029\n",
            "Epoch 5/100\n",
            "62/62 [==============================] - 6s 88ms/step - loss: 0.0026\n",
            "Epoch 6/100\n",
            "62/62 [==============================] - 7s 107ms/step - loss: 0.0027\n",
            "Epoch 7/100\n",
            "62/62 [==============================] - 6s 87ms/step - loss: 0.0023\n",
            "Epoch 8/100\n",
            "62/62 [==============================] - 6s 97ms/step - loss: 0.0021\n",
            "Epoch 9/100\n",
            "62/62 [==============================] - 6s 100ms/step - loss: 0.0027\n",
            "Epoch 10/100\n",
            "62/62 [==============================] - 6s 96ms/step - loss: 0.0021\n",
            "Epoch 11/100\n",
            "62/62 [==============================] - 6s 102ms/step - loss: 0.0026\n",
            "Epoch 12/100\n",
            "62/62 [==============================] - 6s 91ms/step - loss: 0.0018\n",
            "Epoch 13/100\n",
            "62/62 [==============================] - 7s 105ms/step - loss: 0.0015\n",
            "Epoch 14/100\n",
            "62/62 [==============================] - 6s 91ms/step - loss: 0.0017\n",
            "Epoch 15/100\n",
            "62/62 [==============================] - 7s 105ms/step - loss: 0.0015\n",
            "Epoch 16/100\n",
            "62/62 [==============================] - 6s 89ms/step - loss: 0.0018\n",
            "Epoch 17/100\n",
            "62/62 [==============================] - 7s 106ms/step - loss: 0.0016\n",
            "Epoch 18/100\n",
            "62/62 [==============================] - 5s 87ms/step - loss: 0.0016\n",
            "Epoch 19/100\n",
            "62/62 [==============================] - 7s 108ms/step - loss: 0.0017\n",
            "Epoch 20/100\n",
            "62/62 [==============================] - 5s 88ms/step - loss: 0.0015\n",
            "Epoch 21/100\n",
            "62/62 [==============================] - 7s 109ms/step - loss: 0.0015\n",
            "Epoch 22/100\n",
            "62/62 [==============================] - 6s 92ms/step - loss: 0.0013\n",
            "Epoch 23/100\n",
            "62/62 [==============================] - 7s 118ms/step - loss: 0.0014\n",
            "Epoch 24/100\n",
            "62/62 [==============================] - 6s 94ms/step - loss: 0.0019\n",
            "Epoch 25/100\n",
            "62/62 [==============================] - 7s 114ms/step - loss: 0.0012\n",
            "Epoch 26/100\n",
            "62/62 [==============================] - 6s 98ms/step - loss: 0.0016\n",
            "Epoch 27/100\n",
            "62/62 [==============================] - 7s 107ms/step - loss: 0.0012\n",
            "Epoch 28/100\n",
            "62/62 [==============================] - 6s 91ms/step - loss: 0.0015\n",
            "Epoch 29/100\n",
            "62/62 [==============================] - 7s 109ms/step - loss: 0.0014\n",
            "Epoch 30/100\n",
            "62/62 [==============================] - 6s 93ms/step - loss: 0.0012\n",
            "Epoch 31/100\n",
            "62/62 [==============================] - 7s 106ms/step - loss: 0.0011\n",
            "Epoch 32/100\n",
            "62/62 [==============================] - 6s 90ms/step - loss: 0.0012\n",
            "Epoch 33/100\n",
            "62/62 [==============================] - 7s 109ms/step - loss: 0.0013\n",
            "Epoch 34/100\n",
            "62/62 [==============================] - 6s 90ms/step - loss: 0.0013\n",
            "Epoch 35/100\n",
            "62/62 [==============================] - 7s 109ms/step - loss: 0.0011\n",
            "Epoch 36/100\n",
            "62/62 [==============================] - 6s 89ms/step - loss: 0.0011\n",
            "Epoch 37/100\n",
            "62/62 [==============================] - 7s 107ms/step - loss: 0.0011\n",
            "Epoch 38/100\n",
            "62/62 [==============================] - 6s 91ms/step - loss: 0.0022\n",
            "Epoch 39/100\n",
            "62/62 [==============================] - 7s 110ms/step - loss: 0.0012\n",
            "Epoch 40/100\n",
            "62/62 [==============================] - 6s 92ms/step - loss: 0.0011\n",
            "Epoch 41/100\n",
            "62/62 [==============================] - 6s 101ms/step - loss: 0.0012\n",
            "Epoch 42/100\n",
            "62/62 [==============================] - 6s 100ms/step - loss: 9.3025e-04\n",
            "Epoch 43/100\n",
            "62/62 [==============================] - 6s 96ms/step - loss: 0.0011\n",
            "Epoch 44/100\n",
            "62/62 [==============================] - 6s 104ms/step - loss: 0.0011\n",
            "Epoch 45/100\n",
            "62/62 [==============================] - 6s 93ms/step - loss: 0.0012\n",
            "Epoch 46/100\n",
            "62/62 [==============================] - 7s 105ms/step - loss: 9.8413e-04\n",
            "Epoch 47/100\n",
            "62/62 [==============================] - 6s 89ms/step - loss: 8.6147e-04\n",
            "Epoch 48/100\n",
            "62/62 [==============================] - 7s 107ms/step - loss: 0.0012\n",
            "Epoch 49/100\n",
            "62/62 [==============================] - 6s 90ms/step - loss: 0.0011\n",
            "Epoch 50/100\n",
            "62/62 [==============================] - 7s 109ms/step - loss: 0.0011\n",
            "Epoch 51/100\n",
            "62/62 [==============================] - 6s 90ms/step - loss: 0.0010\n",
            "Epoch 52/100\n",
            "62/62 [==============================] - 7s 108ms/step - loss: 0.0011\n",
            "Epoch 53/100\n",
            "62/62 [==============================] - 5s 88ms/step - loss: 0.0015\n",
            "Epoch 54/100\n",
            "62/62 [==============================] - 7s 108ms/step - loss: 9.2796e-04\n",
            "Epoch 55/100\n",
            "62/62 [==============================] - 6s 90ms/step - loss: 9.8338e-04\n",
            "Epoch 56/100\n",
            "62/62 [==============================] - 7s 108ms/step - loss: 9.5210e-04\n",
            "Epoch 57/100\n",
            "62/62 [==============================] - 6s 91ms/step - loss: 0.0011\n",
            "Epoch 58/100\n",
            "62/62 [==============================] - 7s 107ms/step - loss: 0.0011\n",
            "Epoch 59/100\n",
            "62/62 [==============================] - 6s 90ms/step - loss: 9.4001e-04\n",
            "Epoch 60/100\n",
            "62/62 [==============================] - 7s 108ms/step - loss: 9.5331e-04\n",
            "Epoch 61/100\n",
            "62/62 [==============================] - 5s 88ms/step - loss: 0.0011\n",
            "Epoch 62/100\n",
            "62/62 [==============================] - 7s 110ms/step - loss: 8.6287e-04\n",
            "Epoch 63/100\n",
            "62/62 [==============================] - 6s 93ms/step - loss: 8.0405e-04\n",
            "Epoch 64/100\n",
            "62/62 [==============================] - 7s 109ms/step - loss: 8.2515e-04\n",
            "Epoch 65/100\n",
            "62/62 [==============================] - 6s 92ms/step - loss: 8.7314e-04\n",
            "Epoch 66/100\n",
            "62/62 [==============================] - 7s 106ms/step - loss: 0.0010\n",
            "Epoch 67/100\n",
            "62/62 [==============================] - 6s 91ms/step - loss: 8.7638e-04\n",
            "Epoch 68/100\n",
            "62/62 [==============================] - 6s 97ms/step - loss: 9.6644e-04\n",
            "Epoch 69/100\n",
            "62/62 [==============================] - 6s 98ms/step - loss: 8.8634e-04\n",
            "Epoch 70/100\n",
            "62/62 [==============================] - 6s 97ms/step - loss: 9.3023e-04\n",
            "Epoch 71/100\n",
            "62/62 [==============================] - 6s 101ms/step - loss: 0.0011\n",
            "Epoch 72/100\n",
            "62/62 [==============================] - 6s 96ms/step - loss: 8.1611e-04\n",
            "Epoch 73/100\n",
            "62/62 [==============================] - 7s 105ms/step - loss: 8.6731e-04\n",
            "Epoch 74/100\n",
            "62/62 [==============================] - 6s 90ms/step - loss: 0.0014\n",
            "Epoch 75/100\n",
            "62/62 [==============================] - 7s 109ms/step - loss: 9.7010e-04\n",
            "Epoch 76/100\n",
            "62/62 [==============================] - 6s 91ms/step - loss: 9.5411e-04\n",
            "Epoch 77/100\n",
            "62/62 [==============================] - 7s 111ms/step - loss: 8.7701e-04\n",
            "Epoch 78/100\n",
            "62/62 [==============================] - 6s 90ms/step - loss: 9.3857e-04\n",
            "Epoch 79/100\n",
            "62/62 [==============================] - 7s 112ms/step - loss: 9.0471e-04\n",
            "Epoch 80/100\n",
            "62/62 [==============================] - 6s 92ms/step - loss: 9.5801e-04\n",
            "Epoch 81/100\n",
            "62/62 [==============================] - 7s 109ms/step - loss: 8.4030e-04\n",
            "Epoch 82/100\n",
            "62/62 [==============================] - 6s 91ms/step - loss: 8.5587e-04\n",
            "Epoch 83/100\n",
            "62/62 [==============================] - 7s 107ms/step - loss: 7.8927e-04\n",
            "Epoch 84/100\n",
            "62/62 [==============================] - 6s 93ms/step - loss: 7.5081e-04\n",
            "Epoch 85/100\n",
            "62/62 [==============================] - 7s 109ms/step - loss: 7.6637e-04\n",
            "Epoch 86/100\n",
            "62/62 [==============================] - 5s 86ms/step - loss: 8.2247e-04\n",
            "Epoch 87/100\n",
            "62/62 [==============================] - 7s 110ms/step - loss: 7.7877e-04\n",
            "Epoch 88/100\n",
            "62/62 [==============================] - 6s 89ms/step - loss: 7.7465e-04\n",
            "Epoch 89/100\n",
            "62/62 [==============================] - 7s 109ms/step - loss: 8.2581e-04\n",
            "Epoch 90/100\n",
            "62/62 [==============================] - 6s 91ms/step - loss: 9.2212e-04\n",
            "Epoch 91/100\n",
            "62/62 [==============================] - 7s 108ms/step - loss: 8.8675e-04\n",
            "Epoch 92/100\n",
            "62/62 [==============================] - 5s 89ms/step - loss: 7.4603e-04\n",
            "Epoch 93/100\n",
            "62/62 [==============================] - 6s 104ms/step - loss: 8.6065e-04\n",
            "Epoch 94/100\n",
            "62/62 [==============================] - 6s 89ms/step - loss: 7.3878e-04\n",
            "Epoch 95/100\n",
            "62/62 [==============================] - 6s 100ms/step - loss: 0.0010\n",
            "Epoch 96/100\n",
            "62/62 [==============================] - 6s 94ms/step - loss: 8.2536e-04\n",
            "Epoch 97/100\n",
            "62/62 [==============================] - 6s 95ms/step - loss: 7.5505e-04\n",
            "Epoch 98/100\n",
            "62/62 [==============================] - 6s 101ms/step - loss: 0.0010\n",
            "Epoch 99/100\n",
            "62/62 [==============================] - 5s 87ms/step - loss: 6.9996e-04\n",
            "Epoch 100/100\n",
            "62/62 [==============================] - 7s 108ms/step - loss: 7.0705e-04\n"
          ]
        },
        {
          "output_type": "execute_result",
          "data": {
            "text/plain": [
              "<keras.src.callbacks.History at 0x7ddcd5db9d20>"
            ]
          },
          "metadata": {},
          "execution_count": 21
        }
      ],
      "source": [
        "model.fit(btcx_train,btcy_train,epochs=100,batch_size=32)"
      ]
    },
    {
      "cell_type": "code",
      "source": [
        "btcx_test.shape"
      ],
      "metadata": {
        "id": "j6P8L8fZPnSo"
      },
      "execution_count": null,
      "outputs": []
    },
    {
      "cell_type": "code",
      "execution_count": null,
      "metadata": {
        "id": "VGWowdMCk1O8"
      },
      "outputs": [],
      "source": [
        "btcy_pred=model.predict(btcx_test)"
      ]
    },
    {
      "cell_type": "code",
      "execution_count": null,
      "metadata": {
        "id": "I3VDcCxruoTS"
      },
      "outputs": [],
      "source": [
        "\n",
        "print('MAE =',mean_absolute_error(btcy_test,btcy_pred))\n"
      ]
    },
    {
      "cell_type": "code",
      "execution_count": null,
      "metadata": {
        "id": "6kimKXxoXOR2"
      },
      "outputs": [],
      "source": [
        "print('MAPE =',mean_absolute_percentage_error(btcy_test,btcy_pred))"
      ]
    },
    {
      "cell_type": "code",
      "execution_count": null,
      "metadata": {
        "id": "Vzad0OzaXl0Z"
      },
      "outputs": [],
      "source": [
        "print('MSE=',mean_squared_error(btcy_test,btcy_pred))"
      ]
    },
    {
      "cell_type": "code",
      "execution_count": null,
      "metadata": {
        "id": "CiKK6GEFhoo9"
      },
      "outputs": [],
      "source": [
        "#Root Mean Sqquare Erorr\n",
        "print('RMSE=',np.sqrt(mean_squared_error(btcy_test,btcy_pred)))"
      ]
    },
    {
      "cell_type": "markdown",
      "metadata": {
        "id": "uHg7WsBKhmKo"
      },
      "source": [
        "# **......LETCOIN......**"
      ]
    },
    {
      "cell_type": "code",
      "execution_count": null,
      "metadata": {
        "id": "ybJaV55lielV"
      },
      "outputs": [],
      "source": [
        "ltcpath='/content/LTC-USD (1).csv'\n"
      ]
    },
    {
      "cell_type": "code",
      "execution_count": null,
      "metadata": {
        "id": "mD2mEwi5iel5"
      },
      "outputs": [],
      "source": [
        "ltc=pd.read_csv(ltcpath)"
      ]
    },
    {
      "cell_type": "code",
      "execution_count": null,
      "metadata": {
        "id": "itWVZaGLiel6"
      },
      "outputs": [],
      "source": [
        "ltc"
      ]
    },
    {
      "cell_type": "code",
      "execution_count": null,
      "metadata": {
        "id": "B18ATAkuiel6"
      },
      "outputs": [],
      "source": [
        "ltc_close=ltc.iloc[: , 4:5].values"
      ]
    },
    {
      "cell_type": "code",
      "execution_count": null,
      "metadata": {
        "id": "Z8nJkXdKiel7"
      },
      "outputs": [],
      "source": [
        "ltc.info()"
      ]
    },
    {
      "cell_type": "code",
      "execution_count": null,
      "metadata": {
        "id": "dHZcEaKAiel7"
      },
      "outputs": [],
      "source": [
        "ltc_close"
      ]
    },
    {
      "cell_type": "code",
      "execution_count": null,
      "metadata": {
        "id": "gHR6DNtIiel8"
      },
      "outputs": [],
      "source": [
        "ltc_close=scaler.fit_transform(ltc_close)"
      ]
    },
    {
      "cell_type": "code",
      "execution_count": null,
      "metadata": {
        "id": "vcGdQuFCiel8"
      },
      "outputs": [],
      "source": [
        "ltc_close"
      ]
    },
    {
      "cell_type": "code",
      "source": [
        "ltc_train_size = int(len(ltc_close)*.8 )\n",
        "ltc_train=ltc_close[:ltc_train_size]\n",
        "ltc_test=ltc_close[ltc_train_size:]"
      ],
      "metadata": {
        "id": "v7SeeIRFOADY"
      },
      "execution_count": null,
      "outputs": []
    },
    {
      "cell_type": "code",
      "source": [
        "SEQUENCE_SIZE=30\n",
        "ltcx_train,ltcy_train = split(SEQUENCE_SIZE,ltc_train)\n",
        "ltcx_test,ltcy_test = split(SEQUENCE_SIZE,ltc_test)\n",
        "\n",
        "print(\"Shape of training set: {}\".format(ltcx_train.shape))\n",
        "print(\"Shape of test set: {}\".format(ltcx_test.shape))"
      ],
      "metadata": {
        "id": "LKqcA7moOADu"
      },
      "execution_count": null,
      "outputs": []
    },
    {
      "cell_type": "code",
      "execution_count": null,
      "metadata": {
        "id": "0uRirW4Giel-"
      },
      "outputs": [],
      "source": [
        "ltcx_train = ltcx_train.reshape( ltcx_train.shape[0], ltcx_train.shape[1], 1)"
      ]
    },
    {
      "cell_type": "code",
      "execution_count": null,
      "metadata": {
        "id": "0HDZ7g9Eiel-"
      },
      "outputs": [],
      "source": [
        "ltcx_train.shape"
      ]
    },
    {
      "cell_type": "code",
      "execution_count": null,
      "metadata": {
        "id": "JoKC464Ciel_"
      },
      "outputs": [],
      "source": []
    },
    {
      "cell_type": "code",
      "execution_count": null,
      "metadata": {
        "id": "zvtQccA_iel_"
      },
      "outputs": [],
      "source": [
        "model=Sequential()\n",
        "model.add(LSTM(units=30,return_sequences=True,input_shape=(ltcx_train.shape[1],1)))\n",
        "model.add(Dropout(0.2))\n",
        "model.add(LSTM(units=60,return_sequences=True))\n",
        "model.add(Dropout(0.2))\n",
        "model.add(LSTM(units=90))\n",
        "model.add(Dropout(0.2))\n",
        "model.add(Dense(units=1))\n",
        "model.compile(optimizer='adam',loss='mean_squared_error')\n",
        "model.summary()"
      ]
    },
    {
      "cell_type": "code",
      "execution_count": null,
      "metadata": {
        "id": "8_3yqbI8iemA"
      },
      "outputs": [],
      "source": [
        "model.fit(ltcx_train,ltcy_train,epochs=10,batch_size=30)"
      ]
    },
    {
      "cell_type": "code",
      "execution_count": null,
      "metadata": {
        "id": "e79pJYN3iemH"
      },
      "outputs": [],
      "source": [
        "ltcy_pred=model.predict(ltcx_test)"
      ]
    },
    {
      "cell_type": "code",
      "execution_count": null,
      "metadata": {
        "id": "XFt8ZdgBiemH"
      },
      "outputs": [],
      "source": [
        "\n",
        "print('MAE =',mean_absolute_error(ltcy_test,ltcy_pred))\n"
      ]
    },
    {
      "cell_type": "code",
      "execution_count": null,
      "metadata": {
        "id": "f3lnIGcviemI"
      },
      "outputs": [],
      "source": [
        "print('MAPE =',mean_absolute_percentage_error(ltcy_test,ltcy_pred))"
      ]
    },
    {
      "cell_type": "code",
      "execution_count": null,
      "metadata": {
        "id": "sEMWxMzOiemI"
      },
      "outputs": [],
      "source": [
        "print('MSE=',mean_squared_error(ltcy_test,ltcy_pred))"
      ]
    },
    {
      "cell_type": "code",
      "execution_count": null,
      "metadata": {
        "id": "TONpN09ZhUl2"
      },
      "outputs": [],
      "source": [
        "#Root Mean Squre Erorr\n",
        "print('RMSE=',np.sqrt(mean_squared_error(ltcy_test,ltcy_pred)))"
      ]
    },
    {
      "cell_type": "markdown",
      "metadata": {
        "id": "Fv6jxI_CGYQO"
      },
      "source": [
        "# **......ETHEREUM......**"
      ]
    },
    {
      "cell_type": "code",
      "execution_count": null,
      "metadata": {
        "id": "mvpKcBedGkod"
      },
      "outputs": [],
      "source": []
    },
    {
      "cell_type": "code",
      "execution_count": null,
      "metadata": {
        "id": "Pjfn7rYQGwVi"
      },
      "outputs": [],
      "source": [
        "ethpath='/content/ETH-USD.csv'\n"
      ]
    },
    {
      "cell_type": "code",
      "execution_count": null,
      "metadata": {
        "id": "ZmNfW1p2GwV3"
      },
      "outputs": [],
      "source": [
        "eth=pd.read_csv(ethpath)"
      ]
    },
    {
      "cell_type": "code",
      "execution_count": null,
      "metadata": {
        "id": "FIr-d6jnGwV4"
      },
      "outputs": [],
      "source": [
        "eth"
      ]
    },
    {
      "cell_type": "code",
      "execution_count": null,
      "metadata": {
        "id": "6OmmjYvkGwV4"
      },
      "outputs": [],
      "source": [
        "eth_close=eth.iloc[: , 4:5].values"
      ]
    },
    {
      "cell_type": "code",
      "execution_count": null,
      "metadata": {
        "id": "V-0ANQzJGwV5"
      },
      "outputs": [],
      "source": [
        "eth.info()"
      ]
    },
    {
      "cell_type": "code",
      "execution_count": null,
      "metadata": {
        "id": "kf4caRhtGwV5"
      },
      "outputs": [],
      "source": [
        "eth_close"
      ]
    },
    {
      "cell_type": "code",
      "execution_count": null,
      "metadata": {
        "id": "RSRnKkjRGwV6"
      },
      "outputs": [],
      "source": [
        "\n",
        "eth_close=scaler.fit_transform(eth_close)"
      ]
    },
    {
      "cell_type": "code",
      "execution_count": null,
      "metadata": {
        "id": "H6EhWKb5GwV6"
      },
      "outputs": [],
      "source": [
        "eth_close"
      ]
    },
    {
      "cell_type": "code",
      "source": [
        "eth_train_size = int(len(eth_close)*.8 )\n",
        "eth_train=eth_close[:eth_train_size]\n",
        "eth_test=eth_close[eth_train_size:]"
      ],
      "metadata": {
        "id": "ebI2ZD4jPmx_"
      },
      "execution_count": null,
      "outputs": []
    },
    {
      "cell_type": "code",
      "source": [
        "SEQUENCE_SIZE=30\n",
        "ethx_train,ethy_train = split(SEQUENCE_SIZE,eth_test)\n",
        "ethx_test,ethy_test = split(SEQUENCE_SIZE,eth_test)\n",
        "\n",
        "print(\"Shape of training set: {}\".format(ethx_train.shape))\n",
        "print(\"Shape of test set: {}\".format(ethx_test.shape))"
      ],
      "metadata": {
        "id": "yordF2ouPmyN"
      },
      "execution_count": null,
      "outputs": []
    },
    {
      "cell_type": "code",
      "execution_count": null,
      "metadata": {
        "id": "OnL8Pe8RGwV8"
      },
      "outputs": [],
      "source": [
        "ethx_train = ethx_train.reshape( ethx_train.shape[0], ethx_train.shape[1], 1)"
      ]
    },
    {
      "cell_type": "code",
      "execution_count": null,
      "metadata": {
        "id": "xXmJpyxhGwV8"
      },
      "outputs": [],
      "source": [
        "ethx_train.shape"
      ]
    },
    {
      "cell_type": "code",
      "execution_count": null,
      "metadata": {
        "id": "wpRvNiFNGwV9"
      },
      "outputs": [],
      "source": [
        "model=Sequential()\n",
        "model.add(LSTM(units=30,return_sequences=True,input_shape=(ethx_train.shape[1],1)))\n",
        "model.add(Dropout(0.2))\n",
        "model.add(LSTM(units=60,return_sequences=True))\n",
        "model.add(Dropout(0.2))\n",
        "model.add(LSTM(units=90))\n",
        "model.add(Dropout(0.2))\n",
        "model.add(Dense(units=1))\n",
        "model.compile(optimizer='adam',loss='mean_squared_error')\n",
        "model.summary()"
      ]
    },
    {
      "cell_type": "code",
      "execution_count": null,
      "metadata": {
        "id": "Bb7JHV6qGwV9"
      },
      "outputs": [],
      "source": [
        "model.fit(ethx_train,ethy_train,epochs=10,batch_size=30)"
      ]
    },
    {
      "cell_type": "code",
      "execution_count": null,
      "metadata": {
        "id": "ATQ52Pt1GwV_"
      },
      "outputs": [],
      "source": [
        "ethy_pred=model.predict(ethx_test)"
      ]
    },
    {
      "cell_type": "code",
      "execution_count": null,
      "metadata": {
        "id": "IHrF6lR9GwV_"
      },
      "outputs": [],
      "source": [
        "print('MAE =',mean_absolute_error(ethy_test,ethy_pred))\n"
      ]
    },
    {
      "cell_type": "code",
      "execution_count": null,
      "metadata": {
        "id": "WckIDwOrGwV_"
      },
      "outputs": [],
      "source": [
        "print('MAPE =',mean_absolute_percentage_error(ethy_test,ethy_pred))"
      ]
    },
    {
      "cell_type": "code",
      "execution_count": null,
      "metadata": {
        "id": "CSUUforGGwWA"
      },
      "outputs": [],
      "source": [
        "print('MSE=',mean_squared_error(ethy_test,ethy_pred))"
      ]
    },
    {
      "cell_type": "code",
      "execution_count": null,
      "metadata": {
        "id": "qxnONT-Fg8LF"
      },
      "outputs": [],
      "source": [
        "#Root Mean Square Erorre\n",
        "print('RMSE=',np.sqrt(mean_squared_error(ethy_test,ethy_pred)))"
      ]
    },
    {
      "cell_type": "markdown",
      "metadata": {
        "id": "gll6syiPJZCZ"
      },
      "source": [
        "# **......XMR.....**"
      ]
    },
    {
      "cell_type": "code",
      "execution_count": null,
      "metadata": {
        "id": "0H4JSZ1IJpe2"
      },
      "outputs": [],
      "source": []
    },
    {
      "cell_type": "code",
      "execution_count": null,
      "metadata": {
        "id": "BAYEuz5MJqSE"
      },
      "outputs": [],
      "source": [
        "xmr_path='/content/XMR-USD.csv'"
      ]
    },
    {
      "cell_type": "code",
      "execution_count": null,
      "metadata": {
        "id": "kTUdCaT2JqSc"
      },
      "outputs": [],
      "source": [
        "xmr=pd.read_csv(xmr_path)"
      ]
    },
    {
      "cell_type": "code",
      "execution_count": null,
      "metadata": {
        "id": "I_Ev6R4XJqSd"
      },
      "outputs": [],
      "source": [
        "xmr"
      ]
    },
    {
      "cell_type": "code",
      "execution_count": null,
      "metadata": {
        "id": "wsOdbZ5hJqSe"
      },
      "outputs": [],
      "source": [
        "xmr_close=xmr.iloc[: , 4:5].values"
      ]
    },
    {
      "cell_type": "code",
      "execution_count": null,
      "metadata": {
        "id": "SC3pIbl0JqSf"
      },
      "outputs": [],
      "source": [
        "xmr_close"
      ]
    },
    {
      "cell_type": "code",
      "execution_count": null,
      "metadata": {
        "id": "dNAsenyYJqSf"
      },
      "outputs": [],
      "source": [
        "xmr_close=scaler.fit_transform(xmr_close)"
      ]
    },
    {
      "cell_type": "code",
      "execution_count": null,
      "metadata": {
        "id": "8UJidTxIJqSg"
      },
      "outputs": [],
      "source": [
        "xmr_close"
      ]
    },
    {
      "cell_type": "code",
      "source": [
        "xmr_train_size = int(len(xmr_close)*.8 )\n",
        "xmr_train=xmr_close[:xmr_train_size]\n",
        "xmr_test=xmr_close[xmr_train_size:]"
      ],
      "metadata": {
        "id": "PwsOqH8xiiZM"
      },
      "execution_count": null,
      "outputs": []
    },
    {
      "cell_type": "code",
      "source": [
        "SEQUENCE_SIZE=30\n",
        "xmrx_train,xmry_train = split(SEQUENCE_SIZE,xmr_train)\n",
        "xmrx_test,xmry_test = split(SEQUENCE_SIZE,xmr_test)\n",
        "\n",
        "print(\"Shape of training set: {}\".format(xmrx_train.shape))\n",
        "print(\"Shape of test set: {}\".format(xmrx_test.shape))"
      ],
      "metadata": {
        "id": "CLGj6nlGco-q"
      },
      "execution_count": null,
      "outputs": []
    },
    {
      "cell_type": "code",
      "execution_count": null,
      "metadata": {
        "id": "4jhPxoiXJqSi"
      },
      "outputs": [],
      "source": [
        "xmrx_train = xmrx_train.reshape( xmrx_train.shape[0], xmrx_train.shape[1], 1)"
      ]
    },
    {
      "cell_type": "code",
      "execution_count": null,
      "metadata": {
        "id": "E2cTW2ifJqSi"
      },
      "outputs": [],
      "source": [
        "xmrx_train.shape"
      ]
    },
    {
      "cell_type": "code",
      "execution_count": null,
      "metadata": {
        "id": "4iC4ll0gJqSj"
      },
      "outputs": [],
      "source": []
    },
    {
      "cell_type": "code",
      "execution_count": null,
      "metadata": {
        "id": "H2rs2iCwJqSj"
      },
      "outputs": [],
      "source": [
        "model=Sequential()\n",
        "model.add(LSTM(units=30,return_sequences=True,input_shape=(xmrx_train.shape[1],1)))\n",
        "model.add(Dropout(0.2))\n",
        "model.add(LSTM(units=60,return_sequences=True))\n",
        "model.add(Dropout(0.2))\n",
        "model.add(LSTM(units=90))\n",
        "model.add(Dropout(0.2))\n",
        "model.add(Dense(units=1))\n",
        "model.compile(optimizer='adam',loss='mean_squared_error')\n",
        "model.summary()"
      ]
    },
    {
      "cell_type": "code",
      "source": [
        "model.fit(xmrx_train,xmry_train,epochs=10,batch_size=30)"
      ],
      "metadata": {
        "id": "v2-0QG7sk5cZ"
      },
      "execution_count": null,
      "outputs": []
    },
    {
      "cell_type": "code",
      "execution_count": null,
      "metadata": {
        "id": "66bodX8TJqSo"
      },
      "outputs": [],
      "source": [
        "xmry_pred=model.predict(xmrx_test)"
      ]
    },
    {
      "cell_type": "code",
      "execution_count": null,
      "metadata": {
        "id": "BqcEcVSNJqSo"
      },
      "outputs": [],
      "source": [
        "from sklearn.metrics import mean_absolute_error\n",
        "print('MAE =',mean_absolute_error(xmry_test,xmry_pred))\n"
      ]
    },
    {
      "cell_type": "code",
      "execution_count": null,
      "metadata": {
        "id": "MD_7XbgEJqSp"
      },
      "outputs": [],
      "source": [
        "from sklearn.metrics import mean_absolute_percentage_error\n",
        "print('MAPE =',mean_absolute_percentage_error(xmry_test,xmry_pred))"
      ]
    },
    {
      "cell_type": "code",
      "execution_count": null,
      "metadata": {
        "id": "WCPx8_HJJqSp"
      },
      "outputs": [],
      "source": [
        "from sklearn.metrics import mean_squared_error\n",
        "print('MSE=',mean_squared_error(xmry_test,xmry_pred))"
      ]
    },
    {
      "cell_type": "code",
      "execution_count": null,
      "metadata": {
        "id": "h82Ol2XzgM8B"
      },
      "outputs": [],
      "source": [
        "#Root Mean Square Erorre\n",
        "print('RMSE=',np.sqrt(mean_squared_error(xmry_test,xmry_pred)))"
      ]
    }
  ],
  "metadata": {
    "colab": {
      "provenance": []
    },
    "kernelspec": {
      "display_name": "Python 3",
      "name": "python3"
    }
  },
  "nbformat": 4,
  "nbformat_minor": 0
}