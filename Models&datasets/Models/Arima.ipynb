{
  "cells": [
    {
      "cell_type": "code",
      "execution_count": null,
      "metadata": {
        "id": "P96c3ITSrQ32"
      },
      "outputs": [],
      "source": [
        "import pandas as pd\n",
        "import numpy as np\n",
        "from sklearn.preprocessing import MinMaxScaler"
      ]
    },
    {
      "cell_type": "code",
      "execution_count": null,
      "metadata": {
        "id": "nYKDPXo3JSTd"
      },
      "outputs": [],
      "source": [
        "import warnings\n",
        "import statsmodels.api as sm\n",
        "import matplotlib.pyplot as plt\n",
        "import itertools\n",
        "from pandas.core import series\n",
        "%matplotlib inline\n",
        "\n"
      ]
    },
    {
      "cell_type": "code",
      "execution_count": null,
      "metadata": {
        "id": "KsfOy33JsCbt"
      },
      "outputs": [],
      "source": [
        "btcpath='/content/BTC-USD (6).csv'   #bitcoin dataset\n",
        "patheth='/content/ETH-USD.csv'       #ehterum dataset\n",
        "pathltc='/content/LTC-USD (1).csv'   #letcoin dataset\n",
        "pathxmr='/content/XMR-USD.csv'       #xmr dataset"
      ]
    },
    {
      "cell_type": "code",
      "execution_count": null,
      "metadata": {
        "id": "tt-CZWg8sTWu"
      },
      "outputs": [],
      "source": [
        "btc=pd.read_csv(btcpath)\n",
        "eth=pd.read_csv(patheth)\n",
        "ltc=pd.read_csv(pathltc)\n",
        "xmr=pd.read_csv(pathxmr)"
      ]
    },
    {
      "cell_type": "code",
      "execution_count": null,
      "metadata": {
        "id": "g6y9-7nysiB_"
      },
      "outputs": [],
      "source": [
        "scaler=MinMaxScaler(feature_range=(0,1))"
      ]
    },
    {
      "cell_type": "code",
      "execution_count": null,
      "metadata": {
        "id": "Zk5gQjB0snlI"
      },
      "outputs": [],
      "source": [
        "btc[['Close']]=scaler.fit_transform(btc[['Close']])"
      ]
    },
    {
      "cell_type": "code",
      "execution_count": null,
      "metadata": {
        "id": "vzRUuLBKhiDw",
        "colab": {
          "base_uri": "https://localhost:8080/"
        },
        "outputId": "0600c39c-42b8-4b5c-f23e-fec92f5770a6"
      },
      "outputs": [
        {
          "output_type": "execute_result",
          "data": {
            "text/plain": [
              "0       0.003302\n",
              "1       0.003653\n",
              "2       0.003984\n",
              "3       0.005644\n",
              "4       0.003528\n",
              "          ...   \n",
              "2474    0.390716\n",
              "2475    0.388971\n",
              "2476    0.390552\n",
              "2477    0.390542\n",
              "2478    0.392982\n",
              "Name: Close, Length: 2479, dtype: float64"
            ]
          },
          "metadata": {},
          "execution_count": 12
        }
      ],
      "source": [
        "btc['Close']"
      ]
    },
    {
      "cell_type": "code",
      "execution_count": null,
      "metadata": {
        "id": "PJjflYN5utZq"
      },
      "outputs": [],
      "source": [
        "btc[['Open']]=scaler.fit_transform(btc[['Open']])"
      ]
    },
    {
      "cell_type": "code",
      "execution_count": null,
      "metadata": {
        "id": "my09vcEWtPCH"
      },
      "outputs": [],
      "source": [
        "x=btc['Open']\n",
        "y=btc['Close']\n",
        "from sklearn.model_selection import train_test_split\n",
        "btcx_train,btcx_test,btcy_train,btcy_test=train_test_split(x,y,test_size=0.2)"
      ]
    },
    {
      "cell_type": "code",
      "execution_count": null,
      "metadata": {
        "id": "giY126KFuZ0Y",
        "colab": {
          "base_uri": "https://localhost:8080/"
        },
        "outputId": "8c6a2cd2-28be-4c29-9884-afb5654c6b07"
      },
      "outputs": [
        {
          "output_type": "execute_result",
          "data": {
            "text/plain": [
              "2156    0.234572\n",
              "170     0.029107\n",
              "1533    0.876260\n",
              "2459    0.380893\n",
              "933     0.136594\n",
              "          ...   \n",
              "581     0.094188\n",
              "1828    0.683950\n",
              "2302    0.404853\n",
              "1159    0.124287\n",
              "1345    0.143613\n",
              "Name: Close, Length: 496, dtype: float64"
            ]
          },
          "metadata": {},
          "execution_count": 15
        }
      ],
      "source": [
        "btcy_test"
      ]
    },
    {
      "cell_type": "code",
      "execution_count": null,
      "metadata": {
        "id": "HvKMyZGLvXlH",
        "colab": {
          "base_uri": "https://localhost:8080/",
          "height": 586
        },
        "outputId": "07b1a556-3441-40a2-a52b-61c03ea03fde"
      },
      "outputs": [
        {
          "output_type": "stream",
          "name": "stdout",
          "text": [
            "<class 'pandas.core.series.Series'>\n",
            "RangeIndex: 2479 entries, 0 to 2478\n",
            "Series name: Close\n",
            "Non-Null Count  Dtype  \n",
            "--------------  -----  \n",
            "2479 non-null   float64\n",
            "dtypes: float64(1)\n",
            "memory usage: 19.5 KB\n"
          ]
        },
        {
          "output_type": "execute_result",
          "data": {
            "text/plain": [
              "<Axes: >"
            ]
          },
          "metadata": {},
          "execution_count": 16
        },
        {
          "output_type": "display_data",
          "data": {
            "text/plain": [
              "<Figure size 640x480 with 1 Axes>"
            ],
            "image/png": "[encoded data removed]"
          },
          "metadata": {}
        }
      ],
      "source": [
        "btc['Close'].info()\n",
        "btc['Close'].plot()"
      ]
    },
    {
      "cell_type": "code",
      "execution_count": null,
      "metadata": {
        "id": "i1m7yFrEV3F2",
        "colab": {
          "base_uri": "https://localhost:8080/",
          "height": 887
        },
        "outputId": "df8a8632-3de1-4d49-fa22-bbf56efea5ea"
      },
      "outputs": [
        {
          "output_type": "display_data",
          "data": {
            "text/plain": [
              "<Figure size 640x480 with 1 Axes>"
            ],
            "image/png": "[encoded data removed]"
          },
          "metadata": {}
        },
        {
          "output_type": "display_data",
          "data": {
            "text/plain": [
              "<Figure size 640x480 with 1 Axes>"
            ],
            "image/png": "[encoded data removed]"
          },
          "metadata": {}
        }
      ],
      "source": [
        "from statsmodels.graphics.tsaplots import plot_acf , plot_pacf\n",
        "acf_original = plot_acf (btcy_train)\n",
        "pacf_original = plot_pacf(btcy_train)"
      ]
    },
    {
      "cell_type": "code",
      "execution_count": null,
      "metadata": {
        "id": "lcaqwkCZv4ai",
        "colab": {
          "base_uri": "https://localhost:8080/"
        },
        "outputId": "e1646e8b-6f25-490d-c1d8-e4956c478b81"
      },
      "outputs": [
        {
          "output_type": "stream",
          "name": "stdout",
          "text": [
            "p - value : 0.0 \n"
          ]
        }
      ],
      "source": [
        "from statsmodels.tsa.stattools import adfuller\n",
        "adf_test = adfuller( btcy_train )\n",
        "print ( f'p - value : { adf_test[1]} ')"
      ]
    },
    {
      "cell_type": "code",
      "execution_count": null,
      "metadata": {
        "id": "TeA1ARECD7lQ",
        "colab": {
          "base_uri": "https://localhost:8080/"
        },
        "outputId": "c517503a-3cb0-48ad-b224-7b4c887920ad"
      },
      "outputs": [
        {
          "output_type": "stream",
          "name": "stderr",
          "text": [
            "/usr/local/lib/python3.10/dist-packages/statsmodels/tsa/base/tsa_model.py:473: ValueWarning: An unsupported index was provided and will be ignored when e.g. forecasting.\n",
            "  self._init_dates(dates, freq)\n",
            "/usr/local/lib/python3.10/dist-packages/statsmodels/tsa/base/tsa_model.py:473: ValueWarning: An unsupported index was provided and will be ignored when e.g. forecasting.\n",
            "  self._init_dates(dates, freq)\n",
            "/usr/local/lib/python3.10/dist-packages/statsmodels/tsa/base/tsa_model.py:473: ValueWarning: An unsupported index was provided and will be ignored when e.g. forecasting.\n",
            "  self._init_dates(dates, freq)\n"
          ]
        },
        {
          "output_type": "stream",
          "name": "stdout",
          "text": [
            "                               SARIMAX Results                                \n",
            "==============================================================================\n",
            "Dep. Variable:                  Close   No. Observations:                 1983\n",
            "Model:                 ARIMA(2, 1, 0)   Log Likelihood                -262.487\n",
            "Date:                Sun, 05 May 2024   AIC                            530.974\n",
            "Time:                        15:09:23   BIC                            547.750\n",
            "Sample:                             0   HQIC                           537.137\n",
            "                               - 1983                                         \n",
            "Covariance Type:                  opg                                         \n",
            "==============================================================================\n",
            "                 coef    std err          z      P>|z|      [0.025      0.975]\n",
            "------------------------------------------------------------------------------\n",
            "ar.L1         -0.6893      0.021    -32.260      0.000      -0.731      -0.647\n",
            "ar.L2         -0.3187      0.021    -14.854      0.000      -0.361      -0.277\n",
            "sigma2         0.0763      0.002     31.765      0.000       0.072       0.081\n",
            "===================================================================================\n",
            "Ljung-Box (L1) (Q):                  12.11   Jarque-Bera (JB):               117.81\n",
            "Prob(Q):                              0.00   Prob(JB):                         0.00\n",
            "Heteroskedasticity (H):               0.98   Skew:                             0.60\n",
            "Prob(H) (two-sided):                  0.78   Kurtosis:                         3.04\n",
            "===================================================================================\n",
            "\n",
            "Warnings:\n",
            "[1] Covariance matrix calculated using the outer product of gradients (complex-step).\n"
          ]
        }
      ],
      "source": [
        "from statsmodels.tsa.arima.model import ARIMA\n",
        "model_btc = ARIMA(btcy_train, order=(2,1,0))\n",
        "model_fit_btc=model_btc.fit()\n",
        "print(model_fit_btc.summary())"
      ]
    },
    {
      "cell_type": "code",
      "execution_count": null,
      "metadata": {
        "id": "yp1ExVvQJuKW",
        "colab": {
          "base_uri": "https://localhost:8080/"
        },
        "outputId": "d5b1a191-3c15-44ac-a13e-97d156d5df24"
      },
      "outputs": [
        {
          "output_type": "stream",
          "name": "stdout",
          "text": [
            "Collecting pmdarima\n",
            "  Downloading pmdarima-2.0.4-cp310-cp310-manylinux_2_17_x86_64.manylinux2014_x86_64.manylinux_2_28_x86_64.whl (2.1 MB)\n",
            "\u001b[2K     \u001b[90m━━━━━━━━━━━━━━━━━━━━━━━━━━━━━━━━━━━━━━━━\u001b[0m \u001b[32m2.1/2.1 MB\u001b[0m \u001b[31m9.8 MB/s\u001b[0m eta \u001b[36m0:00:00\u001b[0m\n",
            "\u001b[?25hRequirement already satisfied: joblib>=0.11 in /usr/local/lib/python3.10/dist-packages (from pmdarima) (1.4.0)\n",
            "Requirement already satisfied: Cython!=0.29.18,!=0.29.31,>=0.29 in /usr/local/lib/python3.10/dist-packages (from pmdarima) (3.0.10)\n",
            "Requirement already satisfied: numpy>=1.21.2 in /usr/local/lib/python3.10/dist-packages (from pmdarima) (1.25.2)\n",
            "Requirement already satisfied: pandas>=0.19 in /usr/local/lib/python3.10/dist-packages (from pmdarima) (2.0.3)\n",
            "Requirement already satisfied: scikit-learn>=0.22 in /usr/local/lib/python3.10/dist-packages (from pmdarima) (1.2.2)\n",
            "Requirement already satisfied: scipy>=1.3.2 in /usr/local/lib/python3.10/dist-packages (from pmdarima) (1.11.4)\n",
            "Requirement already satisfied: statsmodels>=0.13.2 in /usr/local/lib/python3.10/dist-packages (from pmdarima) (0.14.2)\n",
            "Requirement already satisfied: urllib3 in /usr/local/lib/python3.10/dist-packages (from pmdarima) (2.0.7)\n",
            "Requirement already satisfied: setuptools!=50.0.0,>=38.6.0 in /usr/local/lib/python3.10/dist-packages (from pmdarima) (67.7.2)\n",
            "Requirement already satisfied: packaging>=17.1 in /usr/local/lib/python3.10/dist-packages (from pmdarima) (24.0)\n",
            "Requirement already satisfied: python-dateutil>=2.8.2 in /usr/local/lib/python3.10/dist-packages (from pandas>=0.19->pmdarima) (2.8.2)\n",
            "Requirement already satisfied: pytz>=2020.1 in /usr/local/lib/python3.10/dist-packages (from pandas>=0.19->pmdarima) (2023.4)\n",
            "Requirement already satisfied: tzdata>=2022.1 in /usr/local/lib/python3.10/dist-packages (from pandas>=0.19->pmdarima) (2024.1)\n",
            "Requirement already satisfied: threadpoolctl>=2.0.0 in /usr/local/lib/python3.10/dist-packages (from scikit-learn>=0.22->pmdarima) (3.5.0)\n",
            "Requirement already satisfied: patsy>=0.5.6 in /usr/local/lib/python3.10/dist-packages (from statsmodels>=0.13.2->pmdarima) (0.5.6)\n",
            "Requirement already satisfied: six in /usr/local/lib/python3.10/dist-packages (from patsy>=0.5.6->statsmodels>=0.13.2->pmdarima) (1.16.0)\n",
            "Installing collected packages: pmdarima\n",
            "Successfully installed pmdarima-2.0.4\n"
          ]
        }
      ],
      "source": [
        "pip install pmdarima"
      ]
    },
    {
      "cell_type": "code",
      "execution_count": null,
      "metadata": {
        "id": "DQxjqRx2KT3n",
        "colab": {
          "base_uri": "https://localhost:8080/",
          "height": 75
        },
        "outputId": "7743c695-1866-488e-ab56-c05facc47132"
      },
      "outputs": [
        {
          "output_type": "execute_result",
          "data": {
            "text/plain": [
              "ARIMA(order=(5, 0, 0), scoring_args={}, suppress_warnings=True,\n",
              "      with_intercept=False)"
            ],
            "text/html": [
              "<style>#sk-container-id-1 {color: black;background-color: white;}#sk-container-id-1 pre{padding: 0;}#sk-container-id-1 div.sk-toggleable {background-color: white;}#sk-container-id-1 label.sk-toggleable__label {cursor: pointer;display: block;width: 100%;margin-bottom: 0;padding: 0.3em;box-sizing: border-box;text-align: center;}#sk-container-id-1 label.sk-toggleable__label-arrow:before {content: \"▸\";float: left;margin-right: 0.25em;color: #696969;}#sk-container-id-1 label.sk-toggleable__label-arrow:hover:before {color: black;}#sk-container-id-1 div.sk-estimator:hover label.sk-toggleable__label-arrow:before {color: black;}#sk-container-id-1 div.sk-toggleable__content {max-height: 0;max-width: 0;overflow: hidden;text-align: left;background-color: #f0f8ff;}#sk-container-id-1 div.sk-toggleable__content pre {margin: 0.2em;color: black;border-radius: 0.25em;background-color: #f0f8ff;}#sk-container-id-1 input.sk-toggleable__control:checked~div.sk-toggleable__content {max-height: 200px;max-width: 100%;overflow: auto;}#sk-container-id-1 input.sk-toggleable__control:checked~label.sk-toggleable__label-arrow:before {content: \"▾\";}#sk-container-id-1 div.sk-estimator input.sk-toggleable__control:checked~label.sk-toggleable__label {background-color: #d4ebff;}#sk-container-id-1 div.sk-label input.sk-toggleable__control:checked~label.sk-toggleable__label {background-color: #d4ebff;}#sk-container-id-1 input.sk-hidden--visually {border: 0;clip: rect(1px 1px 1px 1px);clip: rect(1px, 1px, 1px, 1px);height: 1px;margin: -1px;overflow: hidden;padding: 0;position: absolute;width: 1px;}#sk-container-id-1 div.sk-estimator {font-family: monospace;background-color: #f0f8ff;border: 1px dotted black;border-radius: 0.25em;box-sizing: border-box;margin-bottom: 0.5em;}#sk-container-id-1 div.sk-estimator:hover {background-color: #d4ebff;}#sk-container-id-1 div.sk-parallel-item::after {content: \"\";width: 100%;border-bottom: 1px solid gray;flex-grow: 1;}#sk-container-id-1 div.sk-label:hover label.sk-toggleable__label {background-color: #d4ebff;}#sk-container-id-1 div.sk-serial::before {content: \"\";position: absolute;border-left: 1px solid gray;box-sizing: border-box;top: 0;bottom: 0;left: 50%;z-index: 0;}#sk-container-id-1 div.sk-serial {display: flex;flex-direction: column;align-items: center;background-color: white;padding-right: 0.2em;padding-left: 0.2em;position: relative;}#sk-container-id-1 div.sk-item {position: relative;z-index: 1;}#sk-container-id-1 div.sk-parallel {display: flex;align-items: stretch;justify-content: center;background-color: white;position: relative;}#sk-container-id-1 div.sk-item::before, #sk-container-id-1 div.sk-parallel-item::before {content: \"\";position: absolute;border-left: 1px solid gray;box-sizing: border-box;top: 0;bottom: 0;left: 50%;z-index: -1;}#sk-container-id-1 div.sk-parallel-item {display: flex;flex-direction: column;z-index: 1;position: relative;background-color: white;}#sk-container-id-1 div.sk-parallel-item:first-child::after {align-self: flex-end;width: 50%;}#sk-container-id-1 div.sk-parallel-item:last-child::after {align-self: flex-start;width: 50%;}#sk-container-id-1 div.sk-parallel-item:only-child::after {width: 0;}#sk-container-id-1 div.sk-dashed-wrapped {border: 1px dashed gray;margin: 0 0.4em 0.5em 0.4em;box-sizing: border-box;padding-bottom: 0.4em;background-color: white;}#sk-container-id-1 div.sk-label label {font-family: monospace;font-weight: bold;display: inline-block;line-height: 1.2em;}#sk-container-id-1 div.sk-label-container {text-align: center;}#sk-container-id-1 div.sk-container {/* jupyter's `normalize.less` sets `[hidden] { display: none; }` but bootstrap.min.css set `[hidden] { display: none !important; }` so we also need the `!important` here to be able to override the default hidden behavior on the sphinx rendered scikit-learn.org. See: https://github.com/scikit-learn/scikit-learn/issues/21755 */display: inline-block !important;position: relative;}#sk-container-id-1 div.sk-text-repr-fallback {display: none;}</style><div id=\"sk-container-id-1\" class=\"sk-top-container\"><div class=\"sk-text-repr-fallback\"><pre> ARIMA(5,0,0)(0,0,0)[0]          </pre><b>In a Jupyter environment, please rerun this cell to show the HTML representation or trust the notebook. <br />On GitHub, the HTML representation is unable to render, please try loading this page with nbviewer.org.</b></div><div class=\"sk-container\" hidden><div class=\"sk-item\"><div class=\"sk-estimator sk-toggleable\"><input class=\"sk-toggleable__control sk-hidden--visually\" id=\"sk-estimator-id-1\" type=\"checkbox\" checked><label for=\"sk-estimator-id-1\" class=\"sk-toggleable__label sk-toggleable__label-arrow\">ARIMA</label><div class=\"sk-toggleable__content\"><pre> ARIMA(5,0,0)(0,0,0)[0]          </pre></div></div></div></div></div>"
            ]
          },
          "metadata": {},
          "execution_count": 21
        }
      ],
      "source": [
        "import pmdarima as pm\n",
        "auto_arima = pm.auto_arima( btcx_train , stepwise = False , seasonal = False )\n",
        "auto_arima"
      ]
    },
    {
      "cell_type": "code",
      "execution_count": null,
      "metadata": {
        "id": "JwjFwFBwMh57",
        "colab": {
          "base_uri": "https://localhost:8080/",
          "height": 494
        },
        "outputId": "0476ce4e-9030-4875-96a1-529cc02532a6"
      },
      "outputs": [
        {
          "output_type": "execute_result",
          "data": {
            "text/plain": [
              "<class 'statsmodels.iolib.summary.Summary'>\n",
              "\"\"\"\n",
              "                               SARIMAX Results                                \n",
              "==============================================================================\n",
              "Dep. Variable:                      y   No. Observations:                 1983\n",
              "Model:               SARIMAX(5, 0, 0)   Log Likelihood                -138.902\n",
              "Date:                Sun, 05 May 2024   AIC                            289.804\n",
              "Time:                        15:10:28   BIC                            323.358\n",
              "Sample:                             0   HQIC                           302.130\n",
              "                               - 1983                                         \n",
              "Covariance Type:                  opg                                         \n",
              "==============================================================================\n",
              "                 coef    std err          z      P>|z|      [0.025      0.975]\n",
              "------------------------------------------------------------------------------\n",
              "ar.L1          0.1542      0.023      6.714      0.000       0.109       0.199\n",
              "ar.L2          0.2031      0.022      9.117      0.000       0.159       0.247\n",
              "ar.L3          0.1587      0.024      6.694      0.000       0.112       0.205\n",
              "ar.L4          0.1723      0.022      7.777      0.000       0.129       0.216\n",
              "ar.L5          0.1755      0.023      7.737      0.000       0.131       0.220\n",
              "sigma2         0.0673      0.002     31.397      0.000       0.063       0.072\n",
              "===================================================================================\n",
              "Ljung-Box (L1) (Q):                   4.60   Jarque-Bera (JB):               213.48\n",
              "Prob(Q):                              0.03   Prob(JB):                         0.00\n",
              "Heteroskedasticity (H):               1.00   Skew:                             0.80\n",
              "Prob(H) (two-sided):                  0.96   Kurtosis:                         3.06\n",
              "===================================================================================\n",
              "\n",
              "Warnings:\n",
              "[1] Covariance matrix calculated using the outer product of gradients (complex-step).\n",
              "\"\"\""
            ],
            "text/html": [
              "<table class=\"simpletable\">\n",
              "<caption>SARIMAX Results</caption>\n",
              "<tr>\n",
              "  <th>Dep. Variable:</th>           <td>y</td>        <th>  No. Observations:  </th>   <td>1983</td>  \n",
              "</tr>\n",
              "<tr>\n",
              "  <th>Model:</th>           <td>SARIMAX(5, 0, 0)</td> <th>  Log Likelihood     </th> <td>-138.902</td>\n",
              "</tr>\n",
              "<tr>\n",
              "  <th>Date:</th>            <td>Sun, 05 May 2024</td> <th>  AIC                </th>  <td>289.804</td>\n",
              "</tr>\n",
              "<tr>\n",
              "  <th>Time:</th>                <td>15:10:28</td>     <th>  BIC                </th>  <td>323.358</td>\n",
              "</tr>\n",
              "<tr>\n",
              "  <th>Sample:</th>                  <td>0</td>        <th>  HQIC               </th>  <td>302.130</td>\n",
              "</tr>\n",
              "<tr>\n",
              "  <th></th>                      <td> - 1983</td>     <th>                     </th>     <td> </td>   \n",
              "</tr>\n",
              "<tr>\n",
              "  <th>Covariance Type:</th>        <td>opg</td>       <th>                     </th>     <td> </td>   \n",
              "</tr>\n",
              "</table>\n",
              "<table class=\"simpletable\">\n",
              "<tr>\n",
              "     <td></td>       <th>coef</th>     <th>std err</th>      <th>z</th>      <th>P>|z|</th>  <th>[0.025</th>    <th>0.975]</th>  \n",
              "</tr>\n",
              "<tr>\n",
              "  <th>ar.L1</th>  <td>    0.1542</td> <td>    0.023</td> <td>    6.714</td> <td> 0.000</td> <td>    0.109</td> <td>    0.199</td>\n",
              "</tr>\n",
              "<tr>\n",
              "  <th>ar.L2</th>  <td>    0.2031</td> <td>    0.022</td> <td>    9.117</td> <td> 0.000</td> <td>    0.159</td> <td>    0.247</td>\n",
              "</tr>\n",
              "<tr>\n",
              "  <th>ar.L3</th>  <td>    0.1587</td> <td>    0.024</td> <td>    6.694</td> <td> 0.000</td> <td>    0.112</td> <td>    0.205</td>\n",
              "</tr>\n",
              "<tr>\n",
              "  <th>ar.L4</th>  <td>    0.1723</td> <td>    0.022</td> <td>    7.777</td> <td> 0.000</td> <td>    0.129</td> <td>    0.216</td>\n",
              "</tr>\n",
              "<tr>\n",
              "  <th>ar.L5</th>  <td>    0.1755</td> <td>    0.023</td> <td>    7.737</td> <td> 0.000</td> <td>    0.131</td> <td>    0.220</td>\n",
              "</tr>\n",
              "<tr>\n",
              "  <th>sigma2</th> <td>    0.0673</td> <td>    0.002</td> <td>   31.397</td> <td> 0.000</td> <td>    0.063</td> <td>    0.072</td>\n",
              "</tr>\n",
              "</table>\n",
              "<table class=\"simpletable\">\n",
              "<tr>\n",
              "  <th>Ljung-Box (L1) (Q):</th>     <td>4.60</td> <th>  Jarque-Bera (JB):  </th> <td>213.48</td>\n",
              "</tr>\n",
              "<tr>\n",
              "  <th>Prob(Q):</th>                <td>0.03</td> <th>  Prob(JB):          </th>  <td>0.00</td> \n",
              "</tr>\n",
              "<tr>\n",
              "  <th>Heteroskedasticity (H):</th> <td>1.00</td> <th>  Skew:              </th>  <td>0.80</td> \n",
              "</tr>\n",
              "<tr>\n",
              "  <th>Prob(H) (two-sided):</th>    <td>0.96</td> <th>  Kurtosis:          </th>  <td>3.06</td> \n",
              "</tr>\n",
              "</table><br/><br/>Warnings:<br/>[1] Covariance matrix calculated using the outer product of gradients (complex-step)."
            ],
            "text/latex": "\\begin{center}\n\\begin{tabular}{lclc}\n\\toprule\n\\textbf{Dep. Variable:}          &        y         & \\textbf{  No. Observations:  } &    1983     \\\\\n\\textbf{Model:}                  & SARIMAX(5, 0, 0) & \\textbf{  Log Likelihood     } &  -138.902   \\\\\n\\textbf{Date:}                   & Sun, 05 May 2024 & \\textbf{  AIC                } &  289.804    \\\\\n\\textbf{Time:}                   &     15:10:28     & \\textbf{  BIC                } &  323.358    \\\\\n\\textbf{Sample:}                 &        0         & \\textbf{  HQIC               } &  302.130    \\\\\n\\textbf{}                        &      - 1983      & \\textbf{                     } &             \\\\\n\\textbf{Covariance Type:}        &       opg        & \\textbf{                     } &             \\\\\n\\bottomrule\n\\end{tabular}\n\\begin{tabular}{lcccccc}\n                & \\textbf{coef} & \\textbf{std err} & \\textbf{z} & \\textbf{P$> |$z$|$} & \\textbf{[0.025} & \\textbf{0.975]}  \\\\\n\\midrule\n\\textbf{ar.L1}  &       0.1542  &        0.023     &     6.714  &         0.000        &        0.109    &        0.199     \\\\\n\\textbf{ar.L2}  &       0.2031  &        0.022     &     9.117  &         0.000        &        0.159    &        0.247     \\\\\n\\textbf{ar.L3}  &       0.1587  &        0.024     &     6.694  &         0.000        &        0.112    &        0.205     \\\\\n\\textbf{ar.L4}  &       0.1723  &        0.022     &     7.777  &         0.000        &        0.129    &        0.216     \\\\\n\\textbf{ar.L5}  &       0.1755  &        0.023     &     7.737  &         0.000        &        0.131    &        0.220     \\\\\n\\textbf{sigma2} &       0.0673  &        0.002     &    31.397  &         0.000        &        0.063    &        0.072     \\\\\n\\bottomrule\n\\end{tabular}\n\\begin{tabular}{lclc}\n\\textbf{Ljung-Box (L1) (Q):}     & 4.60 & \\textbf{  Jarque-Bera (JB):  } & 213.48  \\\\\n\\textbf{Prob(Q):}                & 0.03 & \\textbf{  Prob(JB):          } &  0.00   \\\\\n\\textbf{Heteroskedasticity (H):} & 1.00 & \\textbf{  Skew:              } &  0.80   \\\\\n\\textbf{Prob(H) (two-sided):}    & 0.96 & \\textbf{  Kurtosis:          } &  3.06   \\\\\n\\bottomrule\n\\end{tabular}\n%\\caption{SARIMAX Results}\n\\end{center}\n\nWarnings: \\newline\n [1] Covariance matrix calculated using the outer product of gradients (complex-step)."
          },
          "metadata": {},
          "execution_count": 22
        }
      ],
      "source": [
        "auto_arima.summary()"
      ]
    },
    {
      "cell_type": "code",
      "execution_count": null,
      "metadata": {
        "id": "Tj4EKCFezEMt",
        "colab": {
          "base_uri": "https://localhost:8080/"
        },
        "outputId": "c56e0aab-39c8-4777-94e0-2c0da36d245b"
      },
      "outputs": [
        {
          "output_type": "stream",
          "name": "stderr",
          "text": [
            "/usr/local/lib/python3.10/dist-packages/statsmodels/tsa/base/tsa_model.py:836: ValueWarning: No supported index is available. Prediction results will be given with an integer index beginning at `start`.\n",
            "  return get_prediction_index(\n",
            "/usr/local/lib/python3.10/dist-packages/statsmodels/tsa/base/tsa_model.py:836: FutureWarning: No supported index is available. In the next version, calling this method in a model without a supported index will result in an exception.\n",
            "  return get_prediction_index(\n"
          ]
        }
      ],
      "source": [
        "btcy_pred = auto_arima.predict(len(btcx_test))"
      ]
    },
    {
      "cell_type": "code",
      "execution_count": null,
      "metadata": {
        "id": "SW71pRE5zi13",
        "colab": {
          "base_uri": "https://localhost:8080/"
        },
        "outputId": "70a2f2e9-0e2f-441b-d2a8-c06bbcce0337"
      },
      "outputs": [
        {
          "output_type": "execute_result",
          "data": {
            "text/plain": [
              "1983    2.759744e-01\n",
              "1984    2.947620e-01\n",
              "1985    2.514657e-01\n",
              "1986    2.814500e-01\n",
              "1987    2.298389e-01\n",
              "            ...     \n",
              "2474    1.869859e-11\n",
              "2475    1.782542e-11\n",
              "2476    1.699304e-11\n",
              "2477    1.619952e-11\n",
              "2478    1.544305e-11\n",
              "Length: 496, dtype: float64"
            ]
          },
          "metadata": {},
          "execution_count": 24
        }
      ],
      "source": [
        "btcy_pred"
      ]
    },
    {
      "cell_type": "code",
      "execution_count": null,
      "metadata": {
        "id": "I3VDcCxruoTS",
        "colab": {
          "base_uri": "https://localhost:8080/"
        },
        "outputId": "ec147725-60b7-491d-87d5-b10fad4e3ff3"
      },
      "outputs": [
        {
          "output_type": "stream",
          "name": "stdout",
          "text": [
            "MAE = 0.25512094319908524\n"
          ]
        }
      ],
      "source": [
        "#btc\n",
        "#mean_absolute_error\n",
        "from sklearn.metrics import mean_absolute_error\n",
        "print('MAE =',mean_absolute_error(btcy_test,btcy_pred))"
      ]
    },
    {
      "cell_type": "code",
      "execution_count": null,
      "metadata": {
        "id": "6kimKXxoXOR2",
        "colab": {
          "base_uri": "https://localhost:8080/"
        },
        "outputId": "b14ee81c-f56f-46f7-ad4d-620959727be2"
      },
      "outputs": [
        {
          "output_type": "stream",
          "name": "stdout",
          "text": [
            "MAPE = 1.0185102079508772\n"
          ]
        }
      ],
      "source": [
        "#mean_absolute_percentage_error\n",
        "from  sklearn.metrics  import  mean_absolute_percentage_error\n",
        "print ( 'MAPE =' ,mean_absolute_percentage_error(btcy_test,btcy_pred))"
      ]
    },
    {
      "cell_type": "code",
      "execution_count": null,
      "metadata": {
        "id": "Vzad0OzaXl0Z",
        "colab": {
          "base_uri": "https://localhost:8080/"
        },
        "outputId": "035e24db-b4ec-429f-98f9-7b76664e26e8"
      },
      "outputs": [
        {
          "output_type": "stream",
          "name": "stdout",
          "text": [
            "MSE= 0.12141757125186008\n"
          ]
        }
      ],
      "source": [
        "#mean_squared_error\n",
        "from sklearn.metrics import mean_squared_error\n",
        "print('MSE=',mean_squared_error(btcy_test,btcy_pred))"
      ]
    },
    {
      "cell_type": "code",
      "execution_count": null,
      "metadata": {
        "id": "dtWQQ7Vv0X5T",
        "colab": {
          "base_uri": "https://localhost:8080/"
        },
        "outputId": "b8412cc7-d204-44cf-db35-8dc4a3fea3bd"
      },
      "outputs": [
        {
          "output_type": "stream",
          "name": "stdout",
          "text": [
            "RMSE= 0.34845024214636455\n"
          ]
        }
      ],
      "source": [
        "#root mean Squared error\n",
        "print('RMSE=',np.sqrt(mean_squared_error(btcy_test,btcy_pred)))"
      ]
    },
    {
      "cell_type": "markdown",
      "metadata": {
        "id": "snbwajXPsOzd"
      },
      "source": [
        "# **Ethereum....**"
      ]
    },
    {
      "cell_type": "code",
      "execution_count": null,
      "metadata": {
        "id": "YkJYQXHGsYT_"
      },
      "outputs": [],
      "source": [
        "eth[['Close']]=scaler.fit_transform(eth[['Close']])"
      ]
    },
    {
      "cell_type": "code",
      "execution_count": null,
      "metadata": {
        "id": "-dQ02_20sYUN",
        "colab": {
          "base_uri": "https://localhost:8080/"
        },
        "outputId": "d094f90d-09a8-44d7-c595-be10a6d413da"
      },
      "outputs": [
        {
          "output_type": "execute_result",
          "data": {
            "text/plain": [
              "0       0.080848\n",
              "1       0.080194\n",
              "2       0.080703\n",
              "3       0.081623\n",
              "4       0.080159\n",
              "          ...   \n",
              "2140    0.313455\n",
              "2141    0.307820\n",
              "2142    0.310459\n",
              "2143    0.311129\n",
              "2144    0.312142\n",
              "Name: Close, Length: 2145, dtype: float64"
            ]
          },
          "metadata": {},
          "execution_count": 30
        }
      ],
      "source": [
        "eth['Close']"
      ]
    },
    {
      "cell_type": "code",
      "execution_count": null,
      "metadata": {
        "id": "mhgdxjZksYUN"
      },
      "outputs": [],
      "source": [
        "eth[['Open']]=scaler.fit_transform(eth[['Open']])"
      ]
    },
    {
      "cell_type": "code",
      "execution_count": null,
      "metadata": {
        "id": "Chi982bzsYUN"
      },
      "outputs": [],
      "source": [
        "x2=eth['Open']\n",
        "y2=eth['Close']\n",
        "from sklearn.model_selection import train_test_split\n",
        "ethx_train,ethx_test,ethy_train,ethy_test=train_test_split(x2,y2,test_size=0.2)"
      ]
    },
    {
      "cell_type": "code",
      "execution_count": null,
      "metadata": {
        "id": "p8xv4pNpsYUN",
        "colab": {
          "base_uri": "https://localhost:8080/"
        },
        "outputId": "0ac2b88f-7469-4818-ac6f-d9e3f3c2149b"
      },
      "outputs": [
        {
          "output_type": "execute_result",
          "data": {
            "text/plain": [
              "1475    0.832120\n",
              "433     0.004278\n",
              "125     0.063227\n",
              "2106    0.330661\n",
              "500     0.016343\n",
              "          ...   \n",
              "1927    0.318540\n",
              "745     0.010429\n",
              "1182    0.294302\n",
              "477     0.011407\n",
              "7       0.078625\n",
              "Name: Close, Length: 429, dtype: float64"
            ]
          },
          "metadata": {},
          "execution_count": 33
        }
      ],
      "source": [
        "ethy_test"
      ]
    },
    {
      "cell_type": "code",
      "execution_count": null,
      "metadata": {
        "id": "Mob_81MDsYUO",
        "colab": {
          "base_uri": "https://localhost:8080/",
          "height": 586
        },
        "outputId": "af029ce4-c824-4974-8ef6-bac2d161daf4"
      },
      "outputs": [
        {
          "output_type": "stream",
          "name": "stdout",
          "text": [
            "<class 'pandas.core.series.Series'>\n",
            "RangeIndex: 2145 entries, 0 to 2144\n",
            "Series name: Close\n",
            "Non-Null Count  Dtype  \n",
            "--------------  -----  \n",
            "2145 non-null   float64\n",
            "dtypes: float64(1)\n",
            "memory usage: 16.9 KB\n"
          ]
        },
        {
          "output_type": "execute_result",
          "data": {
            "text/plain": [
              "<Axes: >"
            ]
          },
          "metadata": {},
          "execution_count": 34
        },
        {
          "output_type": "display_data",
          "data": {
            "text/plain": [
              "<Figure size 640x480 with 1 Axes>"
            ],
            "image/png": "[encoded data removed]"
          },
          "metadata": {}
        }
      ],
      "source": [
        "eth['Close'].info()\n",
        "eth['Close'].plot()"
      ]
    },
    {
      "cell_type": "code",
      "execution_count": null,
      "metadata": {
        "id": "cpzEEI0csYUO",
        "colab": {
          "base_uri": "https://localhost:8080/",
          "height": 887
        },
        "outputId": "30253187-5a50-472f-9a62-127ab3d8cc48"
      },
      "outputs": [
        {
          "output_type": "display_data",
          "data": {
            "text/plain": [
              "<Figure size 640x480 with 1 Axes>"
            ],
            "image/png": "[encoded data removed]"
          },
          "metadata": {}
        },
        {
          "output_type": "display_data",
          "data": {
            "text/plain": [
              "<Figure size 640x480 with 1 Axes>"
            ],
            "image/png": "[encoded data removed]"
          },
          "metadata": {}
        }
      ],
      "source": [
        "from statsmodels.graphics.tsaplots import plot_acf , plot_pacf\n",
        "acf_original = plot_acf (ethy_train)\n",
        "pacf_original = plot_pacf(ethy_train)"
      ]
    },
    {
      "cell_type": "code",
      "execution_count": null,
      "metadata": {
        "id": "H0g9g0Q7sYUO",
        "colab": {
          "base_uri": "https://localhost:8080/"
        },
        "outputId": "54c76a94-ed59-439b-89c6-fc2a8caa50bb"
      },
      "outputs": [
        {
          "output_type": "stream",
          "name": "stdout",
          "text": [
            "p - value : 0.0 \n"
          ]
        }
      ],
      "source": [
        "from statsmodels.tsa.stattools import adfuller\n",
        "adf_test = adfuller( ethy_train )\n",
        "print ( f'p - value : { adf_test[1]} ')"
      ]
    },
    {
      "cell_type": "code",
      "execution_count": null,
      "metadata": {
        "id": "q_Ho5gnksYUP",
        "colab": {
          "base_uri": "https://localhost:8080/"
        },
        "outputId": "f47a6038-af1b-4afb-bade-6d10052c81e9"
      },
      "outputs": [
        {
          "output_type": "stream",
          "name": "stderr",
          "text": [
            "/usr/local/lib/python3.10/dist-packages/statsmodels/tsa/base/tsa_model.py:473: ValueWarning: An unsupported index was provided and will be ignored when e.g. forecasting.\n",
            "  self._init_dates(dates, freq)\n",
            "/usr/local/lib/python3.10/dist-packages/statsmodels/tsa/base/tsa_model.py:473: ValueWarning: An unsupported index was provided and will be ignored when e.g. forecasting.\n",
            "  self._init_dates(dates, freq)\n",
            "/usr/local/lib/python3.10/dist-packages/statsmodels/tsa/base/tsa_model.py:473: ValueWarning: An unsupported index was provided and will be ignored when e.g. forecasting.\n",
            "  self._init_dates(dates, freq)\n"
          ]
        },
        {
          "output_type": "stream",
          "name": "stdout",
          "text": [
            "                               SARIMAX Results                                \n",
            "==============================================================================\n",
            "Dep. Variable:                  Close   No. Observations:                 1716\n",
            "Model:                 ARIMA(2, 1, 0)   Log Likelihood                -239.320\n",
            "Date:                Sun, 05 May 2024   AIC                            484.640\n",
            "Time:                        15:10:30   BIC                            500.982\n",
            "Sample:                             0   HQIC                           490.687\n",
            "                               - 1716                                         \n",
            "Covariance Type:                  opg                                         \n",
            "==============================================================================\n",
            "                 coef    std err          z      P>|z|      [0.025      0.975]\n",
            "------------------------------------------------------------------------------\n",
            "ar.L1         -0.6694      0.023    -29.438      0.000      -0.714      -0.625\n",
            "ar.L2         -0.3213      0.023    -13.910      0.000      -0.367      -0.276\n",
            "sigma2         0.0774      0.003     30.518      0.000       0.072       0.082\n",
            "===================================================================================\n",
            "Ljung-Box (L1) (Q):                   8.70   Jarque-Bera (JB):               111.00\n",
            "Prob(Q):                              0.00   Prob(JB):                         0.00\n",
            "Heteroskedasticity (H):               1.03   Skew:                             0.62\n",
            "Prob(H) (two-sided):                  0.69   Kurtosis:                         3.17\n",
            "===================================================================================\n",
            "\n",
            "Warnings:\n",
            "[1] Covariance matrix calculated using the outer product of gradients (complex-step).\n"
          ]
        }
      ],
      "source": [
        "from statsmodels.tsa.arima.model import ARIMA\n",
        "model_eth = ARIMA(ethy_train, order=(2,1,0))\n",
        "model_fit_eth=model_eth.fit()\n",
        "print(model_fit_eth.summary())"
      ]
    },
    {
      "cell_type": "code",
      "execution_count": null,
      "metadata": {
        "id": "LzfsDSE6sYUP",
        "colab": {
          "base_uri": "https://localhost:8080/"
        },
        "outputId": "741dce98-03f1-4ae8-eae0-f36ba8be4361"
      },
      "outputs": [
        {
          "output_type": "stream",
          "name": "stdout",
          "text": [
            "Requirement already satisfied: pmdarima in /usr/local/lib/python3.10/dist-packages (2.0.4)\n",
            "Requirement already satisfied: joblib>=0.11 in /usr/local/lib/python3.10/dist-packages (from pmdarima) (1.4.0)\n",
            "Requirement already satisfied: Cython!=0.29.18,!=0.29.31,>=0.29 in /usr/local/lib/python3.10/dist-packages (from pmdarima) (3.0.10)\n",
            "Requirement already satisfied: numpy>=1.21.2 in /usr/local/lib/python3.10/dist-packages (from pmdarima) (1.25.2)\n",
            "Requirement already satisfied: pandas>=0.19 in /usr/local/lib/python3.10/dist-packages (from pmdarima) (2.0.3)\n",
            "Requirement already satisfied: scikit-learn>=0.22 in /usr/local/lib/python3.10/dist-packages (from pmdarima) (1.2.2)\n",
            "Requirement already satisfied: scipy>=1.3.2 in /usr/local/lib/python3.10/dist-packages (from pmdarima) (1.11.4)\n",
            "Requirement already satisfied: statsmodels>=0.13.2 in /usr/local/lib/python3.10/dist-packages (from pmdarima) (0.14.2)\n",
            "Requirement already satisfied: urllib3 in /usr/local/lib/python3.10/dist-packages (from pmdarima) (2.0.7)\n",
            "Requirement already satisfied: setuptools!=50.0.0,>=38.6.0 in /usr/local/lib/python3.10/dist-packages (from pmdarima) (67.7.2)\n",
            "Requirement already satisfied: packaging>=17.1 in /usr/local/lib/python3.10/dist-packages (from pmdarima) (24.0)\n",
            "Requirement already satisfied: python-dateutil>=2.8.2 in /usr/local/lib/python3.10/dist-packages (from pandas>=0.19->pmdarima) (2.8.2)\n",
            "Requirement already satisfied: pytz>=2020.1 in /usr/local/lib/python3.10/dist-packages (from pandas>=0.19->pmdarima) (2023.4)\n",
            "Requirement already satisfied: tzdata>=2022.1 in /usr/local/lib/python3.10/dist-packages (from pandas>=0.19->pmdarima) (2024.1)\n",
            "Requirement already satisfied: threadpoolctl>=2.0.0 in /usr/local/lib/python3.10/dist-packages (from scikit-learn>=0.22->pmdarima) (3.5.0)\n",
            "Requirement already satisfied: patsy>=0.5.6 in /usr/local/lib/python3.10/dist-packages (from statsmodels>=0.13.2->pmdarima) (0.5.6)\n",
            "Requirement already satisfied: six in /usr/local/lib/python3.10/dist-packages (from patsy>=0.5.6->statsmodels>=0.13.2->pmdarima) (1.16.0)\n"
          ]
        }
      ],
      "source": [
        "pip install pmdarima"
      ]
    },
    {
      "cell_type": "code",
      "execution_count": null,
      "metadata": {
        "id": "dr9D78N-sYUP",
        "colab": {
          "base_uri": "https://localhost:8080/",
          "height": 75
        },
        "outputId": "4c7acddd-57eb-4801-9173-52b45626d64b"
      },
      "outputs": [
        {
          "output_type": "execute_result",
          "data": {
            "text/plain": [
              "ARIMA(order=(5, 0, 0), scoring_args={}, suppress_warnings=True,\n",
              "      with_intercept=False)"
            ],
            "text/html": [
              "<style>#sk-container-id-2 {color: black;background-color: white;}#sk-container-id-2 pre{padding: 0;}#sk-container-id-2 div.sk-toggleable {background-color: white;}#sk-container-id-2 label.sk-toggleable__label {cursor: pointer;display: block;width: 100%;margin-bottom: 0;padding: 0.3em;box-sizing: border-box;text-align: center;}#sk-container-id-2 label.sk-toggleable__label-arrow:before {content: \"▸\";float: left;margin-right: 0.25em;color: #696969;}#sk-container-id-2 label.sk-toggleable__label-arrow:hover:before {color: black;}#sk-container-id-2 div.sk-estimator:hover label.sk-toggleable__label-arrow:before {color: black;}#sk-container-id-2 div.sk-toggleable__content {max-height: 0;max-width: 0;overflow: hidden;text-align: left;background-color: #f0f8ff;}#sk-container-id-2 div.sk-toggleable__content pre {margin: 0.2em;color: black;border-radius: 0.25em;background-color: #f0f8ff;}#sk-container-id-2 input.sk-toggleable__control:checked~div.sk-toggleable__content {max-height: 200px;max-width: 100%;overflow: auto;}#sk-container-id-2 input.sk-toggleable__control:checked~label.sk-toggleable__label-arrow:before {content: \"▾\";}#sk-container-id-2 div.sk-estimator input.sk-toggleable__control:checked~label.sk-toggleable__label {background-color: #d4ebff;}#sk-container-id-2 div.sk-label input.sk-toggleable__control:checked~label.sk-toggleable__label {background-color: #d4ebff;}#sk-container-id-2 input.sk-hidden--visually {border: 0;clip: rect(1px 1px 1px 1px);clip: rect(1px, 1px, 1px, 1px);height: 1px;margin: -1px;overflow: hidden;padding: 0;position: absolute;width: 1px;}#sk-container-id-2 div.sk-estimator {font-family: monospace;background-color: #f0f8ff;border: 1px dotted black;border-radius: 0.25em;box-sizing: border-box;margin-bottom: 0.5em;}#sk-container-id-2 div.sk-estimator:hover {background-color: #d4ebff;}#sk-container-id-2 div.sk-parallel-item::after {content: \"\";width: 100%;border-bottom: 1px solid gray;flex-grow: 1;}#sk-container-id-2 div.sk-label:hover label.sk-toggleable__label {background-color: #d4ebff;}#sk-container-id-2 div.sk-serial::before {content: \"\";position: absolute;border-left: 1px solid gray;box-sizing: border-box;top: 0;bottom: 0;left: 50%;z-index: 0;}#sk-container-id-2 div.sk-serial {display: flex;flex-direction: column;align-items: center;background-color: white;padding-right: 0.2em;padding-left: 0.2em;position: relative;}#sk-container-id-2 div.sk-item {position: relative;z-index: 1;}#sk-container-id-2 div.sk-parallel {display: flex;align-items: stretch;justify-content: center;background-color: white;position: relative;}#sk-container-id-2 div.sk-item::before, #sk-container-id-2 div.sk-parallel-item::before {content: \"\";position: absolute;border-left: 1px solid gray;box-sizing: border-box;top: 0;bottom: 0;left: 50%;z-index: -1;}#sk-container-id-2 div.sk-parallel-item {display: flex;flex-direction: column;z-index: 1;position: relative;background-color: white;}#sk-container-id-2 div.sk-parallel-item:first-child::after {align-self: flex-end;width: 50%;}#sk-container-id-2 div.sk-parallel-item:last-child::after {align-self: flex-start;width: 50%;}#sk-container-id-2 div.sk-parallel-item:only-child::after {width: 0;}#sk-container-id-2 div.sk-dashed-wrapped {border: 1px dashed gray;margin: 0 0.4em 0.5em 0.4em;box-sizing: border-box;padding-bottom: 0.4em;background-color: white;}#sk-container-id-2 div.sk-label label {font-family: monospace;font-weight: bold;display: inline-block;line-height: 1.2em;}#sk-container-id-2 div.sk-label-container {text-align: center;}#sk-container-id-2 div.sk-container {/* jupyter's `normalize.less` sets `[hidden] { display: none; }` but bootstrap.min.css set `[hidden] { display: none !important; }` so we also need the `!important` here to be able to override the default hidden behavior on the sphinx rendered scikit-learn.org. See: https://github.com/scikit-learn/scikit-learn/issues/21755 */display: inline-block !important;position: relative;}#sk-container-id-2 div.sk-text-repr-fallback {display: none;}</style><div id=\"sk-container-id-2\" class=\"sk-top-container\"><div class=\"sk-text-repr-fallback\"><pre> ARIMA(5,0,0)(0,0,0)[0]          </pre><b>In a Jupyter environment, please rerun this cell to show the HTML representation or trust the notebook. <br />On GitHub, the HTML representation is unable to render, please try loading this page with nbviewer.org.</b></div><div class=\"sk-container\" hidden><div class=\"sk-item\"><div class=\"sk-estimator sk-toggleable\"><input class=\"sk-toggleable__control sk-hidden--visually\" id=\"sk-estimator-id-2\" type=\"checkbox\" checked><label for=\"sk-estimator-id-2\" class=\"sk-toggleable__label sk-toggleable__label-arrow\">ARIMA</label><div class=\"sk-toggleable__content\"><pre> ARIMA(5,0,0)(0,0,0)[0]          </pre></div></div></div></div></div>"
            ]
          },
          "metadata": {},
          "execution_count": 39
        }
      ],
      "source": [
        "import pmdarima as pm\n",
        "auto_arima = pm.auto_arima( ethx_train , stepwise = False , seasonal = False )\n",
        "auto_arima"
      ]
    },
    {
      "cell_type": "code",
      "execution_count": null,
      "metadata": {
        "id": "-rDGO3jSsYUP",
        "colab": {
          "base_uri": "https://localhost:8080/",
          "height": 494
        },
        "outputId": "ecd2dbf0-1348-4b55-a192-b902c6ee8a8b"
      },
      "outputs": [
        {
          "output_type": "execute_result",
          "data": {
            "text/plain": [
              "<class 'statsmodels.iolib.summary.Summary'>\n",
              "\"\"\"\n",
              "                               SARIMAX Results                                \n",
              "==============================================================================\n",
              "Dep. Variable:                      y   No. Observations:                 1716\n",
              "Model:               SARIMAX(5, 0, 0)   Log Likelihood                -130.624\n",
              "Date:                Sun, 05 May 2024   AIC                            273.248\n",
              "Time:                        15:11:33   BIC                            305.935\n",
              "Sample:                             0   HQIC                           285.343\n",
              "                               - 1716                                         \n",
              "Covariance Type:                  opg                                         \n",
              "==============================================================================\n",
              "                 coef    std err          z      P>|z|      [0.025      0.975]\n",
              "------------------------------------------------------------------------------\n",
              "ar.L1          0.1735      0.024      7.103      0.000       0.126       0.221\n",
              "ar.L2          0.1788      0.025      7.108      0.000       0.129       0.228\n",
              "ar.L3          0.1553      0.026      6.035      0.000       0.105       0.206\n",
              "ar.L4          0.1330      0.025      5.241      0.000       0.083       0.183\n",
              "ar.L5          0.1913      0.024      7.925      0.000       0.144       0.239\n",
              "sigma2         0.0681      0.002     29.503      0.000       0.064       0.073\n",
              "===================================================================================\n",
              "Ljung-Box (L1) (Q):                   4.71   Jarque-Bera (JB):               197.55\n",
              "Prob(Q):                              0.03   Prob(JB):                         0.00\n",
              "Heteroskedasticity (H):               0.98   Skew:                             0.83\n",
              "Prob(H) (two-sided):                  0.82   Kurtosis:                         3.14\n",
              "===================================================================================\n",
              "\n",
              "Warnings:\n",
              "[1] Covariance matrix calculated using the outer product of gradients (complex-step).\n",
              "\"\"\""
            ],
            "text/html": [
              "<table class=\"simpletable\">\n",
              "<caption>SARIMAX Results</caption>\n",
              "<tr>\n",
              "  <th>Dep. Variable:</th>           <td>y</td>        <th>  No. Observations:  </th>   <td>1716</td>  \n",
              "</tr>\n",
              "<tr>\n",
              "  <th>Model:</th>           <td>SARIMAX(5, 0, 0)</td> <th>  Log Likelihood     </th> <td>-130.624</td>\n",
              "</tr>\n",
              "<tr>\n",
              "  <th>Date:</th>            <td>Sun, 05 May 2024</td> <th>  AIC                </th>  <td>273.248</td>\n",
              "</tr>\n",
              "<tr>\n",
              "  <th>Time:</th>                <td>15:11:33</td>     <th>  BIC                </th>  <td>305.935</td>\n",
              "</tr>\n",
              "<tr>\n",
              "  <th>Sample:</th>                  <td>0</td>        <th>  HQIC               </th>  <td>285.343</td>\n",
              "</tr>\n",
              "<tr>\n",
              "  <th></th>                      <td> - 1716</td>     <th>                     </th>     <td> </td>   \n",
              "</tr>\n",
              "<tr>\n",
              "  <th>Covariance Type:</th>        <td>opg</td>       <th>                     </th>     <td> </td>   \n",
              "</tr>\n",
              "</table>\n",
              "<table class=\"simpletable\">\n",
              "<tr>\n",
              "     <td></td>       <th>coef</th>     <th>std err</th>      <th>z</th>      <th>P>|z|</th>  <th>[0.025</th>    <th>0.975]</th>  \n",
              "</tr>\n",
              "<tr>\n",
              "  <th>ar.L1</th>  <td>    0.1735</td> <td>    0.024</td> <td>    7.103</td> <td> 0.000</td> <td>    0.126</td> <td>    0.221</td>\n",
              "</tr>\n",
              "<tr>\n",
              "  <th>ar.L2</th>  <td>    0.1788</td> <td>    0.025</td> <td>    7.108</td> <td> 0.000</td> <td>    0.129</td> <td>    0.228</td>\n",
              "</tr>\n",
              "<tr>\n",
              "  <th>ar.L3</th>  <td>    0.1553</td> <td>    0.026</td> <td>    6.035</td> <td> 0.000</td> <td>    0.105</td> <td>    0.206</td>\n",
              "</tr>\n",
              "<tr>\n",
              "  <th>ar.L4</th>  <td>    0.1330</td> <td>    0.025</td> <td>    5.241</td> <td> 0.000</td> <td>    0.083</td> <td>    0.183</td>\n",
              "</tr>\n",
              "<tr>\n",
              "  <th>ar.L5</th>  <td>    0.1913</td> <td>    0.024</td> <td>    7.925</td> <td> 0.000</td> <td>    0.144</td> <td>    0.239</td>\n",
              "</tr>\n",
              "<tr>\n",
              "  <th>sigma2</th> <td>    0.0681</td> <td>    0.002</td> <td>   29.503</td> <td> 0.000</td> <td>    0.064</td> <td>    0.073</td>\n",
              "</tr>\n",
              "</table>\n",
              "<table class=\"simpletable\">\n",
              "<tr>\n",
              "  <th>Ljung-Box (L1) (Q):</th>     <td>4.71</td> <th>  Jarque-Bera (JB):  </th> <td>197.55</td>\n",
              "</tr>\n",
              "<tr>\n",
              "  <th>Prob(Q):</th>                <td>0.03</td> <th>  Prob(JB):          </th>  <td>0.00</td> \n",
              "</tr>\n",
              "<tr>\n",
              "  <th>Heteroskedasticity (H):</th> <td>0.98</td> <th>  Skew:              </th>  <td>0.83</td> \n",
              "</tr>\n",
              "<tr>\n",
              "  <th>Prob(H) (two-sided):</th>    <td>0.82</td> <th>  Kurtosis:          </th>  <td>3.14</td> \n",
              "</tr>\n",
              "</table><br/><br/>Warnings:<br/>[1] Covariance matrix calculated using the outer product of gradients (complex-step)."
            ],
            "text/latex": "\\begin{center}\n\\begin{tabular}{lclc}\n\\toprule\n\\textbf{Dep. Variable:}          &        y         & \\textbf{  No. Observations:  } &    1716     \\\\\n\\textbf{Model:}                  & SARIMAX(5, 0, 0) & \\textbf{  Log Likelihood     } &  -130.624   \\\\\n\\textbf{Date:}                   & Sun, 05 May 2024 & \\textbf{  AIC                } &  273.248    \\\\\n\\textbf{Time:}                   &     15:11:33     & \\textbf{  BIC                } &  305.935    \\\\\n\\textbf{Sample:}                 &        0         & \\textbf{  HQIC               } &  285.343    \\\\\n\\textbf{}                        &      - 1716      & \\textbf{                     } &             \\\\\n\\textbf{Covariance Type:}        &       opg        & \\textbf{                     } &             \\\\\n\\bottomrule\n\\end{tabular}\n\\begin{tabular}{lcccccc}\n                & \\textbf{coef} & \\textbf{std err} & \\textbf{z} & \\textbf{P$> |$z$|$} & \\textbf{[0.025} & \\textbf{0.975]}  \\\\\n\\midrule\n\\textbf{ar.L1}  &       0.1735  &        0.024     &     7.103  &         0.000        &        0.126    &        0.221     \\\\\n\\textbf{ar.L2}  &       0.1788  &        0.025     &     7.108  &         0.000        &        0.129    &        0.228     \\\\\n\\textbf{ar.L3}  &       0.1553  &        0.026     &     6.035  &         0.000        &        0.105    &        0.206     \\\\\n\\textbf{ar.L4}  &       0.1330  &        0.025     &     5.241  &         0.000        &        0.083    &        0.183     \\\\\n\\textbf{ar.L5}  &       0.1913  &        0.024     &     7.925  &         0.000        &        0.144    &        0.239     \\\\\n\\textbf{sigma2} &       0.0681  &        0.002     &    29.503  &         0.000        &        0.064    &        0.073     \\\\\n\\bottomrule\n\\end{tabular}\n\\begin{tabular}{lclc}\n\\textbf{Ljung-Box (L1) (Q):}     & 4.71 & \\textbf{  Jarque-Bera (JB):  } & 197.55  \\\\\n\\textbf{Prob(Q):}                & 0.03 & \\textbf{  Prob(JB):          } &  0.00   \\\\\n\\textbf{Heteroskedasticity (H):} & 0.98 & \\textbf{  Skew:              } &  0.83   \\\\\n\\textbf{Prob(H) (two-sided):}    & 0.82 & \\textbf{  Kurtosis:          } &  3.14   \\\\\n\\bottomrule\n\\end{tabular}\n%\\caption{SARIMAX Results}\n\\end{center}\n\nWarnings: \\newline\n [1] Covariance matrix calculated using the outer product of gradients (complex-step)."
          },
          "metadata": {},
          "execution_count": 40
        }
      ],
      "source": [
        "auto_arima.summary()"
      ]
    },
    {
      "cell_type": "code",
      "execution_count": null,
      "metadata": {
        "id": "VYSvagafsYUQ",
        "colab": {
          "base_uri": "https://localhost:8080/"
        },
        "outputId": "5a1e1930-9c5f-4ee0-ded5-fcf8b06555df"
      },
      "outputs": [
        {
          "output_type": "stream",
          "name": "stderr",
          "text": [
            "/usr/local/lib/python3.10/dist-packages/statsmodels/tsa/base/tsa_model.py:836: ValueWarning: No supported index is available. Prediction results will be given with an integer index beginning at `start`.\n",
            "  return get_prediction_index(\n",
            "/usr/local/lib/python3.10/dist-packages/statsmodels/tsa/base/tsa_model.py:836: FutureWarning: No supported index is available. In the next version, calling this method in a model without a supported index will result in an exception.\n",
            "  return get_prediction_index(\n"
          ]
        }
      ],
      "source": [
        "ethy_pred = auto_arima.predict(len(ethx_test))"
      ]
    },
    {
      "cell_type": "code",
      "execution_count": null,
      "metadata": {
        "id": "aAA6_Ul_sYUQ",
        "colab": {
          "base_uri": "https://localhost:8080/"
        },
        "outputId": "7505e327-a36f-4ddc-dab1-954361d21dc8"
      },
      "outputs": [
        {
          "output_type": "execute_result",
          "data": {
            "text/plain": [
              "1716    3.251696e-01\n",
              "1717    1.996122e-01\n",
              "1718    2.245248e-01\n",
              "1719    2.356380e-01\n",
              "1720    2.140285e-01\n",
              "            ...     \n",
              "2140    2.067581e-12\n",
              "2141    1.946506e-12\n",
              "2142    1.832522e-12\n",
              "2143    1.725212e-12\n",
              "2144    1.624186e-12\n",
              "Length: 429, dtype: float64"
            ]
          },
          "metadata": {},
          "execution_count": 42
        }
      ],
      "source": [
        "ethy_pred"
      ]
    },
    {
      "cell_type": "code",
      "execution_count": null,
      "metadata": {
        "id": "bFWCClUXsYUQ",
        "colab": {
          "base_uri": "https://localhost:8080/"
        },
        "outputId": "ef326558-403a-4e4c-a689-327970eac10e"
      },
      "outputs": [
        {
          "output_type": "stream",
          "name": "stdout",
          "text": [
            "MAE = 0.22286476667587124\n"
          ]
        }
      ],
      "source": [
        "#eth\n",
        "#mean_absolute_error\n",
        "from sklearn.metrics import mean_absolute_error\n",
        "print('MAE =',mean_absolute_error(ethy_test,ethy_pred))"
      ]
    },
    {
      "cell_type": "code",
      "execution_count": null,
      "metadata": {
        "id": "b2Jc2EFKsYUR",
        "colab": {
          "base_uri": "https://localhost:8080/"
        },
        "outputId": "0e9d285e-5aa1-4938-c095-95a6aeeaa1b5"
      },
      "outputs": [
        {
          "output_type": "stream",
          "name": "stdout",
          "text": [
            "MAPE = 1.229329275538584\n"
          ]
        }
      ],
      "source": [
        "#mean_absolute_percentage_error\n",
        "from sklearn.metrics import mean_absolute_percentage_error\n",
        "print('MAPE =',mean_absolute_percentage_error(ethy_test,ethy_pred))"
      ]
    },
    {
      "cell_type": "code",
      "execution_count": null,
      "metadata": {
        "id": "QkewfNjhsYUR",
        "colab": {
          "base_uri": "https://localhost:8080/"
        },
        "outputId": "46d30b8d-d624-466d-83ee-726f95e8eadb"
      },
      "outputs": [
        {
          "output_type": "stream",
          "name": "stdout",
          "text": [
            "MSE= 0.10396342701927495\n"
          ]
        }
      ],
      "source": [
        "#mean_squared_error\n",
        "from sklearn.metrics import mean_squared_error\n",
        "print('MSE=',mean_squared_error(ethy_test,ethy_pred))"
      ]
    },
    {
      "cell_type": "code",
      "execution_count": null,
      "metadata": {
        "id": "mbVpfmjBsYUR",
        "colab": {
          "base_uri": "https://localhost:8080/"
        },
        "outputId": "10b57830-5546-434e-87c7-6d776dd81b95"
      },
      "outputs": [
        {
          "output_type": "stream",
          "name": "stdout",
          "text": [
            "RMSE= 0.3224336009464196\n"
          ]
        }
      ],
      "source": [
        "#root mean Squared error\n",
        "print('RMSE=',np.sqrt(mean_squared_error(ethy_test,ethy_pred)))"
      ]
    },
    {
      "cell_type": "markdown",
      "metadata": {
        "id": "JDN7sy8ztHxU"
      },
      "source": [
        "# **Letcoin....**"
      ]
    },
    {
      "cell_type": "code",
      "execution_count": null,
      "metadata": {
        "id": "H9bhugkitROO"
      },
      "outputs": [],
      "source": [
        "ltc[['Close']]=scaler.fit_transform(ltc[['Close']])"
      ]
    },
    {
      "cell_type": "code",
      "execution_count": null,
      "metadata": {
        "id": "h2pLwqUKtROc",
        "colab": {
          "base_uri": "https://localhost:8080/"
        },
        "outputId": "24a45272-a9f0-4a20-e883-7451e8289914"
      },
      "outputs": [
        {
          "output_type": "execute_result",
          "data": {
            "text/plain": [
              "0       0.009157\n",
              "1       0.008229\n",
              "2       0.008122\n",
              "3       0.008017\n",
              "4       0.008008\n",
              "          ...   \n",
              "3310    0.156615\n",
              "3311    0.155650\n",
              "3312    0.156808\n",
              "3313    0.157044\n",
              "3314    0.157297\n",
              "Name: Close, Length: 3315, dtype: float64"
            ]
          },
          "metadata": {},
          "execution_count": 48
        }
      ],
      "source": [
        "ltc['Close']"
      ]
    },
    {
      "cell_type": "code",
      "execution_count": null,
      "metadata": {
        "id": "sV7iyUdrtROc"
      },
      "outputs": [],
      "source": [
        "ltc[['Open']]=scaler.fit_transform(ltc[['Open']])"
      ]
    },
    {
      "cell_type": "code",
      "execution_count": null,
      "metadata": {
        "id": "O90cwjNptROd"
      },
      "outputs": [],
      "source": [
        "x3=ltc['Open']\n",
        "y3=ltc['Close']\n",
        "from sklearn.model_selection import train_test_split\n",
        "ltcx_train,ltcx_test,ltcy_train,ltcy_test=train_test_split(x3,y3,test_size=0.2)"
      ]
    },
    {
      "cell_type": "code",
      "execution_count": null,
      "metadata": {
        "id": "3aI0pKoWtROd",
        "colab": {
          "base_uri": "https://localhost:8080/"
        },
        "outputId": "8150e426-ace7-444f-ce78-441d89cd3147"
      },
      "outputs": [
        {
          "output_type": "execute_result",
          "data": {
            "text/plain": [
              "980     0.074601\n",
              "3206    0.217026\n",
              "95      0.004487\n",
              "997     0.083207\n",
              "3008    0.197739\n",
              "          ...   \n",
              "1042    0.106601\n",
              "204     0.000960\n",
              "1849    0.143111\n",
              "1256    0.569223\n",
              "2197    0.108750\n",
              "Name: Close, Length: 663, dtype: float64"
            ]
          },
          "metadata": {},
          "execution_count": 51
        }
      ],
      "source": [
        "ltcy_test"
      ]
    },
    {
      "cell_type": "code",
      "execution_count": null,
      "metadata": {
        "id": "AhyiBMGotROd",
        "colab": {
          "base_uri": "https://localhost:8080/",
          "height": 586
        },
        "outputId": "d34292cb-ca0b-45b0-b1cb-c1111fe51f04"
      },
      "outputs": [
        {
          "output_type": "stream",
          "name": "stdout",
          "text": [
            "<class 'pandas.core.series.Series'>\n",
            "RangeIndex: 3315 entries, 0 to 3314\n",
            "Series name: Close\n",
            "Non-Null Count  Dtype  \n",
            "--------------  -----  \n",
            "3315 non-null   float64\n",
            "dtypes: float64(1)\n",
            "memory usage: 26.0 KB\n"
          ]
        },
        {
          "output_type": "execute_result",
          "data": {
            "text/plain": [
              "<Axes: >"
            ]
          },
          "metadata": {},
          "execution_count": 52
        },
        {
          "output_type": "display_data",
          "data": {
            "text/plain": [
              "<Figure size 640x480 with 1 Axes>"
            ],
            "image/png": "[encoded data removed]"
          },
          "metadata": {}
        }
      ],
      "source": [
        "ltc['Close'].info()\n",
        "ltc['Close'].plot()"
      ]
    },
    {
      "cell_type": "code",
      "execution_count": null,
      "metadata": {
        "id": "Ry-n2niwtROd",
        "colab": {
          "base_uri": "https://localhost:8080/",
          "height": 887
        },
        "outputId": "ba8d39b3-71d3-4c6d-a57d-cd3fd1d330f1"
      },
      "outputs": [
        {
          "output_type": "display_data",
          "data": {
            "text/plain": [
              "<Figure size 640x480 with 1 Axes>"
            ],
            "image/png": "[encoded data removed]"
          },
          "metadata": {}
        },
        {
          "output_type": "display_data",
          "data": {
            "text/plain": [
              "<Figure size 640x480 with 1 Axes>"
            ],
            "image/png": "[encoded data removed]"
          },
          "metadata": {}
        }
      ],
      "source": [
        "from statsmodels.graphics.tsaplots import plot_acf , plot_pacf\n",
        "acf_original = plot_acf (ltcy_train)\n",
        "pacf_original = plot_pacf(ltcy_train)"
      ]
    },
    {
      "cell_type": "code",
      "execution_count": null,
      "metadata": {
        "id": "ORJo5N1ItROe",
        "colab": {
          "base_uri": "https://localhost:8080/"
        },
        "outputId": "b02ba442-fc86-4a50-85ff-d1ed56a819dd"
      },
      "outputs": [
        {
          "output_type": "stream",
          "name": "stdout",
          "text": [
            "p - value : 0.0 \n"
          ]
        }
      ],
      "source": [
        "from statsmodels.tsa.stattools import adfuller\n",
        "adf_test = adfuller( ltcy_train )\n",
        "print ( f'p - value : { adf_test[1]} ')"
      ]
    },
    {
      "cell_type": "code",
      "execution_count": null,
      "metadata": {
        "id": "2_bQgMm9tROe",
        "colab": {
          "base_uri": "https://localhost:8080/"
        },
        "outputId": "4649c22c-91ba-4f6a-bc00-31e7da2a80c7"
      },
      "outputs": [
        {
          "output_type": "stream",
          "name": "stderr",
          "text": [
            "/usr/local/lib/python3.10/dist-packages/statsmodels/tsa/base/tsa_model.py:473: ValueWarning: An unsupported index was provided and will be ignored when e.g. forecasting.\n",
            "  self._init_dates(dates, freq)\n",
            "/usr/local/lib/python3.10/dist-packages/statsmodels/tsa/base/tsa_model.py:473: ValueWarning: An unsupported index was provided and will be ignored when e.g. forecasting.\n",
            "  self._init_dates(dates, freq)\n",
            "/usr/local/lib/python3.10/dist-packages/statsmodels/tsa/base/tsa_model.py:473: ValueWarning: An unsupported index was provided and will be ignored when e.g. forecasting.\n",
            "  self._init_dates(dates, freq)\n"
          ]
        },
        {
          "output_type": "stream",
          "name": "stdout",
          "text": [
            "                               SARIMAX Results                                \n",
            "==============================================================================\n",
            "Dep. Variable:                  Close   No. Observations:                 2652\n",
            "Model:                 ARIMA(2, 1, 0)   Log Likelihood                 658.930\n",
            "Date:                Sun, 05 May 2024   AIC                          -1311.859\n",
            "Time:                        15:11:34   BIC                          -1294.211\n",
            "Sample:                             0   HQIC                         -1305.471\n",
            "                               - 2652                                         \n",
            "Covariance Type:                  opg                                         \n",
            "==============================================================================\n",
            "                 coef    std err          z      P>|z|      [0.025      0.975]\n",
            "------------------------------------------------------------------------------\n",
            "ar.L1         -0.6813      0.017    -40.168      0.000      -0.715      -0.648\n",
            "ar.L2         -0.3610      0.016    -22.202      0.000      -0.393      -0.329\n",
            "sigma2         0.0356      0.001     44.365      0.000       0.034       0.037\n",
            "===================================================================================\n",
            "Ljung-Box (L1) (Q):                  18.49   Jarque-Bera (JB):               344.10\n",
            "Prob(Q):                              0.00   Prob(JB):                         0.00\n",
            "Heteroskedasticity (H):               1.19   Skew:                             0.74\n",
            "Prob(H) (two-sided):                  0.01   Kurtosis:                         3.97\n",
            "===================================================================================\n",
            "\n",
            "Warnings:\n",
            "[1] Covariance matrix calculated using the outer product of gradients (complex-step).\n"
          ]
        }
      ],
      "source": [
        "from statsmodels.tsa.arima.model import ARIMA\n",
        "model_ltc = ARIMA(ltcy_train, order=(2,1,0))\n",
        "model_fit_ltc=model_ltc.fit()\n",
        "print(model_fit_ltc.summary())"
      ]
    },
    {
      "cell_type": "code",
      "execution_count": null,
      "metadata": {
        "id": "iifmdwNjtROe",
        "colab": {
          "base_uri": "https://localhost:8080/"
        },
        "outputId": "a792a5da-676b-43a0-d71a-fbd6fee17f0f"
      },
      "outputs": [
        {
          "output_type": "stream",
          "name": "stdout",
          "text": [
            "Requirement already satisfied: pmdarima in /usr/local/lib/python3.10/dist-packages (2.0.4)\n",
            "Requirement already satisfied: joblib>=0.11 in /usr/local/lib/python3.10/dist-packages (from pmdarima) (1.4.0)\n",
            "Requirement already satisfied: Cython!=0.29.18,!=0.29.31,>=0.29 in /usr/local/lib/python3.10/dist-packages (from pmdarima) (3.0.10)\n",
            "Requirement already satisfied: numpy>=1.21.2 in /usr/local/lib/python3.10/dist-packages (from pmdarima) (1.25.2)\n",
            "Requirement already satisfied: pandas>=0.19 in /usr/local/lib/python3.10/dist-packages (from pmdarima) (2.0.3)\n",
            "Requirement already satisfied: scikit-learn>=0.22 in /usr/local/lib/python3.10/dist-packages (from pmdarima) (1.2.2)\n",
            "Requirement already satisfied: scipy>=1.3.2 in /usr/local/lib/python3.10/dist-packages (from pmdarima) (1.11.4)\n",
            "Requirement already satisfied: statsmodels>=0.13.2 in /usr/local/lib/python3.10/dist-packages (from pmdarima) (0.14.2)\n",
            "Requirement already satisfied: urllib3 in /usr/local/lib/python3.10/dist-packages (from pmdarima) (2.0.7)\n",
            "Requirement already satisfied: setuptools!=50.0.0,>=38.6.0 in /usr/local/lib/python3.10/dist-packages (from pmdarima) (67.7.2)\n",
            "Requirement already satisfied: packaging>=17.1 in /usr/local/lib/python3.10/dist-packages (from pmdarima) (24.0)\n",
            "Requirement already satisfied: python-dateutil>=2.8.2 in /usr/local/lib/python3.10/dist-packages (from pandas>=0.19->pmdarima) (2.8.2)\n",
            "Requirement already satisfied: pytz>=2020.1 in /usr/local/lib/python3.10/dist-packages (from pandas>=0.19->pmdarima) (2023.4)\n",
            "Requirement already satisfied: tzdata>=2022.1 in /usr/local/lib/python3.10/dist-packages (from pandas>=0.19->pmdarima) (2024.1)\n",
            "Requirement already satisfied: threadpoolctl>=2.0.0 in /usr/local/lib/python3.10/dist-packages (from scikit-learn>=0.22->pmdarima) (3.5.0)\n",
            "Requirement already satisfied: patsy>=0.5.6 in /usr/local/lib/python3.10/dist-packages (from statsmodels>=0.13.2->pmdarima) (0.5.6)\n",
            "Requirement already satisfied: six in /usr/local/lib/python3.10/dist-packages (from patsy>=0.5.6->statsmodels>=0.13.2->pmdarima) (1.16.0)\n"
          ]
        }
      ],
      "source": [
        "pip install pmdarima"
      ]
    },
    {
      "cell_type": "code",
      "execution_count": null,
      "metadata": {
        "id": "pEjYX1-6tROf",
        "colab": {
          "base_uri": "https://localhost:8080/",
          "height": 75
        },
        "outputId": "fc287952-120e-4523-e2e6-80a6d8d03116"
      },
      "outputs": [
        {
          "output_type": "execute_result",
          "data": {
            "text/plain": [
              "ARIMA(order=(1, 0, 4), scoring_args={}, suppress_warnings=True,\n",
              "      with_intercept=False)"
            ],
            "text/html": [
              "<style>#sk-container-id-3 {color: black;background-color: white;}#sk-container-id-3 pre{padding: 0;}#sk-container-id-3 div.sk-toggleable {background-color: white;}#sk-container-id-3 label.sk-toggleable__label {cursor: pointer;display: block;width: 100%;margin-bottom: 0;padding: 0.3em;box-sizing: border-box;text-align: center;}#sk-container-id-3 label.sk-toggleable__label-arrow:before {content: \"▸\";float: left;margin-right: 0.25em;color: #696969;}#sk-container-id-3 label.sk-toggleable__label-arrow:hover:before {color: black;}#sk-container-id-3 div.sk-estimator:hover label.sk-toggleable__label-arrow:before {color: black;}#sk-container-id-3 div.sk-toggleable__content {max-height: 0;max-width: 0;overflow: hidden;text-align: left;background-color: #f0f8ff;}#sk-container-id-3 div.sk-toggleable__content pre {margin: 0.2em;color: black;border-radius: 0.25em;background-color: #f0f8ff;}#sk-container-id-3 input.sk-toggleable__control:checked~div.sk-toggleable__content {max-height: 200px;max-width: 100%;overflow: auto;}#sk-container-id-3 input.sk-toggleable__control:checked~label.sk-toggleable__label-arrow:before {content: \"▾\";}#sk-container-id-3 div.sk-estimator input.sk-toggleable__control:checked~label.sk-toggleable__label {background-color: #d4ebff;}#sk-container-id-3 div.sk-label input.sk-toggleable__control:checked~label.sk-toggleable__label {background-color: #d4ebff;}#sk-container-id-3 input.sk-hidden--visually {border: 0;clip: rect(1px 1px 1px 1px);clip: rect(1px, 1px, 1px, 1px);height: 1px;margin: -1px;overflow: hidden;padding: 0;position: absolute;width: 1px;}#sk-container-id-3 div.sk-estimator {font-family: monospace;background-color: #f0f8ff;border: 1px dotted black;border-radius: 0.25em;box-sizing: border-box;margin-bottom: 0.5em;}#sk-container-id-3 div.sk-estimator:hover {background-color: #d4ebff;}#sk-container-id-3 div.sk-parallel-item::after {content: \"\";width: 100%;border-bottom: 1px solid gray;flex-grow: 1;}#sk-container-id-3 div.sk-label:hover label.sk-toggleable__label {background-color: #d4ebff;}#sk-container-id-3 div.sk-serial::before {content: \"\";position: absolute;border-left: 1px solid gray;box-sizing: border-box;top: 0;bottom: 0;left: 50%;z-index: 0;}#sk-container-id-3 div.sk-serial {display: flex;flex-direction: column;align-items: center;background-color: white;padding-right: 0.2em;padding-left: 0.2em;position: relative;}#sk-container-id-3 div.sk-item {position: relative;z-index: 1;}#sk-container-id-3 div.sk-parallel {display: flex;align-items: stretch;justify-content: center;background-color: white;position: relative;}#sk-container-id-3 div.sk-item::before, #sk-container-id-3 div.sk-parallel-item::before {content: \"\";position: absolute;border-left: 1px solid gray;box-sizing: border-box;top: 0;bottom: 0;left: 50%;z-index: -1;}#sk-container-id-3 div.sk-parallel-item {display: flex;flex-direction: column;z-index: 1;position: relative;background-color: white;}#sk-container-id-3 div.sk-parallel-item:first-child::after {align-self: flex-end;width: 50%;}#sk-container-id-3 div.sk-parallel-item:last-child::after {align-self: flex-start;width: 50%;}#sk-container-id-3 div.sk-parallel-item:only-child::after {width: 0;}#sk-container-id-3 div.sk-dashed-wrapped {border: 1px dashed gray;margin: 0 0.4em 0.5em 0.4em;box-sizing: border-box;padding-bottom: 0.4em;background-color: white;}#sk-container-id-3 div.sk-label label {font-family: monospace;font-weight: bold;display: inline-block;line-height: 1.2em;}#sk-container-id-3 div.sk-label-container {text-align: center;}#sk-container-id-3 div.sk-container {/* jupyter's `normalize.less` sets `[hidden] { display: none; }` but bootstrap.min.css set `[hidden] { display: none !important; }` so we also need the `!important` here to be able to override the default hidden behavior on the sphinx rendered scikit-learn.org. See: https://github.com/scikit-learn/scikit-learn/issues/21755 */display: inline-block !important;position: relative;}#sk-container-id-3 div.sk-text-repr-fallback {display: none;}</style><div id=\"sk-container-id-3\" class=\"sk-top-container\"><div class=\"sk-text-repr-fallback\"><pre> ARIMA(1,0,4)(0,0,0)[0]          </pre><b>In a Jupyter environment, please rerun this cell to show the HTML representation or trust the notebook. <br />On GitHub, the HTML representation is unable to render, please try loading this page with nbviewer.org.</b></div><div class=\"sk-container\" hidden><div class=\"sk-item\"><div class=\"sk-estimator sk-toggleable\"><input class=\"sk-toggleable__control sk-hidden--visually\" id=\"sk-estimator-id-3\" type=\"checkbox\" checked><label for=\"sk-estimator-id-3\" class=\"sk-toggleable__label sk-toggleable__label-arrow\">ARIMA</label><div class=\"sk-toggleable__content\"><pre> ARIMA(1,0,4)(0,0,0)[0]          </pre></div></div></div></div></div>"
            ]
          },
          "metadata": {},
          "execution_count": 57
        }
      ],
      "source": [
        "import pmdarima as pm\n",
        "auto_arima = pm.auto_arima( ltcx_train , stepwise = False , seasonal = False )\n",
        "auto_arima"
      ]
    },
    {
      "cell_type": "code",
      "execution_count": null,
      "metadata": {
        "id": "wigFxIM-tROf",
        "colab": {
          "base_uri": "https://localhost:8080/",
          "height": 494
        },
        "outputId": "b76638ae-e7bd-4cbd-dc00-c39a8064f9c6"
      },
      "outputs": [
        {
          "output_type": "execute_result",
          "data": {
            "text/plain": [
              "<class 'statsmodels.iolib.summary.Summary'>\n",
              "\"\"\"\n",
              "                               SARIMAX Results                                \n",
              "==============================================================================\n",
              "Dep. Variable:                      y   No. Observations:                 2652\n",
              "Model:               SARIMAX(1, 0, 4)   Log Likelihood                 989.570\n",
              "Date:                Sun, 05 May 2024   AIC                          -1967.140\n",
              "Time:                        15:12:48   BIC                          -1931.841\n",
              "Sample:                             0   HQIC                         -1954.363\n",
              "                               - 2652                                         \n",
              "Covariance Type:                  opg                                         \n",
              "==============================================================================\n",
              "                 coef    std err          z      P>|z|      [0.025      0.975]\n",
              "------------------------------------------------------------------------------\n",
              "ar.L1          0.9981      0.001    952.412      0.000       0.996       1.000\n",
              "ma.L1         -1.0065      0.021    -48.627      0.000      -1.047      -0.966\n",
              "ma.L2          0.0106      0.029      0.369      0.712      -0.046       0.067\n",
              "ma.L3          0.0770      0.028      2.748      0.006       0.022       0.132\n",
              "ma.L4         -0.0474      0.019     -2.518      0.012      -0.084      -0.010\n",
              "sigma2         0.0289      0.001     37.779      0.000       0.027       0.030\n",
              "===================================================================================\n",
              "Ljung-Box (L1) (Q):                   1.30   Jarque-Bera (JB):              1051.35\n",
              "Prob(Q):                              0.25   Prob(JB):                         0.00\n",
              "Heteroskedasticity (H):               1.19   Skew:                             1.24\n",
              "Prob(H) (two-sided):                  0.01   Kurtosis:                         4.83\n",
              "===================================================================================\n",
              "\n",
              "Warnings:\n",
              "[1] Covariance matrix calculated using the outer product of gradients (complex-step).\n",
              "\"\"\""
            ],
            "text/html": [
              "<table class=\"simpletable\">\n",
              "<caption>SARIMAX Results</caption>\n",
              "<tr>\n",
              "  <th>Dep. Variable:</th>           <td>y</td>        <th>  No. Observations:  </th>   <td>2652</td>   \n",
              "</tr>\n",
              "<tr>\n",
              "  <th>Model:</th>           <td>SARIMAX(1, 0, 4)</td> <th>  Log Likelihood     </th>  <td>989.570</td> \n",
              "</tr>\n",
              "<tr>\n",
              "  <th>Date:</th>            <td>Sun, 05 May 2024</td> <th>  AIC                </th> <td>-1967.140</td>\n",
              "</tr>\n",
              "<tr>\n",
              "  <th>Time:</th>                <td>15:12:48</td>     <th>  BIC                </th> <td>-1931.841</td>\n",
              "</tr>\n",
              "<tr>\n",
              "  <th>Sample:</th>                  <td>0</td>        <th>  HQIC               </th> <td>-1954.363</td>\n",
              "</tr>\n",
              "<tr>\n",
              "  <th></th>                      <td> - 2652</td>     <th>                     </th>     <td> </td>    \n",
              "</tr>\n",
              "<tr>\n",
              "  <th>Covariance Type:</th>        <td>opg</td>       <th>                     </th>     <td> </td>    \n",
              "</tr>\n",
              "</table>\n",
              "<table class=\"simpletable\">\n",
              "<tr>\n",
              "     <td></td>       <th>coef</th>     <th>std err</th>      <th>z</th>      <th>P>|z|</th>  <th>[0.025</th>    <th>0.975]</th>  \n",
              "</tr>\n",
              "<tr>\n",
              "  <th>ar.L1</th>  <td>    0.9981</td> <td>    0.001</td> <td>  952.412</td> <td> 0.000</td> <td>    0.996</td> <td>    1.000</td>\n",
              "</tr>\n",
              "<tr>\n",
              "  <th>ma.L1</th>  <td>   -1.0065</td> <td>    0.021</td> <td>  -48.627</td> <td> 0.000</td> <td>   -1.047</td> <td>   -0.966</td>\n",
              "</tr>\n",
              "<tr>\n",
              "  <th>ma.L2</th>  <td>    0.0106</td> <td>    0.029</td> <td>    0.369</td> <td> 0.712</td> <td>   -0.046</td> <td>    0.067</td>\n",
              "</tr>\n",
              "<tr>\n",
              "  <th>ma.L3</th>  <td>    0.0770</td> <td>    0.028</td> <td>    2.748</td> <td> 0.006</td> <td>    0.022</td> <td>    0.132</td>\n",
              "</tr>\n",
              "<tr>\n",
              "  <th>ma.L4</th>  <td>   -0.0474</td> <td>    0.019</td> <td>   -2.518</td> <td> 0.012</td> <td>   -0.084</td> <td>   -0.010</td>\n",
              "</tr>\n",
              "<tr>\n",
              "  <th>sigma2</th> <td>    0.0289</td> <td>    0.001</td> <td>   37.779</td> <td> 0.000</td> <td>    0.027</td> <td>    0.030</td>\n",
              "</tr>\n",
              "</table>\n",
              "<table class=\"simpletable\">\n",
              "<tr>\n",
              "  <th>Ljung-Box (L1) (Q):</th>     <td>1.30</td> <th>  Jarque-Bera (JB):  </th> <td>1051.35</td>\n",
              "</tr>\n",
              "<tr>\n",
              "  <th>Prob(Q):</th>                <td>0.25</td> <th>  Prob(JB):          </th>  <td>0.00</td>  \n",
              "</tr>\n",
              "<tr>\n",
              "  <th>Heteroskedasticity (H):</th> <td>1.19</td> <th>  Skew:              </th>  <td>1.24</td>  \n",
              "</tr>\n",
              "<tr>\n",
              "  <th>Prob(H) (two-sided):</th>    <td>0.01</td> <th>  Kurtosis:          </th>  <td>4.83</td>  \n",
              "</tr>\n",
              "</table><br/><br/>Warnings:<br/>[1] Covariance matrix calculated using the outer product of gradients (complex-step)."
            ],
            "text/latex": "\\begin{center}\n\\begin{tabular}{lclc}\n\\toprule\n\\textbf{Dep. Variable:}          &        y         & \\textbf{  No. Observations:  } &    2652     \\\\\n\\textbf{Model:}                  & SARIMAX(1, 0, 4) & \\textbf{  Log Likelihood     } &  989.570    \\\\\n\\textbf{Date:}                   & Sun, 05 May 2024 & \\textbf{  AIC                } & -1967.140   \\\\\n\\textbf{Time:}                   &     15:12:48     & \\textbf{  BIC                } & -1931.841   \\\\\n\\textbf{Sample:}                 &        0         & \\textbf{  HQIC               } & -1954.363   \\\\\n\\textbf{}                        &      - 2652      & \\textbf{                     } &             \\\\\n\\textbf{Covariance Type:}        &       opg        & \\textbf{                     } &             \\\\\n\\bottomrule\n\\end{tabular}\n\\begin{tabular}{lcccccc}\n                & \\textbf{coef} & \\textbf{std err} & \\textbf{z} & \\textbf{P$> |$z$|$} & \\textbf{[0.025} & \\textbf{0.975]}  \\\\\n\\midrule\n\\textbf{ar.L1}  &       0.9981  &        0.001     &   952.412  &         0.000        &        0.996    &        1.000     \\\\\n\\textbf{ma.L1}  &      -1.0065  &        0.021     &   -48.627  &         0.000        &       -1.047    &       -0.966     \\\\\n\\textbf{ma.L2}  &       0.0106  &        0.029     &     0.369  &         0.712        &       -0.046    &        0.067     \\\\\n\\textbf{ma.L3}  &       0.0770  &        0.028     &     2.748  &         0.006        &        0.022    &        0.132     \\\\\n\\textbf{ma.L4}  &      -0.0474  &        0.019     &    -2.518  &         0.012        &       -0.084    &       -0.010     \\\\\n\\textbf{sigma2} &       0.0289  &        0.001     &    37.779  &         0.000        &        0.027    &        0.030     \\\\\n\\bottomrule\n\\end{tabular}\n\\begin{tabular}{lclc}\n\\textbf{Ljung-Box (L1) (Q):}     & 1.30 & \\textbf{  Jarque-Bera (JB):  } & 1051.35  \\\\\n\\textbf{Prob(Q):}                & 0.25 & \\textbf{  Prob(JB):          } &   0.00   \\\\\n\\textbf{Heteroskedasticity (H):} & 1.19 & \\textbf{  Skew:              } &   1.24   \\\\\n\\textbf{Prob(H) (two-sided):}    & 0.01 & \\textbf{  Kurtosis:          } &   4.83   \\\\\n\\bottomrule\n\\end{tabular}\n%\\caption{SARIMAX Results}\n\\end{center}\n\nWarnings: \\newline\n [1] Covariance matrix calculated using the outer product of gradients (complex-step)."
          },
          "metadata": {},
          "execution_count": 58
        }
      ],
      "source": [
        "auto_arima.summary()"
      ]
    },
    {
      "cell_type": "code",
      "execution_count": null,
      "metadata": {
        "id": "jlEwBQoYtROf",
        "colab": {
          "base_uri": "https://localhost:8080/"
        },
        "outputId": "dacebd52-2c41-4e78-f839-86496afc3971"
      },
      "outputs": [
        {
          "output_type": "stream",
          "name": "stderr",
          "text": [
            "/usr/local/lib/python3.10/dist-packages/statsmodels/tsa/base/tsa_model.py:836: ValueWarning: No supported index is available. Prediction results will be given with an integer index beginning at `start`.\n",
            "  return get_prediction_index(\n",
            "/usr/local/lib/python3.10/dist-packages/statsmodels/tsa/base/tsa_model.py:836: FutureWarning: No supported index is available. In the next version, calling this method in a model without a supported index will result in an exception.\n",
            "  return get_prediction_index(\n"
          ]
        }
      ],
      "source": [
        "ltcy_pred = auto_arima.predict(len(ltcx_test))"
      ]
    },
    {
      "cell_type": "code",
      "execution_count": null,
      "metadata": {
        "id": "VuHjWRT9tROf",
        "colab": {
          "base_uri": "https://localhost:8080/"
        },
        "outputId": "ba0d986c-47fb-44bd-ddc1-47a2ecdd33ec"
      },
      "outputs": [
        {
          "output_type": "execute_result",
          "data": {
            "text/plain": [
              "2652    0.145054\n",
              "2653    0.145569\n",
              "2654    0.137104\n",
              "2655    0.142542\n",
              "2656    0.142273\n",
              "          ...   \n",
              "3310    0.041483\n",
              "3311    0.041405\n",
              "3312    0.041327\n",
              "3313    0.041249\n",
              "3314    0.041172\n",
              "Length: 663, dtype: float64"
            ]
          },
          "metadata": {},
          "execution_count": 60
        }
      ],
      "source": [
        "ltcy_pred"
      ]
    },
    {
      "cell_type": "code",
      "execution_count": null,
      "metadata": {
        "id": "wCW2LlDotROg",
        "colab": {
          "base_uri": "https://localhost:8080/"
        },
        "outputId": "6d4edbf9-af78-4bd1-f5d4-f7d7f6f4e37c"
      },
      "outputs": [
        {
          "output_type": "stream",
          "name": "stdout",
          "text": [
            "MAE = 0.14180652652128814\n"
          ]
        }
      ],
      "source": [
        "#ltc\n",
        "#mean_absolute_error\n",
        "from sklearn.metrics import mean_absolute_error\n",
        "print('MAE =',mean_absolute_error(ltcy_test,ltcy_pred))"
      ]
    },
    {
      "cell_type": "code",
      "execution_count": null,
      "metadata": {
        "id": "2ZO8Z6K_tROg",
        "colab": {
          "base_uri": "https://localhost:8080/"
        },
        "outputId": "07d921c3-8181-4d26-88f2-e566b58be35d"
      },
      "outputs": [
        {
          "output_type": "stream",
          "name": "stdout",
          "text": [
            "MAPE = 6.736033033589333\n"
          ]
        }
      ],
      "source": [
        "#mean_absolute_percentage_error\n",
        "from sklearn.metrics import mean_absolute_percentage_error\n",
        "print('MAPE =',mean_absolute_percentage_error(ltcy_test,ltcy_pred))"
      ]
    },
    {
      "cell_type": "code",
      "execution_count": null,
      "metadata": {
        "id": "Mr5FhMO9tROg",
        "colab": {
          "base_uri": "https://localhost:8080/"
        },
        "outputId": "0fca3e7f-e424-45c9-8f56-b130451337b5"
      },
      "outputs": [
        {
          "output_type": "stream",
          "name": "stdout",
          "text": [
            "MSE= 0.041073855196085224\n"
          ]
        }
      ],
      "source": [
        "#mean_squared_error\n",
        "from sklearn.metrics import mean_squared_error\n",
        "print('MSE=',mean_squared_error(ltcy_test,ltcy_pred))"
      ]
    },
    {
      "cell_type": "code",
      "execution_count": null,
      "metadata": {
        "id": "lRBzfv6OtROg",
        "colab": {
          "base_uri": "https://localhost:8080/"
        },
        "outputId": "01f4fd52-660b-4354-c771-17512be5baf0"
      },
      "outputs": [
        {
          "output_type": "stream",
          "name": "stdout",
          "text": [
            "RMSE= 0.20266685766569043\n"
          ]
        }
      ],
      "source": [
        "#root mean Squared error\n",
        "print('RMSE=',np.sqrt(mean_squared_error(ltcy_test,ltcy_pred)))"
      ]
    },
    {
      "cell_type": "markdown",
      "metadata": {
        "id": "mhntp0Dwukmm"
      },
      "source": [
        "# **XMR...**"
      ]
    },
    {
      "cell_type": "code",
      "execution_count": null,
      "metadata": {
        "id": "_CCfGA1MuiZ6"
      },
      "outputs": [],
      "source": [
        "xmr[['Close']]=scaler.fit_transform(xmr[['Close']])"
      ]
    },
    {
      "cell_type": "code",
      "execution_count": null,
      "metadata": {
        "id": "yBNATHiXuiaP",
        "colab": {
          "base_uri": "https://localhost:8080/"
        },
        "outputId": "db0696c9-e848-4b7a-b0f0-839269b317a6"
      },
      "outputs": [
        {
          "output_type": "execute_result",
          "data": {
            "text/plain": [
              "0       0.161074\n",
              "1       0.192212\n",
              "2       0.201622\n",
              "3       0.200615\n",
              "4       0.198287\n",
              "          ...   \n",
              "2161    0.268173\n",
              "2162    0.264844\n",
              "2163    0.267615\n",
              "2164    0.265934\n",
              "2165    0.265928\n",
              "Name: Close, Length: 2166, dtype: float64"
            ]
          },
          "metadata": {},
          "execution_count": 66
        }
      ],
      "source": [
        "xmr['Close']"
      ]
    },
    {
      "cell_type": "code",
      "execution_count": null,
      "metadata": {
        "id": "az8GkgzauiaP"
      },
      "outputs": [],
      "source": [
        "xmr[['Open']]=scaler.fit_transform(xmr[['Open']])"
      ]
    },
    {
      "cell_type": "code",
      "execution_count": null,
      "metadata": {
        "id": "Ojvgb-4auiaQ"
      },
      "outputs": [],
      "source": [
        "x4=xmr['Open']\n",
        "y4=xmr['Close']\n",
        "from sklearn.model_selection import train_test_split\n",
        "xmrx_train,xmrx_test,xmry_train,xmry_test=train_test_split(x4,y4,test_size=0.2)"
      ]
    },
    {
      "cell_type": "code",
      "execution_count": null,
      "metadata": {
        "id": "3w1LqQ3YuiaQ",
        "colab": {
          "base_uri": "https://localhost:8080/"
        },
        "outputId": "1eb85b40-bedb-4402-8a4e-777068636ad5"
      },
      "outputs": [
        {
          "output_type": "execute_result",
          "data": {
            "text/plain": [
              "761     0.044516\n",
              "635     0.143097\n",
              "2162    0.264844\n",
              "1175    0.228590\n",
              "685     0.054517\n",
              "          ...   \n",
              "1252    0.690751\n",
              "888     0.052987\n",
              "726     0.069242\n",
              "1546    0.252179\n",
              "222     0.198717\n",
              "Name: Close, Length: 434, dtype: float64"
            ]
          },
          "metadata": {},
          "execution_count": 69
        }
      ],
      "source": [
        "xmry_test"
      ]
    },
    {
      "cell_type": "code",
      "execution_count": null,
      "metadata": {
        "id": "HJVaLhmVuiaQ",
        "colab": {
          "base_uri": "https://localhost:8080/",
          "height": 586
        },
        "outputId": "e5ff2780-24d4-4014-8c79-30fdabae04bf"
      },
      "outputs": [
        {
          "output_type": "stream",
          "name": "stdout",
          "text": [
            "<class 'pandas.core.series.Series'>\n",
            "RangeIndex: 2166 entries, 0 to 2165\n",
            "Series name: Close\n",
            "Non-Null Count  Dtype  \n",
            "--------------  -----  \n",
            "2166 non-null   float64\n",
            "dtypes: float64(1)\n",
            "memory usage: 17.0 KB\n"
          ]
        },
        {
          "output_type": "execute_result",
          "data": {
            "text/plain": [
              "<Axes: >"
            ]
          },
          "metadata": {},
          "execution_count": 70
        },
        {
          "output_type": "display_data",
          "data": {
            "text/plain": [
              "<Figure size 640x480 with 1 Axes>"
            ],
            "image/png": "[encoded data removed]"
          },
          "metadata": {}
        }
      ],
      "source": [
        "xmr['Close'].info()\n",
        "xmr['Close'].plot()"
      ]
    },
    {
      "cell_type": "code",
      "execution_count": null,
      "metadata": {
        "id": "OzMeYzbKuiaR",
        "colab": {
          "base_uri": "https://localhost:8080/",
          "height": 887
        },
        "outputId": "0682f938-1ccb-4ff9-c1c4-1304c93b31e0"
      },
      "outputs": [
        {
          "output_type": "display_data",
          "data": {
            "text/plain": [
              "<Figure size 640x480 with 1 Axes>"
            ],
            "image/png": "[encoded data removed]"
          },
          "metadata": {}
        },
        {
          "output_type": "display_data",
          "data": {
            "text/plain": [
              "<Figure size 640x480 with 1 Axes>"
            ],
            "image/png": "[encoded data removed]"
          },
          "metadata": {}
        }
      ],
      "source": [
        "from statsmodels.graphics.tsaplots import plot_acf , plot_pacf\n",
        "acf_original = plot_acf (xmry_train)\n",
        "pacf_original = plot_pacf(xmry_train)"
      ]
    },
    {
      "cell_type": "code",
      "execution_count": null,
      "metadata": {
        "id": "lk6QkZgwuiaR",
        "colab": {
          "base_uri": "https://localhost:8080/"
        },
        "outputId": "11d56224-27bc-43f8-dc3b-f1bd698833b6"
      },
      "outputs": [
        {
          "output_type": "stream",
          "name": "stdout",
          "text": [
            "p - value : 0.0 \n"
          ]
        }
      ],
      "source": [
        "from statsmodels.tsa.stattools import adfuller\n",
        "adf_test = adfuller( xmry_train )\n",
        "print ( f'p - value : { adf_test[1]} ')"
      ]
    },
    {
      "cell_type": "code",
      "execution_count": null,
      "metadata": {
        "id": "21vp_GBUuiaS",
        "colab": {
          "base_uri": "https://localhost:8080/"
        },
        "outputId": "58491e29-f845-457b-c675-73ecee4ba6b2"
      },
      "outputs": [
        {
          "output_type": "stream",
          "name": "stderr",
          "text": [
            "/usr/local/lib/python3.10/dist-packages/statsmodels/tsa/base/tsa_model.py:473: ValueWarning: An unsupported index was provided and will be ignored when e.g. forecasting.\n",
            "  self._init_dates(dates, freq)\n",
            "/usr/local/lib/python3.10/dist-packages/statsmodels/tsa/base/tsa_model.py:473: ValueWarning: An unsupported index was provided and will be ignored when e.g. forecasting.\n",
            "  self._init_dates(dates, freq)\n",
            "/usr/local/lib/python3.10/dist-packages/statsmodels/tsa/base/tsa_model.py:473: ValueWarning: An unsupported index was provided and will be ignored when e.g. forecasting.\n",
            "  self._init_dates(dates, freq)\n"
          ]
        },
        {
          "output_type": "stream",
          "name": "stdout",
          "text": [
            "                               SARIMAX Results                                \n",
            "==============================================================================\n",
            "Dep. Variable:                  Close   No. Observations:                 1732\n",
            "Model:                 ARIMA(2, 1, 0)   Log Likelihood                 233.161\n",
            "Date:                Sun, 05 May 2024   AIC                           -460.323\n",
            "Time:                        15:12:51   BIC                           -443.953\n",
            "Sample:                             0   HQIC                          -454.268\n",
            "                               - 1732                                         \n",
            "Covariance Type:                  opg                                         \n",
            "==============================================================================\n",
            "                 coef    std err          z      P>|z|      [0.025      0.975]\n",
            "------------------------------------------------------------------------------\n",
            "ar.L1         -0.6735      0.022    -31.101      0.000      -0.716      -0.631\n",
            "ar.L2         -0.3442      0.023    -15.138      0.000      -0.389      -0.300\n",
            "sigma2         0.0447      0.001     33.318      0.000       0.042       0.047\n",
            "===================================================================================\n",
            "Ljung-Box (L1) (Q):                  15.04   Jarque-Bera (JB):               134.59\n",
            "Prob(Q):                              0.00   Prob(JB):                         0.00\n",
            "Heteroskedasticity (H):               1.02   Skew:                             0.62\n",
            "Prob(H) (two-sided):                  0.78   Kurtosis:                         3.57\n",
            "===================================================================================\n",
            "\n",
            "Warnings:\n",
            "[1] Covariance matrix calculated using the outer product of gradients (complex-step).\n"
          ]
        }
      ],
      "source": [
        "from statsmodels.tsa.arima.model import ARIMA\n",
        "model_xmr = ARIMA(xmry_train, order=(2,1,0))\n",
        "model_fit_xmr=model_xmr.fit()\n",
        "print(model_fit_xmr.summary())"
      ]
    },
    {
      "cell_type": "code",
      "execution_count": null,
      "metadata": {
        "id": "niHGXuDTuiaS",
        "colab": {
          "base_uri": "https://localhost:8080/"
        },
        "outputId": "797e9cae-b798-4eec-9008-2bde7d56ee1b"
      },
      "outputs": [
        {
          "output_type": "stream",
          "name": "stdout",
          "text": [
            "Requirement already satisfied: pmdarima in /usr/local/lib/python3.10/dist-packages (2.0.4)\n",
            "Requirement already satisfied: joblib>=0.11 in /usr/local/lib/python3.10/dist-packages (from pmdarima) (1.4.0)\n",
            "Requirement already satisfied: Cython!=0.29.18,!=0.29.31,>=0.29 in /usr/local/lib/python3.10/dist-packages (from pmdarima) (3.0.10)\n",
            "Requirement already satisfied: numpy>=1.21.2 in /usr/local/lib/python3.10/dist-packages (from pmdarima) (1.25.2)\n",
            "Requirement already satisfied: pandas>=0.19 in /usr/local/lib/python3.10/dist-packages (from pmdarima) (2.0.3)\n",
            "Requirement already satisfied: scikit-learn>=0.22 in /usr/local/lib/python3.10/dist-packages (from pmdarima) (1.2.2)\n",
            "Requirement already satisfied: scipy>=1.3.2 in /usr/local/lib/python3.10/dist-packages (from pmdarima) (1.11.4)\n",
            "Requirement already satisfied: statsmodels>=0.13.2 in /usr/local/lib/python3.10/dist-packages (from pmdarima) (0.14.2)\n",
            "Requirement already satisfied: urllib3 in /usr/local/lib/python3.10/dist-packages (from pmdarima) (2.0.7)\n",
            "Requirement already satisfied: setuptools!=50.0.0,>=38.6.0 in /usr/local/lib/python3.10/dist-packages (from pmdarima) (67.7.2)\n",
            "Requirement already satisfied: packaging>=17.1 in /usr/local/lib/python3.10/dist-packages (from pmdarima) (24.0)\n",
            "Requirement already satisfied: python-dateutil>=2.8.2 in /usr/local/lib/python3.10/dist-packages (from pandas>=0.19->pmdarima) (2.8.2)\n",
            "Requirement already satisfied: pytz>=2020.1 in /usr/local/lib/python3.10/dist-packages (from pandas>=0.19->pmdarima) (2023.4)\n",
            "Requirement already satisfied: tzdata>=2022.1 in /usr/local/lib/python3.10/dist-packages (from pandas>=0.19->pmdarima) (2024.1)\n",
            "Requirement already satisfied: threadpoolctl>=2.0.0 in /usr/local/lib/python3.10/dist-packages (from scikit-learn>=0.22->pmdarima) (3.5.0)\n",
            "Requirement already satisfied: patsy>=0.5.6 in /usr/local/lib/python3.10/dist-packages (from statsmodels>=0.13.2->pmdarima) (0.5.6)\n",
            "Requirement already satisfied: six in /usr/local/lib/python3.10/dist-packages (from patsy>=0.5.6->statsmodels>=0.13.2->pmdarima) (1.16.0)\n"
          ]
        }
      ],
      "source": [
        "pip install pmdarima"
      ]
    },
    {
      "cell_type": "code",
      "execution_count": null,
      "metadata": {
        "id": "dwEQPtOTuiaS",
        "colab": {
          "base_uri": "https://localhost:8080/",
          "height": 75
        },
        "outputId": "c9ec931d-6429-4afb-cf26-d300f5d9f805"
      },
      "outputs": [
        {
          "output_type": "execute_result",
          "data": {
            "text/plain": [
              "ARIMA(order=(5, 0, 0), scoring_args={}, suppress_warnings=True,\n",
              "      with_intercept=False)"
            ],
            "text/html": [
              "<style>#sk-container-id-4 {color: black;background-color: white;}#sk-container-id-4 pre{padding: 0;}#sk-container-id-4 div.sk-toggleable {background-color: white;}#sk-container-id-4 label.sk-toggleable__label {cursor: pointer;display: block;width: 100%;margin-bottom: 0;padding: 0.3em;box-sizing: border-box;text-align: center;}#sk-container-id-4 label.sk-toggleable__label-arrow:before {content: \"▸\";float: left;margin-right: 0.25em;color: #696969;}#sk-container-id-4 label.sk-toggleable__label-arrow:hover:before {color: black;}#sk-container-id-4 div.sk-estimator:hover label.sk-toggleable__label-arrow:before {color: black;}#sk-container-id-4 div.sk-toggleable__content {max-height: 0;max-width: 0;overflow: hidden;text-align: left;background-color: #f0f8ff;}#sk-container-id-4 div.sk-toggleable__content pre {margin: 0.2em;color: black;border-radius: 0.25em;background-color: #f0f8ff;}#sk-container-id-4 input.sk-toggleable__control:checked~div.sk-toggleable__content {max-height: 200px;max-width: 100%;overflow: auto;}#sk-container-id-4 input.sk-toggleable__control:checked~label.sk-toggleable__label-arrow:before {content: \"▾\";}#sk-container-id-4 div.sk-estimator input.sk-toggleable__control:checked~label.sk-toggleable__label {background-color: #d4ebff;}#sk-container-id-4 div.sk-label input.sk-toggleable__control:checked~label.sk-toggleable__label {background-color: #d4ebff;}#sk-container-id-4 input.sk-hidden--visually {border: 0;clip: rect(1px 1px 1px 1px);clip: rect(1px, 1px, 1px, 1px);height: 1px;margin: -1px;overflow: hidden;padding: 0;position: absolute;width: 1px;}#sk-container-id-4 div.sk-estimator {font-family: monospace;background-color: #f0f8ff;border: 1px dotted black;border-radius: 0.25em;box-sizing: border-box;margin-bottom: 0.5em;}#sk-container-id-4 div.sk-estimator:hover {background-color: #d4ebff;}#sk-container-id-4 div.sk-parallel-item::after {content: \"\";width: 100%;border-bottom: 1px solid gray;flex-grow: 1;}#sk-container-id-4 div.sk-label:hover label.sk-toggleable__label {background-color: #d4ebff;}#sk-container-id-4 div.sk-serial::before {content: \"\";position: absolute;border-left: 1px solid gray;box-sizing: border-box;top: 0;bottom: 0;left: 50%;z-index: 0;}#sk-container-id-4 div.sk-serial {display: flex;flex-direction: column;align-items: center;background-color: white;padding-right: 0.2em;padding-left: 0.2em;position: relative;}#sk-container-id-4 div.sk-item {position: relative;z-index: 1;}#sk-container-id-4 div.sk-parallel {display: flex;align-items: stretch;justify-content: center;background-color: white;position: relative;}#sk-container-id-4 div.sk-item::before, #sk-container-id-4 div.sk-parallel-item::before {content: \"\";position: absolute;border-left: 1px solid gray;box-sizing: border-box;top: 0;bottom: 0;left: 50%;z-index: -1;}#sk-container-id-4 div.sk-parallel-item {display: flex;flex-direction: column;z-index: 1;position: relative;background-color: white;}#sk-container-id-4 div.sk-parallel-item:first-child::after {align-self: flex-end;width: 50%;}#sk-container-id-4 div.sk-parallel-item:last-child::after {align-self: flex-start;width: 50%;}#sk-container-id-4 div.sk-parallel-item:only-child::after {width: 0;}#sk-container-id-4 div.sk-dashed-wrapped {border: 1px dashed gray;margin: 0 0.4em 0.5em 0.4em;box-sizing: border-box;padding-bottom: 0.4em;background-color: white;}#sk-container-id-4 div.sk-label label {font-family: monospace;font-weight: bold;display: inline-block;line-height: 1.2em;}#sk-container-id-4 div.sk-label-container {text-align: center;}#sk-container-id-4 div.sk-container {/* jupyter's `normalize.less` sets `[hidden] { display: none; }` but bootstrap.min.css set `[hidden] { display: none !important; }` so we also need the `!important` here to be able to override the default hidden behavior on the sphinx rendered scikit-learn.org. See: https://github.com/scikit-learn/scikit-learn/issues/21755 */display: inline-block !important;position: relative;}#sk-container-id-4 div.sk-text-repr-fallback {display: none;}</style><div id=\"sk-container-id-4\" class=\"sk-top-container\"><div class=\"sk-text-repr-fallback\"><pre> ARIMA(5,0,0)(0,0,0)[0]          </pre><b>In a Jupyter environment, please rerun this cell to show the HTML representation or trust the notebook. <br />On GitHub, the HTML representation is unable to render, please try loading this page with nbviewer.org.</b></div><div class=\"sk-container\" hidden><div class=\"sk-item\"><div class=\"sk-estimator sk-toggleable\"><input class=\"sk-toggleable__control sk-hidden--visually\" id=\"sk-estimator-id-4\" type=\"checkbox\" checked><label for=\"sk-estimator-id-4\" class=\"sk-toggleable__label sk-toggleable__label-arrow\">ARIMA</label><div class=\"sk-toggleable__content\"><pre> ARIMA(5,0,0)(0,0,0)[0]          </pre></div></div></div></div></div>"
            ]
          },
          "metadata": {},
          "execution_count": 75
        }
      ],
      "source": [
        "import pmdarima as pm\n",
        "auto_arima = pm.auto_arima( xmrx_train , stepwise = False , seasonal = False )\n",
        "auto_arima"
      ]
    },
    {
      "cell_type": "code",
      "execution_count": null,
      "metadata": {
        "id": "sBX5nfXFuiaT",
        "colab": {
          "base_uri": "https://localhost:8080/",
          "height": 494
        },
        "outputId": "5ca816fb-9108-4bfc-d87e-06e770afa0c3"
      },
      "outputs": [
        {
          "output_type": "execute_result",
          "data": {
            "text/plain": [
              "<class 'statsmodels.iolib.summary.Summary'>\n",
              "\"\"\"\n",
              "                               SARIMAX Results                                \n",
              "==============================================================================\n",
              "Dep. Variable:                      y   No. Observations:                 1732\n",
              "Model:               SARIMAX(5, 0, 0)   Log Likelihood                 329.202\n",
              "Date:                Sun, 05 May 2024   AIC                           -646.404\n",
              "Time:                        15:13:58   BIC                           -613.662\n",
              "Sample:                             0   HQIC                          -634.294\n",
              "                               - 1732                                         \n",
              "Covariance Type:                  opg                                         \n",
              "==============================================================================\n",
              "                 coef    std err          z      P>|z|      [0.025      0.975]\n",
              "------------------------------------------------------------------------------\n",
              "ar.L1          0.1823      0.024      7.546      0.000       0.135       0.230\n",
              "ar.L2          0.1844      0.024      7.582      0.000       0.137       0.232\n",
              "ar.L3          0.1970      0.024      8.065      0.000       0.149       0.245\n",
              "ar.L4          0.2100      0.023      9.191      0.000       0.165       0.255\n",
              "ar.L5          0.1329      0.024      5.640      0.000       0.087       0.179\n",
              "sigma2         0.0400      0.001     34.406      0.000       0.038       0.042\n",
              "===================================================================================\n",
              "Ljung-Box (L1) (Q):                   1.94   Jarque-Bera (JB):               232.95\n",
              "Prob(Q):                              0.16   Prob(JB):                         0.00\n",
              "Heteroskedasticity (H):               1.04   Skew:                             0.78\n",
              "Prob(H) (two-sided):                  0.64   Kurtosis:                         3.88\n",
              "===================================================================================\n",
              "\n",
              "Warnings:\n",
              "[1] Covariance matrix calculated using the outer product of gradients (complex-step).\n",
              "\"\"\""
            ],
            "text/html": [
              "<table class=\"simpletable\">\n",
              "<caption>SARIMAX Results</caption>\n",
              "<tr>\n",
              "  <th>Dep. Variable:</th>           <td>y</td>        <th>  No. Observations:  </th>   <td>1732</td>  \n",
              "</tr>\n",
              "<tr>\n",
              "  <th>Model:</th>           <td>SARIMAX(5, 0, 0)</td> <th>  Log Likelihood     </th>  <td>329.202</td>\n",
              "</tr>\n",
              "<tr>\n",
              "  <th>Date:</th>            <td>Sun, 05 May 2024</td> <th>  AIC                </th> <td>-646.404</td>\n",
              "</tr>\n",
              "<tr>\n",
              "  <th>Time:</th>                <td>15:13:58</td>     <th>  BIC                </th> <td>-613.662</td>\n",
              "</tr>\n",
              "<tr>\n",
              "  <th>Sample:</th>                  <td>0</td>        <th>  HQIC               </th> <td>-634.294</td>\n",
              "</tr>\n",
              "<tr>\n",
              "  <th></th>                      <td> - 1732</td>     <th>                     </th>     <td> </td>   \n",
              "</tr>\n",
              "<tr>\n",
              "  <th>Covariance Type:</th>        <td>opg</td>       <th>                     </th>     <td> </td>   \n",
              "</tr>\n",
              "</table>\n",
              "<table class=\"simpletable\">\n",
              "<tr>\n",
              "     <td></td>       <th>coef</th>     <th>std err</th>      <th>z</th>      <th>P>|z|</th>  <th>[0.025</th>    <th>0.975]</th>  \n",
              "</tr>\n",
              "<tr>\n",
              "  <th>ar.L1</th>  <td>    0.1823</td> <td>    0.024</td> <td>    7.546</td> <td> 0.000</td> <td>    0.135</td> <td>    0.230</td>\n",
              "</tr>\n",
              "<tr>\n",
              "  <th>ar.L2</th>  <td>    0.1844</td> <td>    0.024</td> <td>    7.582</td> <td> 0.000</td> <td>    0.137</td> <td>    0.232</td>\n",
              "</tr>\n",
              "<tr>\n",
              "  <th>ar.L3</th>  <td>    0.1970</td> <td>    0.024</td> <td>    8.065</td> <td> 0.000</td> <td>    0.149</td> <td>    0.245</td>\n",
              "</tr>\n",
              "<tr>\n",
              "  <th>ar.L4</th>  <td>    0.2100</td> <td>    0.023</td> <td>    9.191</td> <td> 0.000</td> <td>    0.165</td> <td>    0.255</td>\n",
              "</tr>\n",
              "<tr>\n",
              "  <th>ar.L5</th>  <td>    0.1329</td> <td>    0.024</td> <td>    5.640</td> <td> 0.000</td> <td>    0.087</td> <td>    0.179</td>\n",
              "</tr>\n",
              "<tr>\n",
              "  <th>sigma2</th> <td>    0.0400</td> <td>    0.001</td> <td>   34.406</td> <td> 0.000</td> <td>    0.038</td> <td>    0.042</td>\n",
              "</tr>\n",
              "</table>\n",
              "<table class=\"simpletable\">\n",
              "<tr>\n",
              "  <th>Ljung-Box (L1) (Q):</th>     <td>1.94</td> <th>  Jarque-Bera (JB):  </th> <td>232.95</td>\n",
              "</tr>\n",
              "<tr>\n",
              "  <th>Prob(Q):</th>                <td>0.16</td> <th>  Prob(JB):          </th>  <td>0.00</td> \n",
              "</tr>\n",
              "<tr>\n",
              "  <th>Heteroskedasticity (H):</th> <td>1.04</td> <th>  Skew:              </th>  <td>0.78</td> \n",
              "</tr>\n",
              "<tr>\n",
              "  <th>Prob(H) (two-sided):</th>    <td>0.64</td> <th>  Kurtosis:          </th>  <td>3.88</td> \n",
              "</tr>\n",
              "</table><br/><br/>Warnings:<br/>[1] Covariance matrix calculated using the outer product of gradients (complex-step)."
            ],
            "text/latex": "\\begin{center}\n\\begin{tabular}{lclc}\n\\toprule\n\\textbf{Dep. Variable:}          &        y         & \\textbf{  No. Observations:  } &    1732     \\\\\n\\textbf{Model:}                  & SARIMAX(5, 0, 0) & \\textbf{  Log Likelihood     } &  329.202    \\\\\n\\textbf{Date:}                   & Sun, 05 May 2024 & \\textbf{  AIC                } &  -646.404   \\\\\n\\textbf{Time:}                   &     15:13:58     & \\textbf{  BIC                } &  -613.662   \\\\\n\\textbf{Sample:}                 &        0         & \\textbf{  HQIC               } &  -634.294   \\\\\n\\textbf{}                        &      - 1732      & \\textbf{                     } &             \\\\\n\\textbf{Covariance Type:}        &       opg        & \\textbf{                     } &             \\\\\n\\bottomrule\n\\end{tabular}\n\\begin{tabular}{lcccccc}\n                & \\textbf{coef} & \\textbf{std err} & \\textbf{z} & \\textbf{P$> |$z$|$} & \\textbf{[0.025} & \\textbf{0.975]}  \\\\\n\\midrule\n\\textbf{ar.L1}  &       0.1823  &        0.024     &     7.546  &         0.000        &        0.135    &        0.230     \\\\\n\\textbf{ar.L2}  &       0.1844  &        0.024     &     7.582  &         0.000        &        0.137    &        0.232     \\\\\n\\textbf{ar.L3}  &       0.1970  &        0.024     &     8.065  &         0.000        &        0.149    &        0.245     \\\\\n\\textbf{ar.L4}  &       0.2100  &        0.023     &     9.191  &         0.000        &        0.165    &        0.255     \\\\\n\\textbf{ar.L5}  &       0.1329  &        0.024     &     5.640  &         0.000        &        0.087    &        0.179     \\\\\n\\textbf{sigma2} &       0.0400  &        0.001     &    34.406  &         0.000        &        0.038    &        0.042     \\\\\n\\bottomrule\n\\end{tabular}\n\\begin{tabular}{lclc}\n\\textbf{Ljung-Box (L1) (Q):}     & 1.94 & \\textbf{  Jarque-Bera (JB):  } & 232.95  \\\\\n\\textbf{Prob(Q):}                & 0.16 & \\textbf{  Prob(JB):          } &  0.00   \\\\\n\\textbf{Heteroskedasticity (H):} & 1.04 & \\textbf{  Skew:              } &  0.78   \\\\\n\\textbf{Prob(H) (two-sided):}    & 0.64 & \\textbf{  Kurtosis:          } &  3.88   \\\\\n\\bottomrule\n\\end{tabular}\n%\\caption{SARIMAX Results}\n\\end{center}\n\nWarnings: \\newline\n [1] Covariance matrix calculated using the outer product of gradients (complex-step)."
          },
          "metadata": {},
          "execution_count": 76
        }
      ],
      "source": [
        "auto_arima.summary()"
      ]
    },
    {
      "cell_type": "code",
      "execution_count": null,
      "metadata": {
        "id": "qafVU3qQuiaT",
        "colab": {
          "base_uri": "https://localhost:8080/"
        },
        "outputId": "4bf72fec-ee70-4a2d-cc14-15307f7707dc"
      },
      "outputs": [
        {
          "output_type": "stream",
          "name": "stderr",
          "text": [
            "/usr/local/lib/python3.10/dist-packages/statsmodels/tsa/base/tsa_model.py:836: ValueWarning: No supported index is available. Prediction results will be given with an integer index beginning at `start`.\n",
            "  return get_prediction_index(\n",
            "/usr/local/lib/python3.10/dist-packages/statsmodels/tsa/base/tsa_model.py:836: FutureWarning: No supported index is available. In the next version, calling this method in a model without a supported index will result in an exception.\n",
            "  return get_prediction_index(\n"
          ]
        }
      ],
      "source": [
        "xmry_pred = auto_arima.predict(len(xmrx_test))"
      ]
    },
    {
      "cell_type": "code",
      "execution_count": null,
      "metadata": {
        "id": "rqslPh49uiaU",
        "colab": {
          "base_uri": "https://localhost:8080/"
        },
        "outputId": "f6f336f0-3f1d-46d0-9d43-a6435cdd8fb5"
      },
      "outputs": [
        {
          "output_type": "execute_result",
          "data": {
            "text/plain": [
              "1732    2.199850e-01\n",
              "1733    2.554325e-01\n",
              "1734    2.678724e-01\n",
              "1735    2.569377e-01\n",
              "1736    2.475268e-01\n",
              "            ...     \n",
              "2161    1.784685e-07\n",
              "2162    1.726343e-07\n",
              "2163    1.669907e-07\n",
              "2164    1.615317e-07\n",
              "2165    1.562511e-07\n",
              "Length: 434, dtype: float64"
            ]
          },
          "metadata": {},
          "execution_count": 78
        }
      ],
      "source": [
        "xmry_pred"
      ]
    },
    {
      "cell_type": "code",
      "execution_count": null,
      "metadata": {
        "id": "EPGMh_pHuiaV",
        "colab": {
          "base_uri": "https://localhost:8080/"
        },
        "outputId": "9fb09826-e24f-4060-9246-b73cf909d7a9"
      },
      "outputs": [
        {
          "output_type": "stream",
          "name": "stdout",
          "text": [
            "MAE = 0.24575725463369205\n"
          ]
        }
      ],
      "source": [
        "#xmr\n",
        "#mean_absolute_error\n",
        "from sklearn.metrics import mean_absolute_error\n",
        "print('MAE =',mean_absolute_error(xmry_test,xmry_pred))"
      ]
    },
    {
      "cell_type": "code",
      "execution_count": null,
      "metadata": {
        "id": "s1hUoIDCuiaV",
        "colab": {
          "base_uri": "https://localhost:8080/"
        },
        "outputId": "56576124-958e-4373-90ca-ec012dd76208"
      },
      "outputs": [
        {
          "output_type": "stream",
          "name": "stdout",
          "text": [
            "MAPE = 0.9504273649264481\n"
          ]
        }
      ],
      "source": [
        "#mean_absolute_percentage_error\n",
        "from sklearn.metrics import mean_absolute_percentage_error\n",
        "print('MAPE =',mean_absolute_percentage_error(xmry_test,xmry_pred))"
      ]
    },
    {
      "cell_type": "code",
      "execution_count": null,
      "metadata": {
        "id": "y67JTn-TuiaW",
        "colab": {
          "base_uri": "https://localhost:8080/"
        },
        "outputId": "cfb66745-21ac-4f58-eaf8-8e0c86c8ce32"
      },
      "outputs": [
        {
          "output_type": "stream",
          "name": "stdout",
          "text": [
            "MSE= 0.08987913549383762\n"
          ]
        }
      ],
      "source": [
        "#mean_squared_error\n",
        "from sklearn.metrics import mean_squared_error\n",
        "print('MSE=',mean_squared_error(xmry_test,xmry_pred))"
      ]
    },
    {
      "cell_type": "code",
      "execution_count": null,
      "metadata": {
        "id": "KS3yGAkQuiaW",
        "colab": {
          "base_uri": "https://localhost:8080/"
        },
        "outputId": "66e03bd9-4d41-4797-a573-73cfb88c256a"
      },
      "outputs": [
        {
          "output_type": "stream",
          "name": "stdout",
          "text": [
            "RMSE= 0.29979849148025683\n"
          ]
        }
      ],
      "source": [
        "#root mean Squared error\n",
        "print('RMSE=',np.sqrt(mean_squared_error(xmry_test,xmry_pred)))"
      ]
    }
  ],
  "metadata": {
    "colab": {
      "provenance": []
    },
    "kernelspec": {
      "display_name": "Python 3",
      "name": "python3"
    },
    "language_info": {
      "name": "python"
    }
  },
  "nbformat": 4,
  "nbformat_minor": 0
}